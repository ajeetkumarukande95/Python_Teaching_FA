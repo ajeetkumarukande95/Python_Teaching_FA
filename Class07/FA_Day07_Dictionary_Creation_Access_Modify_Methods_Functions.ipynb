{
  "nbformat": 4,
  "nbformat_minor": 0,
  "metadata": {
    "colab": {
      "provenance": []
    },
    "kernelspec": {
      "name": "python3",
      "display_name": "Python 3"
    },
    "language_info": {
      "name": "python"
    }
  },
  "cells": [
    {
      "cell_type": "code",
      "execution_count": 1,
      "metadata": {
        "colab": {
          "base_uri": "https://localhost:8080/"
        },
        "id": "qPeqX-lEqQmK",
        "outputId": "92232aa5-1282-42b8-9f8c-0cbe90f76e92"
      },
      "outputs": [
        {
          "output_type": "stream",
          "name": "stdout",
          "text": [
            "<class 'dict'>\n",
            "{}\n"
          ]
        }
      ],
      "source": [
        "# creation of decitionary\n",
        "# Empty dictionary\n",
        "d1 = {}\n",
        "print(type(d1))\n",
        "print(d1)"
      ]
    },
    {
      "cell_type": "code",
      "source": [
        "# Using dict() constructor\n",
        "d2 = dict()\n",
        "print(type(d2))\n",
        "print(d2)"
      ],
      "metadata": {
        "colab": {
          "base_uri": "https://localhost:8080/"
        },
        "id": "_J9g6lYNqRhx",
        "outputId": "33100f3b-bb33-4e65-b50a-f0dfb07a1eac"
      },
      "execution_count": 2,
      "outputs": [
        {
          "output_type": "stream",
          "name": "stdout",
          "text": [
            "<class 'dict'>\n",
            "{}\n"
          ]
        }
      ]
    },
    {
      "cell_type": "code",
      "source": [
        "# Dictionary with one key-value pair\n",
        "d3 = {'Name':'Virat'}\n",
        "d3"
      ],
      "metadata": {
        "colab": {
          "base_uri": "https://localhost:8080/"
        },
        "id": "aNRXLmhfqRnT",
        "outputId": "9d3df182-daa3-4ac7-cf7b-5b7e368d1cf8"
      },
      "execution_count": 3,
      "outputs": [
        {
          "output_type": "execute_result",
          "data": {
            "text/plain": [
              "{'Name': 'Virat'}"
            ]
          },
          "metadata": {},
          "execution_count": 3
        }
      ]
    },
    {
      "cell_type": "code",
      "source": [
        "len(d3)"
      ],
      "metadata": {
        "colab": {
          "base_uri": "https://localhost:8080/"
        },
        "id": "xIO1uGixqRqz",
        "outputId": "727021cc-0658-4662-94d5-e6c2ce7a3e7b"
      },
      "execution_count": 4,
      "outputs": [
        {
          "output_type": "execute_result",
          "data": {
            "text/plain": [
              "1"
            ]
          },
          "metadata": {},
          "execution_count": 4
        }
      ]
    },
    {
      "cell_type": "code",
      "source": [
        "# Dictionary with multiple key-value pairs\n",
        "d4 = {'Name':'Virat','Age':38}\n",
        "d4"
      ],
      "metadata": {
        "colab": {
          "base_uri": "https://localhost:8080/"
        },
        "id": "pKotv2HaqRsC",
        "outputId": "a5f59953-faf9-43c0-bd42-847955a1a20a"
      },
      "execution_count": 5,
      "outputs": [
        {
          "output_type": "execute_result",
          "data": {
            "text/plain": [
              "{'Name': 'Virat', 'Age': 38}"
            ]
          },
          "metadata": {},
          "execution_count": 5
        }
      ]
    },
    {
      "cell_type": "code",
      "source": [
        "# Using curly brackets {}\n",
        "d5 = {'Name':'Virat','Age':38,'score':183}\n",
        "d5"
      ],
      "metadata": {
        "colab": {
          "base_uri": "https://localhost:8080/"
        },
        "id": "tIKu23pPqSEl",
        "outputId": "30e9aa9b-79a8-4537-86bf-51f434b63b12"
      },
      "execution_count": 6,
      "outputs": [
        {
          "output_type": "execute_result",
          "data": {
            "text/plain": [
              "{'Name': 'Virat', 'Age': 38, 'score': 183}"
            ]
          },
          "metadata": {},
          "execution_count": 6
        }
      ]
    },
    {
      "cell_type": "code",
      "source": [
        "len(d5)"
      ],
      "metadata": {
        "colab": {
          "base_uri": "https://localhost:8080/"
        },
        "id": "k5NRmltFqSLe",
        "outputId": "5399db97-c01f-4bbc-99ae-f6a96ad9d6b0"
      },
      "execution_count": 7,
      "outputs": [
        {
          "output_type": "execute_result",
          "data": {
            "text/plain": [
              "3"
            ]
          },
          "metadata": {},
          "execution_count": 7
        }
      ]
    },
    {
      "cell_type": "code",
      "source": [
        "# access the dictionary items\n",
        "\n",
        "# dict[key]\n",
        "# dict.get(Key)\n",
        "\n"
      ],
      "metadata": {
        "id": "eI6P6AQuq61L"
      },
      "execution_count": null,
      "outputs": []
    },
    {
      "cell_type": "code",
      "source": [
        "d5 = {'Name':'Virat','Age':38,'score':183}\n",
        "d5"
      ],
      "metadata": {
        "colab": {
          "base_uri": "https://localhost:8080/"
        },
        "id": "pL8cnNktq7XS",
        "outputId": "3e9945bd-e899-4bd2-9182-270e462503c3"
      },
      "execution_count": 8,
      "outputs": [
        {
          "output_type": "execute_result",
          "data": {
            "text/plain": [
              "{'Name': 'Virat', 'Age': 38, 'score': 183}"
            ]
          },
          "metadata": {},
          "execution_count": 8
        }
      ]
    },
    {
      "cell_type": "code",
      "source": [
        "d5['Name']"
      ],
      "metadata": {
        "colab": {
          "base_uri": "https://localhost:8080/",
          "height": 35
        },
        "id": "4ki44-ILq7ZT",
        "outputId": "61568317-1262-4021-dcde-12e63e540433"
      },
      "execution_count": 9,
      "outputs": [
        {
          "output_type": "execute_result",
          "data": {
            "text/plain": [
              "'Virat'"
            ],
            "application/vnd.google.colaboratory.intrinsic+json": {
              "type": "string"
            }
          },
          "metadata": {},
          "execution_count": 9
        }
      ]
    },
    {
      "cell_type": "code",
      "source": [
        "d5['Age']"
      ],
      "metadata": {
        "colab": {
          "base_uri": "https://localhost:8080/"
        },
        "id": "YThaU8u6q7c9",
        "outputId": "9b4035fb-2dc6-4e51-ad30-d11ed5383278"
      },
      "execution_count": 10,
      "outputs": [
        {
          "output_type": "execute_result",
          "data": {
            "text/plain": [
              "38"
            ]
          },
          "metadata": {},
          "execution_count": 10
        }
      ]
    },
    {
      "cell_type": "code",
      "source": [
        "# get()\n",
        "# Using get() method\n",
        "d5.get('Name')"
      ],
      "metadata": {
        "colab": {
          "base_uri": "https://localhost:8080/",
          "height": 35
        },
        "id": "qwBJwj52rSKQ",
        "outputId": "0ac988e5-a83c-496b-ca2f-0d9c6d2af36b"
      },
      "execution_count": 11,
      "outputs": [
        {
          "output_type": "execute_result",
          "data": {
            "text/plain": [
              "'Virat'"
            ],
            "application/vnd.google.colaboratory.intrinsic+json": {
              "type": "string"
            }
          },
          "metadata": {},
          "execution_count": 11
        }
      ]
    },
    {
      "cell_type": "code",
      "source": [
        "d5.get('Age')"
      ],
      "metadata": {
        "colab": {
          "base_uri": "https://localhost:8080/"
        },
        "id": "4EeywaoUrYJ0",
        "outputId": "377e4acc-049c-407a-f56c-e33b54925717"
      },
      "execution_count": 12,
      "outputs": [
        {
          "output_type": "execute_result",
          "data": {
            "text/plain": [
              "38"
            ]
          },
          "metadata": {},
          "execution_count": 12
        }
      ]
    },
    {
      "cell_type": "code",
      "source": [
        "# dictionary functions\n",
        "# 1.key()\n",
        "# 2.values()\n",
        "# 3.items()"
      ],
      "metadata": {
        "id": "oPHi5hvgraYe"
      },
      "execution_count": null,
      "outputs": []
    },
    {
      "cell_type": "code",
      "source": [
        "d5"
      ],
      "metadata": {
        "colab": {
          "base_uri": "https://localhost:8080/"
        },
        "id": "wB7UzogYrhJV",
        "outputId": "524fe947-9c8b-4509-e0f6-17c3fa4b0df4"
      },
      "execution_count": 13,
      "outputs": [
        {
          "output_type": "execute_result",
          "data": {
            "text/plain": [
              "{'Name': 'Virat', 'Age': 38, 'score': 183}"
            ]
          },
          "metadata": {},
          "execution_count": 13
        }
      ]
    },
    {
      "cell_type": "code",
      "source": [
        "# print(d5.keys())  # Output: dict_keys(['Name', 'Age', 'Score'])\n",
        "print(d5.keys())"
      ],
      "metadata": {
        "colab": {
          "base_uri": "https://localhost:8080/"
        },
        "id": "CkfxGRymrhM3",
        "outputId": "92a78790-2235-440e-dbf6-3838a2beedbc"
      },
      "execution_count": 14,
      "outputs": [
        {
          "output_type": "stream",
          "name": "stdout",
          "text": [
            "dict_keys(['Name', 'Age', 'score'])\n"
          ]
        }
      ]
    },
    {
      "cell_type": "code",
      "source": [
        "# print(d5.values()) # Output: dict_values(['Virat', 38, 183])\n",
        "print(d5.values())"
      ],
      "metadata": {
        "colab": {
          "base_uri": "https://localhost:8080/"
        },
        "id": "YB6fY8utrhTe",
        "outputId": "42e28cec-f785-48d5-a1c8-109ce4d67628"
      },
      "execution_count": 135,
      "outputs": [
        {
          "output_type": "stream",
          "name": "stdout",
          "text": [
            "dict_values(['Virat', 38, 183])\n"
          ]
        }
      ]
    },
    {
      "cell_type": "code",
      "source": [
        "# print(d5.items())  # Output: dict_items([('Name', 'Virat'), ('Age', 38), ('Score', 183)])\n",
        "print(d5.items())"
      ],
      "metadata": {
        "colab": {
          "base_uri": "https://localhost:8080/"
        },
        "id": "bGsF8KbvrhWB",
        "outputId": "da876a27-0586-4e5b-a61b-4205b9c96d2b"
      },
      "execution_count": 136,
      "outputs": [
        {
          "output_type": "stream",
          "name": "stdout",
          "text": [
            "dict_items([('Name', 'Virat'), ('Age', 38), ('score', 183)])\n"
          ]
        }
      ]
    },
    {
      "cell_type": "code",
      "source": [
        "# access keys from dict\n",
        "for key in d5:\n",
        "  print('Key is:',key)"
      ],
      "metadata": {
        "colab": {
          "base_uri": "https://localhost:8080/"
        },
        "id": "vsGEAiRrr94r",
        "outputId": "108c609a-db53-4a26-ace5-91f2104944df"
      },
      "execution_count": 18,
      "outputs": [
        {
          "output_type": "stream",
          "name": "stdout",
          "text": [
            "Key is: Name\n",
            "Key is: Age\n",
            "Key is: score\n"
          ]
        }
      ]
    },
    {
      "cell_type": "code",
      "source": [
        "# access keys from dict\n",
        "for key in d5.keys():\n",
        "  print('Key are:',key)"
      ],
      "metadata": {
        "colab": {
          "base_uri": "https://localhost:8080/"
        },
        "id": "cl9zP7Nnr97D",
        "outputId": "4fa58519-d32b-4913-948e-6862b37e4498"
      },
      "execution_count": 21,
      "outputs": [
        {
          "output_type": "stream",
          "name": "stdout",
          "text": [
            "Key are: Name\n",
            "Key are: Age\n",
            "Key are: score\n"
          ]
        }
      ]
    },
    {
      "cell_type": "code",
      "source": [
        "for value in d5.values():\n",
        "  print(\"Value are:\",value)"
      ],
      "metadata": {
        "colab": {
          "base_uri": "https://localhost:8080/"
        },
        "id": "uKMorwUrsWJE",
        "outputId": "f165f767-d01f-4e14-cdd7-39675fa4e987"
      },
      "execution_count": 20,
      "outputs": [
        {
          "output_type": "stream",
          "name": "stdout",
          "text": [
            "Value are: Virat\n",
            "Value are: 38\n",
            "Value are: 183\n"
          ]
        }
      ]
    },
    {
      "cell_type": "code",
      "source": [
        "for key,value in d5.items():\n",
        "  print(f\"{key}-{value}\")"
      ],
      "metadata": {
        "colab": {
          "base_uri": "https://localhost:8080/"
        },
        "id": "ct4b_b57sWbH",
        "outputId": "6b2fc968-98ea-46cc-8e51-aecef183711e"
      },
      "execution_count": 23,
      "outputs": [
        {
          "output_type": "stream",
          "name": "stdout",
          "text": [
            "Name-Virat\n",
            "Age-38\n",
            "score-183\n"
          ]
        }
      ]
    },
    {
      "cell_type": "code",
      "source": [
        "for key,value in d5.items():\n",
        "  print(f\"{key}:{value}\")"
      ],
      "metadata": {
        "colab": {
          "base_uri": "https://localhost:8080/"
        },
        "id": "N_VkCy42r9-U",
        "outputId": "3cd4a37b-2409-4ae6-e2b3-a1263e0cd256"
      },
      "execution_count": 24,
      "outputs": [
        {
          "output_type": "stream",
          "name": "stdout",
          "text": [
            "Name:Virat\n",
            "Age:38\n",
            "score:183\n"
          ]
        }
      ]
    },
    {
      "cell_type": "code",
      "source": [
        "# check items in dictionary"
      ],
      "metadata": {
        "id": "mK9-sN9Cs59S"
      },
      "execution_count": null,
      "outputs": []
    },
    {
      "cell_type": "code",
      "source": [
        "if 'Name' in d5:\n",
        "  print('Name key is present')\n",
        "else:\n",
        "  print('Name key is not present')"
      ],
      "metadata": {
        "colab": {
          "base_uri": "https://localhost:8080/"
        },
        "id": "z3gHJZSis_i7",
        "outputId": "e70dc49b-9c3c-4d90-b0a2-d9acc7d17905"
      },
      "execution_count": 27,
      "outputs": [
        {
          "output_type": "stream",
          "name": "stdout",
          "text": [
            "Name key is present\n"
          ]
        }
      ]
    },
    {
      "cell_type": "code",
      "source": [
        "if 'name' in d5:  # false (case-sensitive)\n",
        "  print('name key is present')\n",
        "else:\n",
        "  print(\"name key is not present\")"
      ],
      "metadata": {
        "colab": {
          "base_uri": "https://localhost:8080/"
        },
        "id": "ZqhKQlfzs_lh",
        "outputId": "988947db-48b3-4a56-b9bb-e97c34f7e358"
      },
      "execution_count": 29,
      "outputs": [
        {
          "output_type": "stream",
          "name": "stdout",
          "text": [
            "name key is not present\n"
          ]
        }
      ]
    },
    {
      "cell_type": "code",
      "source": [
        "# change items of dictionary\n"
      ],
      "metadata": {
        "id": "GTThht53s_oJ"
      },
      "execution_count": null,
      "outputs": []
    },
    {
      "cell_type": "code",
      "source": [
        "employee_data = {'Employee_Name':'Sagar',\"Salary\":50000,'Age':30,'Company':'Capgemini'}\n",
        "employee_data"
      ],
      "metadata": {
        "colab": {
          "base_uri": "https://localhost:8080/"
        },
        "id": "cFR3CZgLs_rR",
        "outputId": "b25968e2-0f0f-41ac-e3ae-5894222b0841"
      },
      "execution_count": 56,
      "outputs": [
        {
          "output_type": "execute_result",
          "data": {
            "text/plain": [
              "{'Employee_Name': 'Sagar', 'Salary': 50000, 'Age': 30, 'Company': 'Capgemini'}"
            ]
          },
          "metadata": {},
          "execution_count": 56
        }
      ]
    },
    {
      "cell_type": "code",
      "source": [
        "employee_data['Salary']"
      ],
      "metadata": {
        "colab": {
          "base_uri": "https://localhost:8080/"
        },
        "id": "jJiUM1Qys_un",
        "outputId": "d5e965ad-e896-4a3b-b0e7-4027c4e6de5c"
      },
      "execution_count": 57,
      "outputs": [
        {
          "output_type": "execute_result",
          "data": {
            "text/plain": [
              "50000"
            ]
          },
          "metadata": {},
          "execution_count": 57
        }
      ]
    },
    {
      "cell_type": "code",
      "source": [
        "employee_data['Salary'] = 60000\n"
      ],
      "metadata": {
        "id": "c2q_JGxEuBTK"
      },
      "execution_count": 58,
      "outputs": []
    },
    {
      "cell_type": "code",
      "source": [
        "employee_data"
      ],
      "metadata": {
        "colab": {
          "base_uri": "https://localhost:8080/"
        },
        "id": "Wq7FHSiHuBVw",
        "outputId": "042fe8c2-3833-4fee-8bc2-2ec7df6229e0"
      },
      "execution_count": 59,
      "outputs": [
        {
          "output_type": "execute_result",
          "data": {
            "text/plain": [
              "{'Employee_Name': 'Sagar', 'Salary': 60000, 'Age': 30, 'Company': 'Capgemini'}"
            ]
          },
          "metadata": {},
          "execution_count": 59
        }
      ]
    },
    {
      "cell_type": "code",
      "source": [
        "employee_data['Company']"
      ],
      "metadata": {
        "colab": {
          "base_uri": "https://localhost:8080/",
          "height": 35
        },
        "id": "zfYVTXnVuBaM",
        "outputId": "419eb211-7bf5-45a4-a1a3-91d518e2633b"
      },
      "execution_count": 35,
      "outputs": [
        {
          "output_type": "execute_result",
          "data": {
            "text/plain": [
              "'Capgemini'"
            ],
            "application/vnd.google.colaboratory.intrinsic+json": {
              "type": "string"
            }
          },
          "metadata": {},
          "execution_count": 35
        }
      ]
    },
    {
      "cell_type": "code",
      "source": [
        "employee_data['Company'] = 'Tiger Analytics'"
      ],
      "metadata": {
        "id": "DYWIeJt8uBdP"
      },
      "execution_count": 60,
      "outputs": []
    },
    {
      "cell_type": "code",
      "source": [
        "employee_data"
      ],
      "metadata": {
        "colab": {
          "base_uri": "https://localhost:8080/"
        },
        "id": "DJ1gzOabuBgQ",
        "outputId": "d6793a0b-c923-4509-a6be-8dd92a0bed6b"
      },
      "execution_count": 61,
      "outputs": [
        {
          "output_type": "execute_result",
          "data": {
            "text/plain": [
              "{'Employee_Name': 'Sagar',\n",
              " 'Salary': 60000,\n",
              " 'Age': 30,\n",
              " 'Company': 'Tiger Analytics'}"
            ]
          },
          "metadata": {},
          "execution_count": 61
        }
      ]
    },
    {
      "cell_type": "code",
      "source": [
        "# update()"
      ],
      "metadata": {
        "id": "PvD9GsxBuXS_"
      },
      "execution_count": null,
      "outputs": []
    },
    {
      "cell_type": "code",
      "source": [
        "employee_data"
      ],
      "metadata": {
        "colab": {
          "base_uri": "https://localhost:8080/"
        },
        "id": "bGZwbw_rucPy",
        "outputId": "0813799b-87a9-4417-e68e-3efa28346613"
      },
      "execution_count": 62,
      "outputs": [
        {
          "output_type": "execute_result",
          "data": {
            "text/plain": [
              "{'Employee_Name': 'Sagar',\n",
              " 'Salary': 60000,\n",
              " 'Age': 30,\n",
              " 'Company': 'Tiger Analytics'}"
            ]
          },
          "metadata": {},
          "execution_count": 62
        }
      ]
    },
    {
      "cell_type": "code",
      "source": [
        "new_dict = {'Salary':70000,'Age':31,'Company':'TCS'}\n",
        "new_dict"
      ],
      "metadata": {
        "colab": {
          "base_uri": "https://localhost:8080/"
        },
        "id": "cybgQ12qucVt",
        "outputId": "15121ad1-b8c6-4684-f3ad-6bcbb6355994"
      },
      "execution_count": 64,
      "outputs": [
        {
          "output_type": "execute_result",
          "data": {
            "text/plain": [
              "{'Salary': 70000, 'Age': 31, 'Company': 'TCS'}"
            ]
          },
          "metadata": {},
          "execution_count": 64
        }
      ]
    },
    {
      "cell_type": "code",
      "source": [
        "employee_data.update(new_dict)"
      ],
      "metadata": {
        "id": "4GxvEGEkuruH"
      },
      "execution_count": 65,
      "outputs": []
    },
    {
      "cell_type": "code",
      "source": [
        "employee_data"
      ],
      "metadata": {
        "colab": {
          "base_uri": "https://localhost:8080/"
        },
        "id": "5HyVZHLwuuhY",
        "outputId": "bf28b6f2-45eb-4713-fa0b-8cd6ebaf9925"
      },
      "execution_count": 66,
      "outputs": [
        {
          "output_type": "execute_result",
          "data": {
            "text/plain": [
              "{'Employee_Name': 'Sagar', 'Salary': 70000, 'Age': 31, 'Company': 'TCS'}"
            ]
          },
          "metadata": {},
          "execution_count": 66
        }
      ]
    },
    {
      "cell_type": "code",
      "source": [
        "employee_data.update({\"Company\":\"Accenture\"})"
      ],
      "metadata": {
        "id": "WWrKCpN8uukN"
      },
      "execution_count": 67,
      "outputs": []
    },
    {
      "cell_type": "code",
      "source": [
        "employee_data"
      ],
      "metadata": {
        "colab": {
          "base_uri": "https://localhost:8080/"
        },
        "id": "6ts_GJynuunv",
        "outputId": "eb4115fa-1ea5-4048-f974-2522915bf806"
      },
      "execution_count": 68,
      "outputs": [
        {
          "output_type": "execute_result",
          "data": {
            "text/plain": [
              "{'Employee_Name': 'Sagar', 'Salary': 70000, 'Age': 31, 'Company': 'Accenture'}"
            ]
          },
          "metadata": {},
          "execution_count": 68
        }
      ]
    },
    {
      "cell_type": "code",
      "source": [
        "employee_data.update({\"Emp_id\":\"1\"})\n",
        "employee_data"
      ],
      "metadata": {
        "colab": {
          "base_uri": "https://localhost:8080/"
        },
        "id": "BIYMXmMAv4pj",
        "outputId": "3d4a2f5b-a04b-48c2-cc9b-1f12ddcde4af"
      },
      "execution_count": 69,
      "outputs": [
        {
          "output_type": "execute_result",
          "data": {
            "text/plain": [
              "{'Employee_Name': 'Sagar',\n",
              " 'Salary': 70000,\n",
              " 'Age': 31,\n",
              " 'Company': 'Accenture',\n",
              " 'Emp_id': '1'}"
            ]
          },
          "metadata": {},
          "execution_count": 69
        }
      ]
    },
    {
      "cell_type": "code",
      "source": [
        "# remove the items from dict\n",
        "# 1.pop()\n",
        "# 2.popitem()\n",
        "# 3.clear()\n",
        "# 4 del"
      ],
      "metadata": {
        "id": "b6ISjfJ3wB5s"
      },
      "execution_count": null,
      "outputs": []
    },
    {
      "cell_type": "code",
      "source": [
        "# pop\n",
        "# pop() - Removes specific key-value pair"
      ],
      "metadata": {
        "id": "nPssPKLawKN1"
      },
      "execution_count": null,
      "outputs": []
    },
    {
      "cell_type": "code",
      "source": [
        "employee_data"
      ],
      "metadata": {
        "colab": {
          "base_uri": "https://localhost:8080/"
        },
        "id": "dNe5OdpAwKR6",
        "outputId": "c9f4a278-0096-489f-b0db-1dac0d1fc1d3"
      },
      "execution_count": 70,
      "outputs": [
        {
          "output_type": "execute_result",
          "data": {
            "text/plain": [
              "{'Employee_Name': 'Sagar',\n",
              " 'Salary': 70000,\n",
              " 'Age': 31,\n",
              " 'Company': 'Accenture',\n",
              " 'Emp_id': '1'}"
            ]
          },
          "metadata": {},
          "execution_count": 70
        }
      ]
    },
    {
      "cell_type": "code",
      "source": [
        "employee_data.pop()"
      ],
      "metadata": {
        "colab": {
          "base_uri": "https://localhost:8080/",
          "height": 141
        },
        "id": "ci-MTl_iwKVK",
        "outputId": "8e0980dd-762f-41a9-a75d-c4f917dad808"
      },
      "execution_count": 71,
      "outputs": [
        {
          "output_type": "error",
          "ename": "TypeError",
          "evalue": "pop expected at least 1 argument, got 0",
          "traceback": [
            "\u001b[0;31m---------------------------------------------------------------------------\u001b[0m",
            "\u001b[0;31mTypeError\u001b[0m                                 Traceback (most recent call last)",
            "\u001b[0;32m<ipython-input-71-ba41f95bffdf>\u001b[0m in \u001b[0;36m<cell line: 0>\u001b[0;34m()\u001b[0m\n\u001b[0;32m----> 1\u001b[0;31m \u001b[0memployee_data\u001b[0m\u001b[0;34m.\u001b[0m\u001b[0mpop\u001b[0m\u001b[0;34m(\u001b[0m\u001b[0;34m)\u001b[0m\u001b[0;34m\u001b[0m\u001b[0;34m\u001b[0m\u001b[0m\n\u001b[0m",
            "\u001b[0;31mTypeError\u001b[0m: pop expected at least 1 argument, got 0"
          ]
        }
      ]
    },
    {
      "cell_type": "code",
      "source": [
        "employee_data.pop('Emp_id')"
      ],
      "metadata": {
        "colab": {
          "base_uri": "https://localhost:8080/",
          "height": 35
        },
        "id": "zyUeXbqUwqL4",
        "outputId": "c78085c5-5f80-4543-9aa4-1cf2058c6afa"
      },
      "execution_count": 72,
      "outputs": [
        {
          "output_type": "execute_result",
          "data": {
            "text/plain": [
              "'1'"
            ],
            "application/vnd.google.colaboratory.intrinsic+json": {
              "type": "string"
            }
          },
          "metadata": {},
          "execution_count": 72
        }
      ]
    },
    {
      "cell_type": "code",
      "source": [
        "employee_data"
      ],
      "metadata": {
        "colab": {
          "base_uri": "https://localhost:8080/"
        },
        "id": "g2qqtBU2wqO1",
        "outputId": "dac8514f-b313-4977-ce52-a5509c9dafcf"
      },
      "execution_count": 73,
      "outputs": [
        {
          "output_type": "execute_result",
          "data": {
            "text/plain": [
              "{'Employee_Name': 'Sagar', 'Salary': 70000, 'Age': 31, 'Company': 'Accenture'}"
            ]
          },
          "metadata": {},
          "execution_count": 73
        }
      ]
    },
    {
      "cell_type": "code",
      "source": [
        "employee_data.pop('Company')"
      ],
      "metadata": {
        "colab": {
          "base_uri": "https://localhost:8080/",
          "height": 35
        },
        "id": "vP-w8TqAwqRu",
        "outputId": "fa4f1757-0dd1-497a-db2e-e64097f9dcda"
      },
      "execution_count": 74,
      "outputs": [
        {
          "output_type": "execute_result",
          "data": {
            "text/plain": [
              "'Accenture'"
            ],
            "application/vnd.google.colaboratory.intrinsic+json": {
              "type": "string"
            }
          },
          "metadata": {},
          "execution_count": 74
        }
      ]
    },
    {
      "cell_type": "code",
      "source": [
        "employee_data"
      ],
      "metadata": {
        "colab": {
          "base_uri": "https://localhost:8080/"
        },
        "id": "-uGYZGt8wqV4",
        "outputId": "9e34887a-1cfc-4807-b349-c83733535377"
      },
      "execution_count": 75,
      "outputs": [
        {
          "output_type": "execute_result",
          "data": {
            "text/plain": [
              "{'Employee_Name': 'Sagar', 'Salary': 70000, 'Age': 31}"
            ]
          },
          "metadata": {},
          "execution_count": 75
        }
      ]
    },
    {
      "cell_type": "code",
      "source": [
        "# popitem()\n",
        "# remove last / last inserted item  -default\n",
        "# popitem() - Removes the last inserted key-value pair"
      ],
      "metadata": {
        "id": "dJ6pujFbxEsn"
      },
      "execution_count": null,
      "outputs": []
    },
    {
      "cell_type": "code",
      "source": [
        "employee_data"
      ],
      "metadata": {
        "colab": {
          "base_uri": "https://localhost:8080/"
        },
        "id": "Btc-5GrJxOqC",
        "outputId": "2637af19-e95a-4822-8ec6-0a679357f7dc"
      },
      "execution_count": 76,
      "outputs": [
        {
          "output_type": "execute_result",
          "data": {
            "text/plain": [
              "{'Employee_Name': 'Sagar', 'Salary': 70000, 'Age': 31}"
            ]
          },
          "metadata": {},
          "execution_count": 76
        }
      ]
    },
    {
      "cell_type": "code",
      "source": [
        "employee_data.popitem()"
      ],
      "metadata": {
        "colab": {
          "base_uri": "https://localhost:8080/"
        },
        "id": "dchbUj33xOto",
        "outputId": "b8eb4b1f-09bf-468b-ffb4-03b30b7a7ffc"
      },
      "execution_count": 77,
      "outputs": [
        {
          "output_type": "execute_result",
          "data": {
            "text/plain": [
              "('Age', 31)"
            ]
          },
          "metadata": {},
          "execution_count": 77
        }
      ]
    },
    {
      "cell_type": "code",
      "source": [
        "employee_data"
      ],
      "metadata": {
        "colab": {
          "base_uri": "https://localhost:8080/"
        },
        "id": "HhBXwc6VxOyY",
        "outputId": "ce0441b6-1a3b-4012-e2f6-6e1e2dcf42de"
      },
      "execution_count": 78,
      "outputs": [
        {
          "output_type": "execute_result",
          "data": {
            "text/plain": [
              "{'Employee_Name': 'Sagar', 'Salary': 70000}"
            ]
          },
          "metadata": {},
          "execution_count": 78
        }
      ]
    },
    {
      "cell_type": "code",
      "source": [
        "employee_data.popitem()"
      ],
      "metadata": {
        "colab": {
          "base_uri": "https://localhost:8080/"
        },
        "id": "lWhTtbDlxa3l",
        "outputId": "4c57d8f7-4543-4995-e3b5-a6467d8a54f4"
      },
      "execution_count": 79,
      "outputs": [
        {
          "output_type": "execute_result",
          "data": {
            "text/plain": [
              "('Salary', 70000)"
            ]
          },
          "metadata": {},
          "execution_count": 79
        }
      ]
    },
    {
      "cell_type": "code",
      "source": [
        "employee_data"
      ],
      "metadata": {
        "colab": {
          "base_uri": "https://localhost:8080/"
        },
        "id": "u-QahCaDxc6p",
        "outputId": "df0c0444-3f03-4ad1-c8ad-903b5e48b0bf"
      },
      "execution_count": 80,
      "outputs": [
        {
          "output_type": "execute_result",
          "data": {
            "text/plain": [
              "{'Employee_Name': 'Sagar'}"
            ]
          },
          "metadata": {},
          "execution_count": 80
        }
      ]
    },
    {
      "cell_type": "code",
      "source": [
        "employee_data.popitem()"
      ],
      "metadata": {
        "colab": {
          "base_uri": "https://localhost:8080/"
        },
        "id": "LXnCJ7pCxedx",
        "outputId": "8b6c95ca-afaf-4b47-8e4e-91bda1d332be"
      },
      "execution_count": 81,
      "outputs": [
        {
          "output_type": "execute_result",
          "data": {
            "text/plain": [
              "('Employee_Name', 'Sagar')"
            ]
          },
          "metadata": {},
          "execution_count": 81
        }
      ]
    },
    {
      "cell_type": "code",
      "source": [
        "employee_data"
      ],
      "metadata": {
        "colab": {
          "base_uri": "https://localhost:8080/"
        },
        "id": "GVyOsd0mxja1",
        "outputId": "90005f78-3c5b-4c9d-d6a6-ca4aa79f4a57"
      },
      "execution_count": 82,
      "outputs": [
        {
          "output_type": "execute_result",
          "data": {
            "text/plain": [
              "{}"
            ]
          },
          "metadata": {},
          "execution_count": 82
        }
      ]
    },
    {
      "cell_type": "code",
      "source": [
        "employee_data = {'Employee_Name': 'Sagar', 'Salary': 70000, 'Age': 31, 'Company': 'Accenture'}\n"
      ],
      "metadata": {
        "id": "m0QokPBnxjel"
      },
      "execution_count": 83,
      "outputs": []
    },
    {
      "cell_type": "code",
      "source": [
        "employee_data.popitem('Salary')"
      ],
      "metadata": {
        "colab": {
          "base_uri": "https://localhost:8080/",
          "height": 141
        },
        "id": "j6LqwcKbxpCr",
        "outputId": "a008c189-9907-4508-b55d-d6dd66b0c80b"
      },
      "execution_count": 84,
      "outputs": [
        {
          "output_type": "error",
          "ename": "TypeError",
          "evalue": "dict.popitem() takes no arguments (1 given)",
          "traceback": [
            "\u001b[0;31m---------------------------------------------------------------------------\u001b[0m",
            "\u001b[0;31mTypeError\u001b[0m                                 Traceback (most recent call last)",
            "\u001b[0;32m<ipython-input-84-1ab114db2366>\u001b[0m in \u001b[0;36m<cell line: 0>\u001b[0;34m()\u001b[0m\n\u001b[0;32m----> 1\u001b[0;31m \u001b[0memployee_data\u001b[0m\u001b[0;34m.\u001b[0m\u001b[0mpopitem\u001b[0m\u001b[0;34m(\u001b[0m\u001b[0;34m'Salary'\u001b[0m\u001b[0;34m)\u001b[0m\u001b[0;34m\u001b[0m\u001b[0;34m\u001b[0m\u001b[0m\n\u001b[0m",
            "\u001b[0;31mTypeError\u001b[0m: dict.popitem() takes no arguments (1 given)"
          ]
        }
      ]
    },
    {
      "cell_type": "code",
      "source": [
        "# clear()   return empyt dictionary\n",
        "# clear() - Removes all elements"
      ],
      "metadata": {
        "id": "UQOTi91pxu5W"
      },
      "execution_count": null,
      "outputs": []
    },
    {
      "cell_type": "code",
      "source": [
        "employee_data"
      ],
      "metadata": {
        "colab": {
          "base_uri": "https://localhost:8080/"
        },
        "id": "2pFSULkax27s",
        "outputId": "71c05cce-df21-4461-abe3-932dcb88c664"
      },
      "execution_count": 85,
      "outputs": [
        {
          "output_type": "execute_result",
          "data": {
            "text/plain": [
              "{'Employee_Name': 'Sagar', 'Salary': 70000, 'Age': 31, 'Company': 'Accenture'}"
            ]
          },
          "metadata": {},
          "execution_count": 85
        }
      ]
    },
    {
      "cell_type": "code",
      "source": [
        "employee_data.clear()"
      ],
      "metadata": {
        "id": "sQLqobXux2_A"
      },
      "execution_count": 86,
      "outputs": []
    },
    {
      "cell_type": "code",
      "source": [
        "employee_data"
      ],
      "metadata": {
        "colab": {
          "base_uri": "https://localhost:8080/"
        },
        "id": "NvTbqf25x3CX",
        "outputId": "80aa4be0-a51b-4787-a471-aabb72c7f273"
      },
      "execution_count": 87,
      "outputs": [
        {
          "output_type": "execute_result",
          "data": {
            "text/plain": [
              "{}"
            ]
          },
          "metadata": {},
          "execution_count": 87
        }
      ]
    },
    {
      "cell_type": "code",
      "source": [
        "employee_data = {'Employee_Name': 'Sagar', 'Salary': 70000, 'Age': 31, 'Company': 'Accenture'}"
      ],
      "metadata": {
        "id": "34wDFXhlx3FO"
      },
      "execution_count": 88,
      "outputs": []
    },
    {
      "cell_type": "code",
      "source": [
        "employee_data"
      ],
      "metadata": {
        "colab": {
          "base_uri": "https://localhost:8080/"
        },
        "id": "a3Ul_s-Tx3Jb",
        "outputId": "075a9cde-0507-433f-c7db-d0d448cfe54b"
      },
      "execution_count": 89,
      "outputs": [
        {
          "output_type": "execute_result",
          "data": {
            "text/plain": [
              "{'Employee_Name': 'Sagar', 'Salary': 70000, 'Age': 31, 'Company': 'Accenture'}"
            ]
          },
          "metadata": {},
          "execution_count": 89
        }
      ]
    },
    {
      "cell_type": "code",
      "source": [
        "employee_data.clear('Salary')"
      ],
      "metadata": {
        "colab": {
          "base_uri": "https://localhost:8080/",
          "height": 141
        },
        "id": "k3b03PniyGiQ",
        "outputId": "7c316404-43ff-4ed4-a7c7-2d18da7cf9c6"
      },
      "execution_count": 90,
      "outputs": [
        {
          "output_type": "error",
          "ename": "TypeError",
          "evalue": "dict.clear() takes no arguments (1 given)",
          "traceback": [
            "\u001b[0;31m---------------------------------------------------------------------------\u001b[0m",
            "\u001b[0;31mTypeError\u001b[0m                                 Traceback (most recent call last)",
            "\u001b[0;32m<ipython-input-90-c57b85838564>\u001b[0m in \u001b[0;36m<cell line: 0>\u001b[0;34m()\u001b[0m\n\u001b[0;32m----> 1\u001b[0;31m \u001b[0memployee_data\u001b[0m\u001b[0;34m.\u001b[0m\u001b[0mclear\u001b[0m\u001b[0;34m(\u001b[0m\u001b[0;34m'Salary'\u001b[0m\u001b[0;34m)\u001b[0m\u001b[0;34m\u001b[0m\u001b[0;34m\u001b[0m\u001b[0m\n\u001b[0m",
            "\u001b[0;31mTypeError\u001b[0m: dict.clear() takes no arguments (1 given)"
          ]
        }
      ]
    },
    {
      "cell_type": "code",
      "source": [
        "# del # delete the dictionary with key-value and its structure from memory\n",
        "employee_data\n",
        "# print(employee_data)  # This will throw an error"
      ],
      "metadata": {
        "colab": {
          "base_uri": "https://localhost:8080/"
        },
        "id": "qw-dxkXNyOMy",
        "outputId": "f0f63d1a-c097-460e-f2e6-6ddcaa4d2c25"
      },
      "execution_count": 91,
      "outputs": [
        {
          "output_type": "execute_result",
          "data": {
            "text/plain": [
              "{'Employee_Name': 'Sagar', 'Salary': 70000, 'Age': 31, 'Company': 'Accenture'}"
            ]
          },
          "metadata": {},
          "execution_count": 91
        }
      ]
    },
    {
      "cell_type": "code",
      "source": [
        "del employee_data"
      ],
      "metadata": {
        "id": "ennoI4CfyOQQ"
      },
      "execution_count": 92,
      "outputs": []
    },
    {
      "cell_type": "code",
      "source": [
        "employee_data"
      ],
      "metadata": {
        "colab": {
          "base_uri": "https://localhost:8080/",
          "height": 141
        },
        "id": "507PepEUyOUc",
        "outputId": "4ee125a3-d837-41e4-f344-65cb10cc9893"
      },
      "execution_count": 93,
      "outputs": [
        {
          "output_type": "error",
          "ename": "NameError",
          "evalue": "name 'employee_data' is not defined",
          "traceback": [
            "\u001b[0;31m---------------------------------------------------------------------------\u001b[0m",
            "\u001b[0;31mNameError\u001b[0m                                 Traceback (most recent call last)",
            "\u001b[0;32m<ipython-input-93-b716b75228b9>\u001b[0m in \u001b[0;36m<cell line: 0>\u001b[0;34m()\u001b[0m\n\u001b[0;32m----> 1\u001b[0;31m \u001b[0memployee_data\u001b[0m\u001b[0;34m\u001b[0m\u001b[0;34m\u001b[0m\u001b[0m\n\u001b[0m",
            "\u001b[0;31mNameError\u001b[0m: name 'employee_data' is not defined"
          ]
        }
      ]
    },
    {
      "cell_type": "code",
      "source": [
        "# nested dictionary"
      ],
      "metadata": {
        "id": "GusiqqDZyK3_"
      },
      "execution_count": null,
      "outputs": []
    },
    {
      "cell_type": "code",
      "source": [
        "class_1 = {'Virat':{'Eng':83,\n",
        "                    'Math':73,\n",
        "                    'Sci':82},\n",
        "           'Rohit':{'Eng':81,\n",
        "                    'Math':83,\n",
        "                    'Sci':88},\n",
        "           'Rahul':{'Eng':89,\n",
        "                    'Math':81,\n",
        "                    'Sci':80}}\n",
        "class_1"
      ],
      "metadata": {
        "colab": {
          "base_uri": "https://localhost:8080/"
        },
        "id": "84d7l3vTyiwu",
        "outputId": "a0c3102b-2441-4432-b2d3-77832b2c0c0b"
      },
      "execution_count": 94,
      "outputs": [
        {
          "output_type": "execute_result",
          "data": {
            "text/plain": [
              "{'Virat': {'Eng': 83, 'Math': 73, 'Sci': 82},\n",
              " 'Rohit': {'Eng': 81, 'Math': 83, 'Sci': 88},\n",
              " 'Rahul': {'Eng': 89, 'Math': 81, 'Sci': 80}}"
            ]
          },
          "metadata": {},
          "execution_count": 94
        }
      ]
    },
    {
      "cell_type": "code",
      "source": [
        "class_1['Virat']"
      ],
      "metadata": {
        "colab": {
          "base_uri": "https://localhost:8080/"
        },
        "id": "iJrlFKekyi0g",
        "outputId": "d24b6ac1-b7d0-4cda-e2ab-7a033d11371f"
      },
      "execution_count": 95,
      "outputs": [
        {
          "output_type": "execute_result",
          "data": {
            "text/plain": [
              "{'Eng': 83, 'Math': 73, 'Sci': 82}"
            ]
          },
          "metadata": {},
          "execution_count": 95
        }
      ]
    },
    {
      "cell_type": "code",
      "source": [
        "class_1['Virat']['Eng']"
      ],
      "metadata": {
        "colab": {
          "base_uri": "https://localhost:8080/"
        },
        "id": "w0AoBf13yi4L",
        "outputId": "9009c7d2-c247-434c-9d44-309d1cd0b2ea"
      },
      "execution_count": 96,
      "outputs": [
        {
          "output_type": "execute_result",
          "data": {
            "text/plain": [
              "83"
            ]
          },
          "metadata": {},
          "execution_count": 96
        }
      ]
    },
    {
      "cell_type": "code",
      "source": [
        "class_1['Virat']['Math']"
      ],
      "metadata": {
        "colab": {
          "base_uri": "https://localhost:8080/"
        },
        "id": "c0FDLT7Zyi8h",
        "outputId": "7e532e92-341a-422d-cc59-71a1e53f0e74"
      },
      "execution_count": 97,
      "outputs": [
        {
          "output_type": "execute_result",
          "data": {
            "text/plain": [
              "73"
            ]
          },
          "metadata": {},
          "execution_count": 97
        }
      ]
    },
    {
      "cell_type": "code",
      "source": [
        "class_1['Virat']['Sci']"
      ],
      "metadata": {
        "colab": {
          "base_uri": "https://localhost:8080/"
        },
        "id": "ti6-jCmXzcqz",
        "outputId": "0950c41b-8c49-4060-8015-df274fa8a874"
      },
      "execution_count": 98,
      "outputs": [
        {
          "output_type": "execute_result",
          "data": {
            "text/plain": [
              "82"
            ]
          },
          "metadata": {},
          "execution_count": 98
        }
      ]
    },
    {
      "cell_type": "code",
      "source": [
        "class_1['Rohit']"
      ],
      "metadata": {
        "colab": {
          "base_uri": "https://localhost:8080/"
        },
        "id": "RxiAjOJdzd6I",
        "outputId": "f09863d3-ff53-46b6-9d5f-c58e87a30d2a"
      },
      "execution_count": 99,
      "outputs": [
        {
          "output_type": "execute_result",
          "data": {
            "text/plain": [
              "{'Eng': 81, 'Math': 83, 'Sci': 88}"
            ]
          },
          "metadata": {},
          "execution_count": 99
        }
      ]
    },
    {
      "cell_type": "code",
      "source": [
        "class_1['Rohit']['Eng']"
      ],
      "metadata": {
        "colab": {
          "base_uri": "https://localhost:8080/"
        },
        "id": "DysZBFjqziQ2",
        "outputId": "59d91497-97ec-461c-abe4-69e92fabc22a"
      },
      "execution_count": 100,
      "outputs": [
        {
          "output_type": "execute_result",
          "data": {
            "text/plain": [
              "81"
            ]
          },
          "metadata": {},
          "execution_count": 100
        }
      ]
    },
    {
      "cell_type": "code",
      "source": [
        "class_1['Rohit']['Math']"
      ],
      "metadata": {
        "colab": {
          "base_uri": "https://localhost:8080/"
        },
        "id": "HOwIgaeJzk9B",
        "outputId": "48e9c26e-97ad-4b6e-cc58-eb633c45363b"
      },
      "execution_count": 101,
      "outputs": [
        {
          "output_type": "execute_result",
          "data": {
            "text/plain": [
              "83"
            ]
          },
          "metadata": {},
          "execution_count": 101
        }
      ]
    },
    {
      "cell_type": "code",
      "source": [
        "class_1"
      ],
      "metadata": {
        "colab": {
          "base_uri": "https://localhost:8080/"
        },
        "id": "2SLkQpJBzor3",
        "outputId": "a9507f91-7c7b-4ab0-dd29-dcbe8adef77a"
      },
      "execution_count": 102,
      "outputs": [
        {
          "output_type": "execute_result",
          "data": {
            "text/plain": [
              "{'Virat': {'Eng': 83, 'Math': 73, 'Sci': 82},\n",
              " 'Rohit': {'Eng': 81, 'Math': 83, 'Sci': 88},\n",
              " 'Rahul': {'Eng': 89, 'Math': 81, 'Sci': 80}}"
            ]
          },
          "metadata": {},
          "execution_count": 102
        }
      ]
    },
    {
      "cell_type": "code",
      "source": [
        "class_1['Rahul']['Sci']"
      ],
      "metadata": {
        "colab": {
          "base_uri": "https://localhost:8080/"
        },
        "id": "Efencsh-zwVW",
        "outputId": "2a8cd961-c3c4-4df3-af47-3b360bf0bb37"
      },
      "execution_count": 103,
      "outputs": [
        {
          "output_type": "execute_result",
          "data": {
            "text/plain": [
              "80"
            ]
          },
          "metadata": {},
          "execution_count": 103
        }
      ]
    },
    {
      "cell_type": "code",
      "source": [
        "class_1['Rahul']['Sci'] = 90"
      ],
      "metadata": {
        "id": "jbnObl9Xz0q2"
      },
      "execution_count": 104,
      "outputs": []
    },
    {
      "cell_type": "code",
      "source": [
        "class_1"
      ],
      "metadata": {
        "colab": {
          "base_uri": "https://localhost:8080/"
        },
        "id": "q1TXMs9ez3q7",
        "outputId": "89d1ac73-f18c-440a-da1b-acd5486a87ee"
      },
      "execution_count": 105,
      "outputs": [
        {
          "output_type": "execute_result",
          "data": {
            "text/plain": [
              "{'Virat': {'Eng': 83, 'Math': 73, 'Sci': 82},\n",
              " 'Rohit': {'Eng': 81, 'Math': 83, 'Sci': 88},\n",
              " 'Rahul': {'Eng': 89, 'Math': 81, 'Sci': 90}}"
            ]
          },
          "metadata": {},
          "execution_count": 105
        }
      ]
    },
    {
      "cell_type": "code",
      "source": [
        "#\n",
        "sub_name = ['Phy','Che','Math','Eng','Bio']\n",
        "sub_marks =[94,93,91,95,90]\n",
        "\n",
        "# dict{'Phy':93,'Che':94................}"
      ],
      "metadata": {
        "id": "B-OWtwySz4t0"
      },
      "execution_count": 106,
      "outputs": []
    },
    {
      "cell_type": "code",
      "source": [
        "dict1 = dict{sub_name,sub_marks}\n",
        "dict1"
      ],
      "metadata": {
        "colab": {
          "base_uri": "https://localhost:8080/",
          "height": 106
        },
        "id": "GYdccinJz6mA",
        "outputId": "b664e48c-866a-4ebc-8a74-52df7d9e088b"
      },
      "execution_count": 107,
      "outputs": [
        {
          "output_type": "error",
          "ename": "SyntaxError",
          "evalue": "invalid syntax (<ipython-input-107-8c86515b67e9>, line 1)",
          "traceback": [
            "\u001b[0;36m  File \u001b[0;32m\"<ipython-input-107-8c86515b67e9>\"\u001b[0;36m, line \u001b[0;32m1\u001b[0m\n\u001b[0;31m    dict1 = dict{sub_name,sub_marks}\u001b[0m\n\u001b[0m                ^\u001b[0m\n\u001b[0;31mSyntaxError\u001b[0m\u001b[0;31m:\u001b[0m invalid syntax\n"
          ]
        }
      ]
    },
    {
      "cell_type": "code",
      "source": [
        "dict1 = dict(zip(sub_name,sub_marks))\n",
        "dict1"
      ],
      "metadata": {
        "colab": {
          "base_uri": "https://localhost:8080/"
        },
        "id": "zpEEQVvCz6r9",
        "outputId": "7367033d-c83b-45b8-f58d-1de937a2cf4e"
      },
      "execution_count": 108,
      "outputs": [
        {
          "output_type": "execute_result",
          "data": {
            "text/plain": [
              "{'Phy': 93, 'Che': 94, 'Math': 91, 'Eng': 95, 'Bio': 90}"
            ]
          },
          "metadata": {},
          "execution_count": 108
        }
      ]
    },
    {
      "cell_type": "code",
      "source": [
        "d1 = {}\n",
        "for i in sub_name:\n",
        "  for j in sub_marks:\n",
        "    d1[i] = j\n",
        "\n",
        "d1"
      ],
      "metadata": {
        "colab": {
          "base_uri": "https://localhost:8080/"
        },
        "id": "QNwkijAt0uWe",
        "outputId": "f0bcfc69-3a8d-4ab5-850c-8a88b7735a94"
      },
      "execution_count": 110,
      "outputs": [
        {
          "output_type": "execute_result",
          "data": {
            "text/plain": [
              "{'Phy': 90, 'Che': 90, 'Math': 90, 'Eng': 90, 'Bio': 90}"
            ]
          },
          "metadata": {},
          "execution_count": 110
        }
      ]
    },
    {
      "cell_type": "code",
      "source": [
        "sub_name\n"
      ],
      "metadata": {
        "colab": {
          "base_uri": "https://localhost:8080/"
        },
        "id": "ls0GPHTc1wGT",
        "outputId": "405537e2-7938-4d9d-e02d-1ac482261854"
      },
      "execution_count": 111,
      "outputs": [
        {
          "output_type": "execute_result",
          "data": {
            "text/plain": [
              "['Phy', 'Che', 'Math', 'Eng', 'Bio']"
            ]
          },
          "metadata": {},
          "execution_count": 111
        }
      ]
    },
    {
      "cell_type": "code",
      "source": [
        "sub_marks"
      ],
      "metadata": {
        "colab": {
          "base_uri": "https://localhost:8080/"
        },
        "id": "kvQXpf701yrZ",
        "outputId": "bc7924f6-ca8f-44de-b85c-7fbe13463d97"
      },
      "execution_count": 112,
      "outputs": [
        {
          "output_type": "execute_result",
          "data": {
            "text/plain": [
              "[93, 94, 91, 95, 90]"
            ]
          },
          "metadata": {},
          "execution_count": 112
        }
      ]
    },
    {
      "cell_type": "code",
      "source": [
        "d1 = {}\n",
        "for i in range(len(sub_name)):\n",
        "  d1[sub_name[i]] = sub_marks[i]\n",
        "\n",
        "d1"
      ],
      "metadata": {
        "colab": {
          "base_uri": "https://localhost:8080/"
        },
        "id": "vjOLracY1M6c",
        "outputId": "3f732014-dd2c-4710-8b2d-b60660c648b5"
      },
      "execution_count": 114,
      "outputs": [
        {
          "output_type": "execute_result",
          "data": {
            "text/plain": [
              "{'Phy': 93, 'Che': 94, 'Math': 91, 'Eng': 95, 'Bio': 90}"
            ]
          },
          "metadata": {},
          "execution_count": 114
        }
      ]
    },
    {
      "cell_type": "code",
      "source": [
        "dict1 = {}\n",
        "count = 0\n",
        "for key in sub_name:\n",
        "  dict1[key] = sub_marks[count]\n",
        "  count +=1\n",
        "dict1"
      ],
      "metadata": {
        "colab": {
          "base_uri": "https://localhost:8080/"
        },
        "id": "VG1KeZUL1gVl",
        "outputId": "fc29e678-98d4-43dc-a3e4-907d317130d5"
      },
      "execution_count": 115,
      "outputs": [
        {
          "output_type": "execute_result",
          "data": {
            "text/plain": [
              "{'Phy': 93, 'Che': 94, 'Math': 91, 'Eng': 95, 'Bio': 90}"
            ]
          },
          "metadata": {},
          "execution_count": 115
        }
      ]
    },
    {
      "cell_type": "code",
      "source": [
        "# fromkeys()\n",
        "# Using fromkeys() method\n",
        "dict.fromkeys(sub_name)"
      ],
      "metadata": {
        "colab": {
          "base_uri": "https://localhost:8080/"
        },
        "id": "bX0QCxNk2UGg",
        "outputId": "bd02f6b3-859b-4d5a-e7c8-3559a5aaf53d"
      },
      "execution_count": 116,
      "outputs": [
        {
          "output_type": "execute_result",
          "data": {
            "text/plain": [
              "{'Phy': None, 'Che': None, 'Math': None, 'Eng': None, 'Bio': None}"
            ]
          },
          "metadata": {},
          "execution_count": 116
        }
      ]
    },
    {
      "cell_type": "code",
      "source": [
        "value = 86\n",
        "dict.fromkeys(sub_name,value)"
      ],
      "metadata": {
        "colab": {
          "base_uri": "https://localhost:8080/"
        },
        "id": "aRN4R5-h2rdI",
        "outputId": "45976f0a-5195-402a-d108-322c18984b60"
      },
      "execution_count": 117,
      "outputs": [
        {
          "output_type": "execute_result",
          "data": {
            "text/plain": [
              "{'Phy': 86, 'Che': 86, 'Math': 86, 'Eng': 86, 'Bio': 86}"
            ]
          },
          "metadata": {},
          "execution_count": 117
        }
      ]
    },
    {
      "cell_type": "code",
      "source": [
        "dict.fromkeys(sub_name,sub_marks)"
      ],
      "metadata": {
        "colab": {
          "base_uri": "https://localhost:8080/"
        },
        "id": "vHb765pK21dl",
        "outputId": "c2cfecb6-184a-4208-f5e4-1090d51a5393"
      },
      "execution_count": 118,
      "outputs": [
        {
          "output_type": "execute_result",
          "data": {
            "text/plain": [
              "{'Phy': [93, 94, 91, 95, 90],\n",
              " 'Che': [93, 94, 91, 95, 90],\n",
              " 'Math': [93, 94, 91, 95, 90],\n",
              " 'Eng': [93, 94, 91, 95, 90],\n",
              " 'Bio': [93, 94, 91, 95, 90]}"
            ]
          },
          "metadata": {},
          "execution_count": 118
        }
      ]
    },
    {
      "cell_type": "code",
      "source": [
        "dict(zip(sub_name,sub_marks))"
      ],
      "metadata": {
        "colab": {
          "base_uri": "https://localhost:8080/"
        },
        "id": "x7UGt3eU26PH",
        "outputId": "06eceb50-2594-40a0-f25b-ca670bfeff9d"
      },
      "execution_count": 119,
      "outputs": [
        {
          "output_type": "execute_result",
          "data": {
            "text/plain": [
              "{'Phy': 93, 'Che': 94, 'Math': 91, 'Eng': 95, 'Bio': 90}"
            ]
          },
          "metadata": {},
          "execution_count": 119
        }
      ]
    },
    {
      "cell_type": "code",
      "source": [
        "# {1:1,2:4}\n",
        "\n",
        "# 1-10\n",
        "\n",
        "dict1 = {}\n",
        "for i in range(11):\n",
        "  dict1[i] = i**2\n",
        "dict1\n"
      ],
      "metadata": {
        "colab": {
          "base_uri": "https://localhost:8080/"
        },
        "id": "O7b_AWct3Hws",
        "outputId": "2d977b35-a6ca-42ed-b7d5-a1bce6e1925f"
      },
      "execution_count": 120,
      "outputs": [
        {
          "output_type": "execute_result",
          "data": {
            "text/plain": [
              "{0: 0, 1: 1, 2: 4, 3: 9, 4: 16, 5: 25, 6: 36, 7: 49, 8: 64, 9: 81, 10: 100}"
            ]
          },
          "metadata": {},
          "execution_count": 120
        }
      ]
    },
    {
      "cell_type": "code",
      "source": [
        "string = \"Python class first Python class second Python\"\n",
        "\n",
        "for word in string.split():\n",
        "  print(word)"
      ],
      "metadata": {
        "colab": {
          "base_uri": "https://localhost:8080/"
        },
        "id": "bcrQGHVL3g8_",
        "outputId": "671c068b-38ba-47bf-b19a-df344ed1773c"
      },
      "execution_count": 121,
      "outputs": [
        {
          "output_type": "stream",
          "name": "stdout",
          "text": [
            "Python\n",
            "class\n",
            "first\n",
            "Python\n",
            "class\n",
            "second\n",
            "Python\n"
          ]
        }
      ]
    },
    {
      "cell_type": "code",
      "source": [
        "d1 = {}\n",
        "for word in string.split():\n",
        "  d1[word] = string.count(word)\n",
        ""
      ],
      "metadata": {
        "id": "cjoDBNQ938-x"
      },
      "execution_count": 122,
      "outputs": []
    },
    {
      "cell_type": "code",
      "source": [
        "d1"
      ],
      "metadata": {
        "colab": {
          "base_uri": "https://localhost:8080/"
        },
        "id": "V8_bV2Qv4KJc",
        "outputId": "6ddf3f46-e0b6-49b9-de4d-6f83e594c2da"
      },
      "execution_count": 123,
      "outputs": [
        {
          "output_type": "execute_result",
          "data": {
            "text/plain": [
              "{'Python': 3, 'class': 2, 'first': 1, 'second': 1}"
            ]
          },
          "metadata": {},
          "execution_count": 123
        }
      ]
    },
    {
      "cell_type": "code",
      "source": [
        "from re import sub\n",
        "# sort dictionay using keys\n",
        "sub_mark = {'Phy': 86, 'Che': 86, 'Math': 86, 'Eng': 86, 'Bio': 86}\n",
        "sub_mark\n"
      ],
      "metadata": {
        "colab": {
          "base_uri": "https://localhost:8080/"
        },
        "id": "4dYotT5j4KyK",
        "outputId": "cbbc4e87-b3ba-4da3-d3f5-e62866fff753"
      },
      "execution_count": 124,
      "outputs": [
        {
          "output_type": "execute_result",
          "data": {
            "text/plain": [
              "{'Phy': 86, 'Che': 86, 'Math': 86, 'Eng': 86, 'Bio': 86}"
            ]
          },
          "metadata": {},
          "execution_count": 124
        }
      ]
    },
    {
      "cell_type": "code",
      "source": [
        "sub_mark"
      ],
      "metadata": {
        "colab": {
          "base_uri": "https://localhost:8080/"
        },
        "id": "FKWLD6hD4fYU",
        "outputId": "797291fc-407f-4485-fd94-be7d3412844c"
      },
      "execution_count": 126,
      "outputs": [
        {
          "output_type": "execute_result",
          "data": {
            "text/plain": [
              "{'Phy': 86, 'Che': 86, 'Math': 86, 'Eng': 86, 'Bio': 86}"
            ]
          },
          "metadata": {},
          "execution_count": 126
        }
      ]
    },
    {
      "cell_type": "code",
      "source": [
        "sorted(sub_mark)"
      ],
      "metadata": {
        "colab": {
          "base_uri": "https://localhost:8080/"
        },
        "id": "CblC_Zou4f-w",
        "outputId": "465299c7-792b-446f-a899-186fa362db2b"
      },
      "execution_count": 127,
      "outputs": [
        {
          "output_type": "execute_result",
          "data": {
            "text/plain": [
              "['Bio', 'Che', 'Eng', 'Math', 'Phy']"
            ]
          },
          "metadata": {},
          "execution_count": 127
        }
      ]
    },
    {
      "cell_type": "code",
      "source": [
        "sorted(sub_mark.keys())"
      ],
      "metadata": {
        "colab": {
          "base_uri": "https://localhost:8080/"
        },
        "id": "3Y36Lbj74gIC",
        "outputId": "5813dc47-bf04-495f-947f-4fd1df8e1de1"
      },
      "execution_count": 129,
      "outputs": [
        {
          "output_type": "execute_result",
          "data": {
            "text/plain": [
              "['Bio', 'Che', 'Eng', 'Math', 'Phy']"
            ]
          },
          "metadata": {},
          "execution_count": 129
        }
      ]
    },
    {
      "cell_type": "code",
      "source": [
        "sorted(sub_mark.values())"
      ],
      "metadata": {
        "colab": {
          "base_uri": "https://localhost:8080/"
        },
        "id": "ux-KZxfw4gM1",
        "outputId": "b5d3ab75-4338-4956-899b-b634648d5d32"
      },
      "execution_count": 130,
      "outputs": [
        {
          "output_type": "execute_result",
          "data": {
            "text/plain": [
              "[86, 86, 86, 86, 86]"
            ]
          },
          "metadata": {},
          "execution_count": 130
        }
      ]
    },
    {
      "cell_type": "code",
      "source": [
        "sorted(sub_mark.items())"
      ],
      "metadata": {
        "colab": {
          "base_uri": "https://localhost:8080/"
        },
        "id": "30Sht_aR4gQt",
        "outputId": "f859c12f-8073-458f-a269-4541f1fe5e79"
      },
      "execution_count": 131,
      "outputs": [
        {
          "output_type": "execute_result",
          "data": {
            "text/plain": [
              "[('Bio', 86), ('Che', 86), ('Eng', 86), ('Math', 86), ('Phy', 86)]"
            ]
          },
          "metadata": {},
          "execution_count": 131
        }
      ]
    },
    {
      "cell_type": "code",
      "source": [
        "new_dict = {}\n",
        "sorted_key  = sorted(sub_mark.keys())\n",
        "for key in sorted_key:\n",
        "  new_dict[key] = sub_mark[key]"
      ],
      "metadata": {
        "id": "UGpT2mKY46pR"
      },
      "execution_count": 132,
      "outputs": []
    },
    {
      "cell_type": "code",
      "source": [
        "new_dict"
      ],
      "metadata": {
        "colab": {
          "base_uri": "https://localhost:8080/"
        },
        "id": "FFCOMfKs5F8u",
        "outputId": "22322c1b-3312-4f37-add4-cdf31b92770f"
      },
      "execution_count": 133,
      "outputs": [
        {
          "output_type": "execute_result",
          "data": {
            "text/plain": [
              "{'Bio': 86, 'Che': 86, 'Eng': 86, 'Math': 86, 'Phy': 86}"
            ]
          },
          "metadata": {},
          "execution_count": 133
        }
      ]
    },
    {
      "cell_type": "code",
      "source": [],
      "metadata": {
        "id": "SntIMehm5GCz"
      },
      "execution_count": null,
      "outputs": []
    }
  ]
}