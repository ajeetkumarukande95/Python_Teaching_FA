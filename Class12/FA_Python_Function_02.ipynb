{
  "nbformat": 4,
  "nbformat_minor": 0,
  "metadata": {
    "colab": {
      "provenance": []
    },
    "kernelspec": {
      "name": "python3",
      "display_name": "Python 3"
    },
    "language_info": {
      "name": "python"
    }
  },
  "cells": [
    {
      "cell_type": "code",
      "execution_count": null,
      "metadata": {
        "id": "Pg5gkd2_vOlo"
      },
      "outputs": [],
      "source": [
        "\"\"\"\n",
        "# Types of Arguments\n",
        "1.Positional argument\n",
        "2.Default arguments\n",
        "3.Arbitory arguments(variable length args) var args\n",
        "4.keywords arguments"
      ]
    },
    {
      "cell_type": "code",
      "source": [
        "# 1.Postional arguments\n",
        "Number of paramters == no of arguments\n",
        "\n",
        "argumennts that we passsd the functions should be correct positional order\n",
        "\n",
        "\n"
      ],
      "metadata": {
        "id": "qL8dKdDYwo6x"
      },
      "execution_count": null,
      "outputs": []
    },
    {
      "cell_type": "code",
      "source": [
        "def add(num1,num2):  # defining functions\n",
        "  print(f\"Num1 == {num1}, num2 == {num2}\")\n"
      ],
      "metadata": {
        "id": "zN9lGsCmvPMZ"
      },
      "execution_count": null,
      "outputs": []
    },
    {
      "cell_type": "code",
      "source": [
        "add(10,20)   # num1 = 10, num2 = 20"
      ],
      "metadata": {
        "colab": {
          "base_uri": "https://localhost:8080/"
        },
        "id": "KwKHywXovPPN",
        "outputId": "198e15bb-1dcb-480a-f13a-5751620873e3"
      },
      "execution_count": null,
      "outputs": [
        {
          "output_type": "stream",
          "name": "stdout",
          "text": [
            "Num1 == 10, num2 == 20\n"
          ]
        }
      ]
    },
    {
      "cell_type": "code",
      "source": [
        "add(20,10)  # num1 =20, num2 =10"
      ],
      "metadata": {
        "colab": {
          "base_uri": "https://localhost:8080/"
        },
        "id": "qmTK1DELxE5T",
        "outputId": "27d4ccab-85dd-4baf-f011-ede3e74e4196"
      },
      "execution_count": null,
      "outputs": [
        {
          "output_type": "stream",
          "name": "stdout",
          "text": [
            "Num1 == 20, num2 == 10\n"
          ]
        }
      ]
    },
    {
      "cell_type": "code",
      "source": [
        "# 2,Default arguments\n"
      ],
      "metadata": {
        "id": "1GSEiF-wxE__"
      },
      "execution_count": null,
      "outputs": []
    },
    {
      "cell_type": "code",
      "source": [
        "def multiplication(n1,n2):\n",
        "  mul = n1 * n2\n",
        "  print(mul)"
      ],
      "metadata": {
        "id": "ExAUuBo3xFDD"
      },
      "execution_count": null,
      "outputs": []
    },
    {
      "cell_type": "code",
      "source": [
        "multiplication(5,6)"
      ],
      "metadata": {
        "colab": {
          "base_uri": "https://localhost:8080/"
        },
        "id": "VBGc5uxhxFFe",
        "outputId": "1bc70365-9218-4abc-b31e-b362f062ad17"
      },
      "execution_count": null,
      "outputs": [
        {
          "output_type": "stream",
          "name": "stdout",
          "text": [
            "30\n"
          ]
        }
      ]
    },
    {
      "cell_type": "code",
      "source": [
        "def multiplication(n1,n2):\n",
        "  mul = n1 * n2\n",
        "  print(mul)\n",
        "  return mul"
      ],
      "metadata": {
        "id": "k6DWkbusxFHh"
      },
      "execution_count": null,
      "outputs": []
    },
    {
      "cell_type": "code",
      "source": [
        "multiplication(5,6)"
      ],
      "metadata": {
        "colab": {
          "base_uri": "https://localhost:8080/"
        },
        "id": "yeFu7MrVxFKo",
        "outputId": "321aec83-9d21-446c-a922-97481bd5086a"
      },
      "execution_count": null,
      "outputs": [
        {
          "output_type": "stream",
          "name": "stdout",
          "text": [
            "30\n"
          ]
        },
        {
          "output_type": "execute_result",
          "data": {
            "text/plain": [
              "30"
            ]
          },
          "metadata": {},
          "execution_count": 7
        }
      ]
    },
    {
      "cell_type": "code",
      "source": [
        "def multiplication(n1,n2):\n",
        "  mul = n1 * n2\n",
        "  return mul"
      ],
      "metadata": {
        "id": "eWPCd-n4vPRQ"
      },
      "execution_count": null,
      "outputs": []
    },
    {
      "cell_type": "code",
      "source": [
        "multiplication(5,10)"
      ],
      "metadata": {
        "colab": {
          "base_uri": "https://localhost:8080/"
        },
        "id": "PVTxRyxvvPTY",
        "outputId": "793dbf5d-22b3-475e-8924-f3f858fcd267"
      },
      "execution_count": null,
      "outputs": [
        {
          "output_type": "execute_result",
          "data": {
            "text/plain": [
              "50"
            ]
          },
          "metadata": {},
          "execution_count": 10
        }
      ]
    },
    {
      "cell_type": "code",
      "source": [
        "def multiplication(n1,n2):\n",
        "  mul = n1 * n2\n",
        "  return mul                  # break the loop\n",
        "  print(mul)                  # will not execute block of code after return"
      ],
      "metadata": {
        "id": "sIU5kDojvPWv"
      },
      "execution_count": null,
      "outputs": []
    },
    {
      "cell_type": "code",
      "source": [
        "multiplication(5,6)"
      ],
      "metadata": {
        "colab": {
          "base_uri": "https://localhost:8080/"
        },
        "id": "8P-Q4uJLvPY4",
        "outputId": "c20d3767-8bd7-4a9a-f46c-dbcdbd6f7105"
      },
      "execution_count": null,
      "outputs": [
        {
          "output_type": "execute_result",
          "data": {
            "text/plain": [
              "30"
            ]
          },
          "metadata": {},
          "execution_count": 12
        }
      ]
    },
    {
      "cell_type": "code",
      "source": [
        "def multiplication(n1,n2,n3=10):  # defaultarguments as n3 =10\n",
        "  mul = n1 * n2 * n3\n",
        "  return mul                  # break the loop"
      ],
      "metadata": {
        "id": "S5TGf1-hvPcR"
      },
      "execution_count": null,
      "outputs": []
    },
    {
      "cell_type": "code",
      "source": [
        "multiplication(2,2)       # n1 = 2, n2 = 3, n3 =10(default values)"
      ],
      "metadata": {
        "colab": {
          "base_uri": "https://localhost:8080/"
        },
        "id": "muFmbkYKvPeR",
        "outputId": "2bfe64b5-60f4-4076-b738-1c5bf27cc7e7"
      },
      "execution_count": null,
      "outputs": [
        {
          "output_type": "execute_result",
          "data": {
            "text/plain": [
              "40"
            ]
          },
          "metadata": {},
          "execution_count": 15
        }
      ]
    },
    {
      "cell_type": "code",
      "source": [
        "multiplication(2,2,5)     # n1 = 2, n2 = 2, n3 = 5(overwriting the default values)"
      ],
      "metadata": {
        "colab": {
          "base_uri": "https://localhost:8080/"
        },
        "id": "_w3NfKBjvPhl",
        "outputId": "48c0e2ae-11bb-43a6-8c47-4dd7dd1b31ec"
      },
      "execution_count": null,
      "outputs": [
        {
          "output_type": "execute_result",
          "data": {
            "text/plain": [
              "20"
            ]
          },
          "metadata": {},
          "execution_count": 17
        }
      ]
    },
    {
      "cell_type": "code",
      "source": [
        "def multiplication(n1=2,n2=5,n3=10):  # defaultarguments as n1 = 1, n2 = 5, n3 = 10\n",
        "  mul = n1 * n2 * n3\n",
        "  return mul                  # break the loop"
      ],
      "metadata": {
        "id": "lryjIDTQvPkH"
      },
      "execution_count": null,
      "outputs": []
    },
    {
      "cell_type": "code",
      "source": [
        "multiplication()"
      ],
      "metadata": {
        "colab": {
          "base_uri": "https://localhost:8080/"
        },
        "id": "RVvvmZZdvPm9",
        "outputId": "12f45c13-d473-498a-ae20-395e9efef1b5"
      },
      "execution_count": null,
      "outputs": [
        {
          "output_type": "execute_result",
          "data": {
            "text/plain": [
              "100"
            ]
          },
          "metadata": {},
          "execution_count": 19
        }
      ]
    },
    {
      "cell_type": "code",
      "source": [
        "multiplication(1,2,3)  # overwriting the value of default argument as n1 = 1 n2 = 2 and n3 = 3"
      ],
      "metadata": {
        "colab": {
          "base_uri": "https://localhost:8080/"
        },
        "id": "1s0EThwlvPuA",
        "outputId": "b9c5eea1-8957-43a0-f720-3c9c03cf825e"
      },
      "execution_count": null,
      "outputs": [
        {
          "output_type": "execute_result",
          "data": {
            "text/plain": [
              "6"
            ]
          },
          "metadata": {},
          "execution_count": 20
        }
      ]
    },
    {
      "cell_type": "code",
      "source": [
        "# Arbirtory arguments > variable length arguments\n",
        "# >> *args(retuen value in tuple)\n",
        "# when we dont know number sif argument to be passed\n",
        "# if we are using *args and positional args then positional argument must follow the kewword arguments"
      ],
      "metadata": {
        "id": "cB_O2vLhvPwy"
      },
      "execution_count": null,
      "outputs": []
    },
    {
      "cell_type": "code",
      "source": [],
      "metadata": {
        "id": "FthzfsaU0uVc"
      },
      "execution_count": null,
      "outputs": []
    },
    {
      "cell_type": "code",
      "source": [
        "def multiplication(n1,n2,n3,n4,n5,n6):\n",
        "  mul = n1 * n2 * n3 * n4 * n5 * n6\n",
        "  return mul                  # break the loop"
      ],
      "metadata": {
        "id": "MYnCE4ZD0NE2"
      },
      "execution_count": null,
      "outputs": []
    },
    {
      "cell_type": "code",
      "source": [
        "multiplication(1,2,3,4,5,6)"
      ],
      "metadata": {
        "colab": {
          "base_uri": "https://localhost:8080/"
        },
        "id": "ALac7gG50NHD",
        "outputId": "68574a7d-79c3-48d4-b199-31334c19ebc2"
      },
      "execution_count": null,
      "outputs": [
        {
          "output_type": "execute_result",
          "data": {
            "text/plain": [
              "720"
            ]
          },
          "metadata": {},
          "execution_count": 22
        }
      ]
    },
    {
      "cell_type": "code",
      "source": [
        "def multiplication(*args):     # tuple\n",
        "  mul = 1\n",
        "  for num in args:\n",
        "    mul = mul * num\n",
        "  return mul"
      ],
      "metadata": {
        "id": "PTmwm45x0NKM"
      },
      "execution_count": null,
      "outputs": []
    },
    {
      "cell_type": "code",
      "source": [
        "multiplication(1,2)"
      ],
      "metadata": {
        "colab": {
          "base_uri": "https://localhost:8080/"
        },
        "id": "Eu-aTeLW0NOF",
        "outputId": "565ec613-4585-4bf2-a2fd-45e4c31c5307"
      },
      "execution_count": null,
      "outputs": [
        {
          "output_type": "execute_result",
          "data": {
            "text/plain": [
              "2"
            ]
          },
          "metadata": {},
          "execution_count": 24
        }
      ]
    },
    {
      "cell_type": "code",
      "source": [
        "multiplication(1,2,3)"
      ],
      "metadata": {
        "colab": {
          "base_uri": "https://localhost:8080/"
        },
        "id": "dCCO58880NQn",
        "outputId": "9efe5cc8-dc84-41b5-b4d9-1ad786ab5dc6"
      },
      "execution_count": null,
      "outputs": [
        {
          "output_type": "execute_result",
          "data": {
            "text/plain": [
              "6"
            ]
          },
          "metadata": {},
          "execution_count": 25
        }
      ]
    },
    {
      "cell_type": "code",
      "source": [
        "multiplication(1,2,3,4)"
      ],
      "metadata": {
        "colab": {
          "base_uri": "https://localhost:8080/"
        },
        "id": "FqQHbRwE0NUR",
        "outputId": "83a03da6-6bd1-4240-a412-5127677e691d"
      },
      "execution_count": null,
      "outputs": [
        {
          "output_type": "execute_result",
          "data": {
            "text/plain": [
              "24"
            ]
          },
          "metadata": {},
          "execution_count": 26
        }
      ]
    },
    {
      "cell_type": "code",
      "source": [
        "def multiplication(*args,n1):     # tuple\n",
        "  mul = 1\n",
        "  print(\"n1 : \",n1)\n",
        "  for num in args:\n",
        "    mul = mul * num\n",
        "  return mul"
      ],
      "metadata": {
        "id": "Qn02oBt40NYJ"
      },
      "execution_count": null,
      "outputs": []
    },
    {
      "cell_type": "code",
      "source": [
        "multiplication(1,2,3)"
      ],
      "metadata": {
        "colab": {
          "base_uri": "https://localhost:8080/"
        },
        "id": "IfrhSl8X0Nsa",
        "outputId": "17cef1dd-d4f1-42c6-9f8b-6e4754dd4145"
      },
      "execution_count": null,
      "outputs": [
        {
          "output_type": "stream",
          "name": "stdout",
          "text": [
            "n1 :  1\n"
          ]
        },
        {
          "output_type": "execute_result",
          "data": {
            "text/plain": [
              "6"
            ]
          },
          "metadata": {},
          "execution_count": 29
        }
      ]
    },
    {
      "cell_type": "code",
      "source": [
        "multiplication(1,2,n1=2)"
      ],
      "metadata": {
        "colab": {
          "base_uri": "https://localhost:8080/"
        },
        "id": "B5g-TrJ00Num",
        "outputId": "4f874bd3-92a9-4bca-c0f5-a7ef6d856c2c"
      },
      "execution_count": null,
      "outputs": [
        {
          "output_type": "stream",
          "name": "stdout",
          "text": [
            "n1 :  2\n"
          ]
        },
        {
          "output_type": "execute_result",
          "data": {
            "text/plain": [
              "2"
            ]
          },
          "metadata": {},
          "execution_count": 33
        }
      ]
    },
    {
      "cell_type": "code",
      "source": [
        "def multiplication(*args,n1=1):     # tuple\n",
        "  mul = 1\n",
        "  print(\"n1 : \",n1)\n",
        "  for num in args:\n",
        "    mul = mul * num\n",
        "  return mul"
      ],
      "metadata": {
        "id": "rs5V-Hfm0NyQ"
      },
      "execution_count": null,
      "outputs": []
    },
    {
      "cell_type": "code",
      "source": [
        "multiplication(1,2,3)"
      ],
      "metadata": {
        "colab": {
          "base_uri": "https://localhost:8080/"
        },
        "id": "m1km2FB82SqG",
        "outputId": "be6a2984-8726-4e51-a467-dd7970f5d2f7"
      },
      "execution_count": null,
      "outputs": [
        {
          "output_type": "stream",
          "name": "stdout",
          "text": [
            "n1 :  1\n"
          ]
        },
        {
          "output_type": "execute_result",
          "data": {
            "text/plain": [
              "6"
            ]
          },
          "metadata": {},
          "execution_count": 35
        }
      ]
    },
    {
      "cell_type": "code",
      "source": [
        "multiplication(1,2,3,n1=2)"
      ],
      "metadata": {
        "colab": {
          "base_uri": "https://localhost:8080/"
        },
        "id": "qxMUrLAd2SsQ",
        "outputId": "c3d7d9c8-2b6b-4ee1-c19c-4fce690dc543"
      },
      "execution_count": null,
      "outputs": [
        {
          "output_type": "stream",
          "name": "stdout",
          "text": [
            "n1 :  2\n"
          ]
        },
        {
          "output_type": "execute_result",
          "data": {
            "text/plain": [
              "6"
            ]
          },
          "metadata": {},
          "execution_count": 36
        }
      ]
    },
    {
      "cell_type": "code",
      "source": [
        "def multiplication(*val):     # tuple\n",
        "  mul = 1\n",
        "  for num in val:\n",
        "    mul = mul * num\n",
        "  return mul"
      ],
      "metadata": {
        "id": "5Ri6frl42Svq"
      },
      "execution_count": null,
      "outputs": []
    },
    {
      "cell_type": "code",
      "source": [
        "multiplication(1,2,3)"
      ],
      "metadata": {
        "colab": {
          "base_uri": "https://localhost:8080/"
        },
        "id": "8IDltxRU2qVr",
        "outputId": "e43c2428-5936-4b97-cd18-9bacb4f3df2a"
      },
      "execution_count": null,
      "outputs": [
        {
          "output_type": "execute_result",
          "data": {
            "text/plain": [
              "6"
            ]
          },
          "metadata": {},
          "execution_count": 42
        }
      ]
    },
    {
      "cell_type": "code",
      "source": [
        "def addition(n1,n2,*args,val1=100,val2='python'):\n",
        "  print(f'n1={n1}, n2={n2},args=={args},val1=={val1},val2={val2}')\n"
      ],
      "metadata": {
        "id": "9JIVKxER2srj"
      },
      "execution_count": null,
      "outputs": []
    },
    {
      "cell_type": "code",
      "source": [
        "addition(10,20,34,40,35,25)"
      ],
      "metadata": {
        "colab": {
          "base_uri": "https://localhost:8080/"
        },
        "id": "ko-ntnRV3UVk",
        "outputId": "4f6456d4-c607-473a-ec82-d0f789e40254"
      },
      "execution_count": null,
      "outputs": [
        {
          "output_type": "stream",
          "name": "stdout",
          "text": [
            "n1=10, n2=20,args==(34, 40, 35, 25),val1==100,val2=python\n"
          ]
        }
      ]
    },
    {
      "cell_type": "code",
      "source": [
        "addition(10,20,34,40,35,25,val1=200)"
      ],
      "metadata": {
        "colab": {
          "base_uri": "https://localhost:8080/"
        },
        "id": "RJiXXsSd3awj",
        "outputId": "30721634-6c16-4144-ef10-61d3ea85fd5d"
      },
      "execution_count": null,
      "outputs": [
        {
          "output_type": "stream",
          "name": "stdout",
          "text": [
            "n1=10, n2=20,args==(34, 40, 35, 25),val1==200,val2=python\n"
          ]
        }
      ]
    },
    {
      "cell_type": "code",
      "source": [
        "addition(10,20,34,40,35,25,val2=\"Machine-Learning\")"
      ],
      "metadata": {
        "colab": {
          "base_uri": "https://localhost:8080/"
        },
        "id": "Q7eCdHgG3qH5",
        "outputId": "a48452e2-660f-49cb-eeb8-223be2ddbfe5"
      },
      "execution_count": null,
      "outputs": [
        {
          "output_type": "stream",
          "name": "stdout",
          "text": [
            "n1=10, n2=20,args==(34, 40, 35, 25),val1==100,val2=Machine-Learning\n"
          ]
        }
      ]
    },
    {
      "cell_type": "code",
      "source": [
        "addition(10,20,34,40,35,25,val1 = 200,val2=\"Machine-Learning\")"
      ],
      "metadata": {
        "colab": {
          "base_uri": "https://localhost:8080/"
        },
        "id": "f6-6kaIH30dc",
        "outputId": "f770098d-7ecb-4f49-e0e8-5109f2fdb81a"
      },
      "execution_count": null,
      "outputs": [
        {
          "output_type": "stream",
          "name": "stdout",
          "text": [
            "n1=10, n2=20,args==(34, 40, 35, 25),val1==200,val2=Machine-Learning\n"
          ]
        }
      ]
    },
    {
      "cell_type": "code",
      "source": [
        "def summation(**kwargs):\n",
        "  sum = 0\n",
        "  for value in kwargs.values():\n",
        "    sum = sum + value\n",
        "  return sum"
      ],
      "metadata": {
        "id": "3v_UuwKH36Ct"
      },
      "execution_count": null,
      "outputs": []
    },
    {
      "cell_type": "code",
      "source": [
        "summation(a=10,b=20,c=30) # dictionary"
      ],
      "metadata": {
        "colab": {
          "base_uri": "https://localhost:8080/"
        },
        "id": "YnhLTIFo3-8X",
        "outputId": "1c76cd4c-33b2-4f1a-c0f8-bfa45c6c8b32"
      },
      "execution_count": null,
      "outputs": [
        {
          "output_type": "execute_result",
          "data": {
            "text/plain": [
              "60"
            ]
          },
          "metadata": {},
          "execution_count": 49
        }
      ]
    },
    {
      "cell_type": "code",
      "source": [],
      "metadata": {
        "id": "t3BToWVn3--7"
      },
      "execution_count": null,
      "outputs": []
    },
    {
      "cell_type": "code",
      "source": [
        "# Recursion in python"
      ],
      "metadata": {
        "id": "dclKyrkk4jhS"
      },
      "execution_count": null,
      "outputs": []
    },
    {
      "cell_type": "code",
      "source": [
        "# recursion is process where function call itself to solve a problem,\n",
        "1.direct recursion: a function call itself\n",
        "2.indirect recursion: a function call another functions which in turn calls the first functions(higher order functions)"
      ],
      "metadata": {
        "id": "1X4PGT564jj7"
      },
      "execution_count": null,
      "outputs": []
    },
    {
      "cell_type": "code",
      "source": [
        " # Factorial"
      ],
      "metadata": {
        "id": "ck5-UMDJ4jnp"
      },
      "execution_count": null,
      "outputs": []
    },
    {
      "cell_type": "code",
      "source": [
        "n = 5"
      ],
      "metadata": {
        "id": "HeYiZR4e4jq0"
      },
      "execution_count": null,
      "outputs": []
    },
    {
      "cell_type": "code",
      "source": [
        "5*4*3*2*1   # n(5) * n-1(4)* n-2(3)*n-3(2)*n-4(1)\n",
        "1*2*3*4*5   # 1*2*3*4*5"
      ],
      "metadata": {
        "id": "FUYVIZbn4juD"
      },
      "execution_count": null,
      "outputs": []
    },
    {
      "cell_type": "code",
      "source": [
        "fact = 1\n",
        "for i in range(1,n+1):  # n = 5, (1,2,3,4,5)\n",
        "  fact = fact*i         # 1*1=1, 1*2=2,2*3=6,6*4=20,20*5=120\n",
        "\n",
        "fact"
      ],
      "metadata": {
        "colab": {
          "base_uri": "https://localhost:8080/"
        },
        "id": "G5-9Lb413_Cq",
        "outputId": "c6bfc068-5b00-44e3-ff7c-87db16e02c5d"
      },
      "execution_count": null,
      "outputs": [
        {
          "output_type": "execute_result",
          "data": {
            "text/plain": [
              "120"
            ]
          },
          "metadata": {},
          "execution_count": 51
        }
      ]
    },
    {
      "cell_type": "code",
      "source": [
        "def factorial(n):\n",
        "  fact = 1\n",
        "  for i in range(1,n+1):\n",
        "    fact *= i\n",
        "  return fact\n",
        "\n"
      ],
      "metadata": {
        "id": "5bkQ8atR3_Fx"
      },
      "execution_count": null,
      "outputs": []
    },
    {
      "cell_type": "code",
      "source": [
        "factorial(5)"
      ],
      "metadata": {
        "colab": {
          "base_uri": "https://localhost:8080/"
        },
        "id": "2Q51PSex6syG",
        "outputId": "113fe72c-552a-4c97-e368-228544bbccd9"
      },
      "execution_count": null,
      "outputs": [
        {
          "output_type": "execute_result",
          "data": {
            "text/plain": [
              "120"
            ]
          },
          "metadata": {},
          "execution_count": 55
        }
      ]
    },
    {
      "cell_type": "code",
      "source": [
        "factorial(4)"
      ],
      "metadata": {
        "colab": {
          "base_uri": "https://localhost:8080/"
        },
        "id": "Xpn_BtUu6utO",
        "outputId": "e1266518-2098-4efe-880f-b69b798087f9"
      },
      "execution_count": null,
      "outputs": [
        {
          "output_type": "execute_result",
          "data": {
            "text/plain": [
              "24"
            ]
          },
          "metadata": {},
          "execution_count": 56
        }
      ]
    },
    {
      "cell_type": "code",
      "source": [
        "factorial(10)"
      ],
      "metadata": {
        "colab": {
          "base_uri": "https://localhost:8080/"
        },
        "id": "V8mybmIU62YC",
        "outputId": "995d4c1e-2ef0-4276-b7bd-8438c45f59d5"
      },
      "execution_count": null,
      "outputs": [
        {
          "output_type": "execute_result",
          "data": {
            "text/plain": [
              "3628800"
            ]
          },
          "metadata": {},
          "execution_count": 57
        }
      ]
    },
    {
      "cell_type": "code",
      "source": [
        "# n*n-1"
      ],
      "metadata": {
        "id": "bAvTF9yZ62as"
      },
      "execution_count": null,
      "outputs": []
    },
    {
      "cell_type": "code",
      "source": [
        " n<= 1 >  1"
      ],
      "metadata": {
        "id": "uZ5ruf4L7OGO"
      },
      "execution_count": null,
      "outputs": []
    },
    {
      "cell_type": "code",
      "source": [
        "def factorial(n):   # 5\n",
        "  if n <= 1:   # false\n",
        "    return 1\n",
        "  else:\n",
        "    return n*factorial(n-1)    # 5 *4*3*2*1\n"
      ],
      "metadata": {
        "id": "Q7J_yRcx62eh"
      },
      "execution_count": null,
      "outputs": []
    },
    {
      "cell_type": "code",
      "source": [
        "factorial(5)"
      ],
      "metadata": {
        "colab": {
          "base_uri": "https://localhost:8080/"
        },
        "id": "AQhyJHQ-62h3",
        "outputId": "ce82c844-2f42-45c0-d40f-dbc28dc4c60a"
      },
      "execution_count": null,
      "outputs": [
        {
          "output_type": "execute_result",
          "data": {
            "text/plain": [
              "120"
            ]
          },
          "metadata": {},
          "execution_count": 60
        }
      ]
    },
    {
      "cell_type": "code",
      "source": [
        "factorial(4)"
      ],
      "metadata": {
        "colab": {
          "base_uri": "https://localhost:8080/"
        },
        "id": "pObat89o62lJ",
        "outputId": "aa24a728-631f-4c51-ba48-5bf96d3cddd5"
      },
      "execution_count": null,
      "outputs": [
        {
          "output_type": "execute_result",
          "data": {
            "text/plain": [
              "24"
            ]
          },
          "metadata": {},
          "execution_count": 61
        }
      ]
    },
    {
      "cell_type": "code",
      "source": [
        "factorial(10)"
      ],
      "metadata": {
        "colab": {
          "base_uri": "https://localhost:8080/"
        },
        "id": "fibZsQGT62nj",
        "outputId": "5749adac-de12-4b85-fc3b-bd363b9e8930"
      },
      "execution_count": null,
      "outputs": [
        {
          "output_type": "execute_result",
          "data": {
            "text/plain": [
              "3628800"
            ]
          },
          "metadata": {},
          "execution_count": 63
        }
      ]
    },
    {
      "cell_type": "code",
      "source": [
        "# fibbonacci series\n",
        "\n",
        "n = 6,\n",
        "a,b = 0,1\n",
        "\n",
        "# a + b = 0+1 = 1, 1+1=2,2+2=4 4+3=7\n",
        "\n"
      ],
      "metadata": {
        "id": "_za6mUZL62p2"
      },
      "execution_count": null,
      "outputs": []
    },
    {
      "cell_type": "code",
      "source": [
        "n= 6\n",
        "a = 0\n",
        "b = 1\n",
        "for i in range(n):\n",
        "  a,b = b,a+b\n",
        "\n",
        "print(a)"
      ],
      "metadata": {
        "colab": {
          "base_uri": "https://localhost:8080/"
        },
        "id": "LcCSH6_-62t-",
        "outputId": "6c932ed6-f934-4d3a-a7fa-2099b579f950"
      },
      "execution_count": null,
      "outputs": [
        {
          "output_type": "stream",
          "name": "stdout",
          "text": [
            "8\n"
          ]
        }
      ]
    },
    {
      "cell_type": "code",
      "source": [
        "def fib(n):\n",
        "  if n <= 1:\n",
        "    return n\n",
        "  else:\n",
        "    return(fib(n-1)+fib(n-2))"
      ],
      "metadata": {
        "id": "ODYb_hUN62w8"
      },
      "execution_count": null,
      "outputs": []
    },
    {
      "cell_type": "code",
      "source": [
        "fib(6)"
      ],
      "metadata": {
        "colab": {
          "base_uri": "https://localhost:8080/"
        },
        "id": "Hbm35gU4620r",
        "outputId": "0abebf3d-55a1-430e-ef2e-74b827b9d8c2"
      },
      "execution_count": null,
      "outputs": [
        {
          "output_type": "execute_result",
          "data": {
            "text/plain": [
              "8"
            ]
          },
          "metadata": {},
          "execution_count": 70
        }
      ]
    },
    {
      "cell_type": "code",
      "source": [
        "# 1,2 3,4,5\n",
        "0 1 1 2 3 5 8"
      ],
      "metadata": {
        "id": "no97rFw39gOf"
      },
      "execution_count": null,
      "outputs": []
    },
    {
      "cell_type": "code",
      "source": [
        "# nested functions"
      ],
      "metadata": {
        "id": "7tkFM9d4624C"
      },
      "execution_count": null,
      "outputs": []
    },
    {
      "cell_type": "code",
      "source": [
        "def a():\n",
        "  def b():\n",
        "    pass"
      ],
      "metadata": {
        "id": "sW6rZcYS627K"
      },
      "execution_count": null,
      "outputs": []
    },
    {
      "cell_type": "code",
      "source": [
        "# higher order functions"
      ],
      "metadata": {
        "id": "PcDplSJX629_"
      },
      "execution_count": null,
      "outputs": []
    },
    {
      "cell_type": "code",
      "source": [
        "fact(n,fib(n))"
      ],
      "metadata": {
        "id": "JkvoXsLo9658"
      },
      "execution_count": null,
      "outputs": []
    },
    {
      "cell_type": "code",
      "source": [
        "def new():\n",
        "  a = 10\n",
        "  return a"
      ],
      "metadata": {
        "id": "HIWqgZeV9688"
      },
      "execution_count": null,
      "outputs": []
    },
    {
      "cell_type": "code",
      "source": [
        "new()"
      ],
      "metadata": {
        "colab": {
          "base_uri": "https://localhost:8080/"
        },
        "id": "d7uL0orf-XAO",
        "outputId": "b7bc8961-cb24-48fc-aa36-003bf11a88f8"
      },
      "execution_count": null,
      "outputs": [
        {
          "output_type": "execute_result",
          "data": {
            "text/plain": [
              "10"
            ]
          },
          "metadata": {},
          "execution_count": 73
        }
      ]
    },
    {
      "cell_type": "code",
      "source": [
        "def test(n,b):\n",
        "  return n+b"
      ],
      "metadata": {
        "id": "_7t6Icmc97BG"
      },
      "execution_count": null,
      "outputs": []
    },
    {
      "cell_type": "code",
      "source": [
        "test(5,new())  # n= 5, b =10"
      ],
      "metadata": {
        "colab": {
          "base_uri": "https://localhost:8080/"
        },
        "id": "bItYTqlo97FC",
        "outputId": "fedf2ce6-047c-42e1-a003-523ce87dc6ac"
      },
      "execution_count": null,
      "outputs": [
        {
          "output_type": "execute_result",
          "data": {
            "text/plain": [
              "15"
            ]
          },
          "metadata": {},
          "execution_count": 74
        }
      ]
    },
    {
      "cell_type": "code",
      "source": [],
      "metadata": {
        "id": "sMbIZb3F97JK"
      },
      "execution_count": null,
      "outputs": []
    }
  ]
}