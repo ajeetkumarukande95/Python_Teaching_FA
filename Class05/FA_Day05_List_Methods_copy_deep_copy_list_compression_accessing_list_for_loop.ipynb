{
  "nbformat": 4,
  "nbformat_minor": 0,
  "metadata": {
    "colab": {
      "provenance": []
    },
    "kernelspec": {
      "name": "python3",
      "display_name": "Python 3"
    },
    "language_info": {
      "name": "python"
    }
  },
  "cells": [
    {
      "cell_type": "code",
      "execution_count": null,
      "metadata": {
        "id": "PvGsRPPNceCH"
      },
      "outputs": [],
      "source": [
        "# index()\n",
        "# list.index(value, start=None,end=None)\n",
        "#The index() method is used to find the first occurrence of a specified value in a list, tuple, or string. If the value is not found, it raises a ValueError.\n",
        "# Syntax: sequence.index(value, start, end)"
      ]
    },
    {
      "cell_type": "code",
      "source": [
        "l = [1,2,3,4,5,6,1,7,19,20,30]"
      ],
      "metadata": {
        "id": "VGRdXdplcfJC"
      },
      "execution_count": 1,
      "outputs": []
    },
    {
      "cell_type": "code",
      "source": [
        "l.index(20)"
      ],
      "metadata": {
        "colab": {
          "base_uri": "https://localhost:8080/"
        },
        "id": "sfIqkWzPcfK6",
        "outputId": "42213876-ada6-40e7-ba31-ff44cd2899ad"
      },
      "execution_count": 2,
      "outputs": [
        {
          "output_type": "execute_result",
          "data": {
            "text/plain": [
              "9"
            ]
          },
          "metadata": {},
          "execution_count": 2
        }
      ]
    },
    {
      "cell_type": "code",
      "source": [
        "l.index(1,1,10)"
      ],
      "metadata": {
        "colab": {
          "base_uri": "https://localhost:8080/"
        },
        "id": "kDH-cGLPcfOT",
        "outputId": "113e7377-0a32-4f95-889d-c0c7f61072d0"
      },
      "execution_count": 4,
      "outputs": [
        {
          "output_type": "execute_result",
          "data": {
            "text/plain": [
              "6"
            ]
          },
          "metadata": {},
          "execution_count": 4
        }
      ]
    },
    {
      "cell_type": "code",
      "source": [
        "name = ['Chetan','Rahul','Sagar','Nihal']\n",
        "name.index('Chetan')"
      ],
      "metadata": {
        "colab": {
          "base_uri": "https://localhost:8080/"
        },
        "id": "t9895jjzcick",
        "outputId": "5cef044a-5fa4-45f4-f10f-8f1e323075f0"
      },
      "execution_count": 5,
      "outputs": [
        {
          "output_type": "execute_result",
          "data": {
            "text/plain": [
              "0"
            ]
          },
          "metadata": {},
          "execution_count": 5
        }
      ]
    },
    {
      "cell_type": "code",
      "source": [
        "name = ['Chetan','Rahul','Sagar','Nihal']\n",
        "if 'Chetan' in name:\n",
        "  i = name.index('Chetan')\n",
        "print(i)"
      ],
      "metadata": {
        "colab": {
          "base_uri": "https://localhost:8080/"
        },
        "id": "Tc2vzRvaciez",
        "outputId": "e4efcb4d-7a06-40b9-fcd3-b81a655a2c45"
      },
      "execution_count": 6,
      "outputs": [
        {
          "output_type": "stream",
          "name": "stdout",
          "text": [
            "0\n"
          ]
        }
      ]
    },
    {
      "cell_type": "code",
      "source": [
        "name = ['Chetan','Rahul','Sagar','Nihal']\n",
        "if 'Chetan' in name:\n",
        "  i = name.index('Nihal')\n",
        "print(i)"
      ],
      "metadata": {
        "colab": {
          "base_uri": "https://localhost:8080/"
        },
        "id": "06SiSKaQciiC",
        "outputId": "09563ea5-1412-4f14-a36e-b73eaacabf9c"
      },
      "execution_count": 7,
      "outputs": [
        {
          "output_type": "stream",
          "name": "stdout",
          "text": [
            "3\n"
          ]
        }
      ]
    },
    {
      "cell_type": "code",
      "source": [
        "# count()\n",
        "# The count() method is used to count the number of occurrences of a specified value in a list, tuple, or string.\n",
        "# Syntax: sequence.count(value)\n"
      ],
      "metadata": {
        "id": "ntw0mpmldxka"
      },
      "execution_count": null,
      "outputs": []
    },
    {
      "cell_type": "code",
      "source": [
        "subject = ['Phy','Che','Maths','Bio','Phy','Eng']\n",
        "subject.count('Phy')"
      ],
      "metadata": {
        "colab": {
          "base_uri": "https://localhost:8080/"
        },
        "id": "j-XwbZQIdykY",
        "outputId": "1aa2f8ab-0aef-438c-cd5f-1c167fadd50e"
      },
      "execution_count": 8,
      "outputs": [
        {
          "output_type": "execute_result",
          "data": {
            "text/plain": [
              "2"
            ]
          },
          "metadata": {},
          "execution_count": 8
        }
      ]
    },
    {
      "cell_type": "code",
      "source": [
        "subject = ['Phy','Che','Maths','Bio','Phy','Eng']\n",
        "subject.count('Che')"
      ],
      "metadata": {
        "colab": {
          "base_uri": "https://localhost:8080/"
        },
        "id": "FeMLcGvldynG",
        "outputId": "fa0ec987-2008-4615-ef1c-e698b9ca1578"
      },
      "execution_count": 9,
      "outputs": [
        {
          "output_type": "execute_result",
          "data": {
            "text/plain": [
              "1"
            ]
          },
          "metadata": {},
          "execution_count": 9
        }
      ]
    },
    {
      "cell_type": "code",
      "source": [
        "name = ['Chetan','Rahul','Sagar','Nihal']\n",
        "name"
      ],
      "metadata": {
        "colab": {
          "base_uri": "https://localhost:8080/"
        },
        "id": "TxHyuPMjeR0x",
        "outputId": "ca542059-f185-4568-be05-aeca6545fd75"
      },
      "execution_count": 3,
      "outputs": [
        {
          "output_type": "execute_result",
          "data": {
            "text/plain": [
              "['Chetan', 'Rahul', 'Sagar', 'Nihal']"
            ]
          },
          "metadata": {},
          "execution_count": 3
        }
      ]
    },
    {
      "cell_type": "code",
      "source": [
        "len(name)-1"
      ],
      "metadata": {
        "colab": {
          "base_uri": "https://localhost:8080/"
        },
        "id": "aM0g_o9FfAvY",
        "outputId": "dc99c729-faa0-495b-c7dc-0fe1d04adf97"
      },
      "execution_count": 13,
      "outputs": [
        {
          "output_type": "execute_result",
          "data": {
            "text/plain": [
              "3"
            ]
          },
          "metadata": {},
          "execution_count": 13
        }
      ]
    },
    {
      "cell_type": "code",
      "source": [
        "# reverse without using inbuilt functions\n",
        "\n",
        "new_name = []\n",
        "cnt = len(name)-1   # 4-1 # 3\n",
        "for i in range(len(name)):\n",
        "  # print(i,name[i])\n",
        "  if cnt >= 0:     # 3\n",
        "    new_name.append(name[cnt])\n",
        "  cnt = cnt -1     # 3-1 = 2, 2-1 = 1, 1-1 = 0\n",
        "print(new_name)\n"
      ],
      "metadata": {
        "colab": {
          "base_uri": "https://localhost:8080/"
        },
        "id": "bAAuLOlqeZB0",
        "outputId": "51cc68ee-6961-44f9-fa67-b97da500f592"
      },
      "execution_count": 15,
      "outputs": [
        {
          "output_type": "stream",
          "name": "stdout",
          "text": [
            "['Nihal', 'Sagar', 'Rahul', 'Chetan']\n"
          ]
        }
      ]
    },
    {
      "cell_type": "code",
      "source": [
        "#\n",
        "name"
      ],
      "metadata": {
        "colab": {
          "base_uri": "https://localhost:8080/"
        },
        "id": "vIuR9ebbe57n",
        "outputId": "cebbdbc5-2e69-4351-f206-1bbe8dec3e1c"
      },
      "execution_count": 16,
      "outputs": [
        {
          "output_type": "execute_result",
          "data": {
            "text/plain": [
              "['Chetan', 'Rahul', 'Sagar', 'Nihal']"
            ]
          },
          "metadata": {},
          "execution_count": 16
        }
      ]
    },
    {
      "cell_type": "code",
      "source": [
        "new_list = []\n",
        "a = -1\n",
        "for i in range(len(name)):  # 0,1,2,3\n",
        "  new_list.append(name[a])\n",
        "  a = a -1    # a -= 1\n",
        "print(new_list)"
      ],
      "metadata": {
        "colab": {
          "base_uri": "https://localhost:8080/"
        },
        "id": "tFiBNJcNhF2H",
        "outputId": "2ab33c63-4225-46b0-cdcb-e07cc639cb57"
      },
      "execution_count": 4,
      "outputs": [
        {
          "output_type": "stream",
          "name": "stdout",
          "text": [
            "['Nihal', 'Sagar', 'Rahul', 'Chetan']\n"
          ]
        }
      ]
    },
    {
      "cell_type": "code",
      "source": [
        "sentence = 'Python is amazing'\n",
        "words = sentence.split()\n",
        "words"
      ],
      "metadata": {
        "colab": {
          "base_uri": "https://localhost:8080/"
        },
        "id": "PnNY6xdihccP",
        "outputId": "effafd68-e8b3-4620-a63e-e63bd850dbaa"
      },
      "execution_count": 6,
      "outputs": [
        {
          "output_type": "execute_result",
          "data": {
            "text/plain": [
              "['Python', 'is', 'amazing']"
            ]
          },
          "metadata": {},
          "execution_count": 6
        }
      ]
    },
    {
      "cell_type": "code",
      "source": [
        "' '.join(words)"
      ],
      "metadata": {
        "colab": {
          "base_uri": "https://localhost:8080/",
          "height": 35
        },
        "id": "8u0M-iCVhcfp",
        "outputId": "49c31797-ea4e-4656-d114-24e6c658c2dd"
      },
      "execution_count": 8,
      "outputs": [
        {
          "output_type": "execute_result",
          "data": {
            "text/plain": [
              "'Python is amazing'"
            ],
            "application/vnd.google.colaboratory.intrinsic+json": {
              "type": "string"
            }
          },
          "metadata": {},
          "execution_count": 8
        }
      ]
    },
    {
      "cell_type": "code",
      "source": [
        "'@'.join(words)"
      ],
      "metadata": {
        "colab": {
          "base_uri": "https://localhost:8080/",
          "height": 35
        },
        "id": "E-l3MmB_iIEp",
        "outputId": "93f29c3b-ca93-4081-9c30-56d2d2bdf055"
      },
      "execution_count": 9,
      "outputs": [
        {
          "output_type": "execute_result",
          "data": {
            "text/plain": [
              "'Python@is@amazing'"
            ],
            "application/vnd.google.colaboratory.intrinsic+json": {
              "type": "string"
            }
          },
          "metadata": {},
          "execution_count": 9
        }
      ]
    },
    {
      "cell_type": "code",
      "source": [
        "'-'.join(words)"
      ],
      "metadata": {
        "colab": {
          "base_uri": "https://localhost:8080/",
          "height": 35
        },
        "id": "GubH9gdaiIHt",
        "outputId": "f0cacdbf-84b8-4889-a95b-e33188d5a508"
      },
      "execution_count": 10,
      "outputs": [
        {
          "output_type": "execute_result",
          "data": {
            "text/plain": [
              "'Python-is-amazing'"
            ],
            "application/vnd.google.colaboratory.intrinsic+json": {
              "type": "string"
            }
          },
          "metadata": {},
          "execution_count": 10
        }
      ]
    },
    {
      "cell_type": "code",
      "source": [
        "'_'.join(words)"
      ],
      "metadata": {
        "colab": {
          "base_uri": "https://localhost:8080/",
          "height": 35
        },
        "id": "w0XC8jdeiILm",
        "outputId": "36ded7f3-787c-466c-eb15-a7eb8254e641"
      },
      "execution_count": 12,
      "outputs": [
        {
          "output_type": "execute_result",
          "data": {
            "text/plain": [
              "'Python_is_amazing'"
            ],
            "application/vnd.google.colaboratory.intrinsic+json": {
              "type": "string"
            }
          },
          "metadata": {},
          "execution_count": 12
        }
      ]
    },
    {
      "cell_type": "code",
      "source": [],
      "metadata": {
        "id": "ZytSNEdliMFM"
      },
      "execution_count": null,
      "outputs": []
    },
    {
      "cell_type": "code",
      "source": [
        "# enumerates\n",
        "# The enumerate() function adds an index (counter) to an iterable (list, tuple, string, etc.) and returns it as an enumerate object. It is commonly used in loops to get both index and value.\n",
        "# Syntax:enumerate(iterable, start=0)\n"
      ],
      "metadata": {
        "id": "_mHdvt5AevO7"
      },
      "execution_count": null,
      "outputs": []
    },
    {
      "cell_type": "code",
      "source": [
        "words"
      ],
      "metadata": {
        "colab": {
          "base_uri": "https://localhost:8080/"
        },
        "id": "-doOg-ttiYAC",
        "outputId": "35aef27d-1c26-4e4f-ca1e-42e97bab2724"
      },
      "execution_count": 13,
      "outputs": [
        {
          "output_type": "execute_result",
          "data": {
            "text/plain": [
              "['Python', 'is', 'amazing']"
            ]
          },
          "metadata": {},
          "execution_count": 13
        }
      ]
    },
    {
      "cell_type": "code",
      "source": [
        "for index, value in enumerate(words):\n",
        "  print(f\"Index: {index}, and value is: {value}\")"
      ],
      "metadata": {
        "colab": {
          "base_uri": "https://localhost:8080/"
        },
        "id": "5zjFnhIdiYC-",
        "outputId": "4713f5be-ac29-4cf9-ea13-7ce719bd44b6"
      },
      "execution_count": 14,
      "outputs": [
        {
          "output_type": "stream",
          "name": "stdout",
          "text": [
            "Index: 0, and value is: Python\n",
            "Index: 1, and value is: is\n",
            "Index: 2, and value is: amazing\n"
          ]
        }
      ]
    },
    {
      "cell_type": "code",
      "source": [
        "for i, v in enumerate(words):\n",
        "  print(f\"Index: {i}, and value is: {v}\")"
      ],
      "metadata": {
        "colab": {
          "base_uri": "https://localhost:8080/"
        },
        "id": "067ZjuieiYHF",
        "outputId": "5a8e39d0-79b6-4f16-eef9-b0191ab0e510"
      },
      "execution_count": 15,
      "outputs": [
        {
          "output_type": "stream",
          "name": "stdout",
          "text": [
            "Index: 0, and value is: Python\n",
            "Index: 1, and value is: is\n",
            "Index: 2, and value is: amazing\n"
          ]
        }
      ]
    },
    {
      "cell_type": "code",
      "source": [
        "for m, n in enumerate(words):\n",
        "  print(f\"Index: {m}, and value is: {n}\")"
      ],
      "metadata": {
        "colab": {
          "base_uri": "https://localhost:8080/"
        },
        "id": "KkT-y0yaiYKx",
        "outputId": "1c3b41cc-3956-4b23-d383-e5096eb9717d"
      },
      "execution_count": 16,
      "outputs": [
        {
          "output_type": "stream",
          "name": "stdout",
          "text": [
            "Index: 0, and value is: Python\n",
            "Index: 1, and value is: is\n",
            "Index: 2, and value is: amazing\n"
          ]
        }
      ]
    },
    {
      "cell_type": "code",
      "source": [
        "word_pairs = [(\"apple\",\"banana\"),(\"cat\",\"dog\"),(\"red\",\"blue\")]\n",
        "for index, pair in enumerate(word_pairs,start= 1):\n",
        "  print(f\"{index}: {pair}\")"
      ],
      "metadata": {
        "colab": {
          "base_uri": "https://localhost:8080/"
        },
        "id": "ITvbYAVdi83i",
        "outputId": "0ff4fb15-4bac-4ade-e9a2-22837027bae6"
      },
      "execution_count": 17,
      "outputs": [
        {
          "output_type": "stream",
          "name": "stdout",
          "text": [
            "1: ('apple', 'banana')\n",
            "2: ('cat', 'dog')\n",
            "3: ('red', 'blue')\n"
          ]
        }
      ]
    },
    {
      "cell_type": "code",
      "source": [
        "word_pairs = [(\"apple\",\"banana\"),(\"cat\",\"dog\"),(\"red\",\"blue\")]\n",
        "for index, pair in enumerate(word_pairs):\n",
        "  print(f\"{index}: {pair}\")"
      ],
      "metadata": {
        "colab": {
          "base_uri": "https://localhost:8080/"
        },
        "id": "fmS6-jFxjIGu",
        "outputId": "0e487009-58ee-49e8-cac1-01f03a3ef3f1"
      },
      "execution_count": 18,
      "outputs": [
        {
          "output_type": "stream",
          "name": "stdout",
          "text": [
            "0: ('apple', 'banana')\n",
            "1: ('cat', 'dog')\n",
            "2: ('red', 'blue')\n"
          ]
        }
      ]
    },
    {
      "cell_type": "code",
      "source": [
        "from itertools import combinations\n",
        "\n",
        "words = ['apple','banana','cat','dog']\n",
        "pairs = list(combinations(words,2))\n",
        "\n",
        "for index, pair in enumerate(pairs):\n",
        "  print(f\"{index}: {pair}\")\n"
      ],
      "metadata": {
        "colab": {
          "base_uri": "https://localhost:8080/"
        },
        "id": "gUStuSypjIJ-",
        "outputId": "056f441a-e046-44b6-e3d8-37f6e9a6072d"
      },
      "execution_count": 19,
      "outputs": [
        {
          "output_type": "stream",
          "name": "stdout",
          "text": [
            "0: ('apple', 'banana')\n",
            "1: ('apple', 'cat')\n",
            "2: ('apple', 'dog')\n",
            "3: ('banana', 'cat')\n",
            "4: ('banana', 'dog')\n",
            "5: ('cat', 'dog')\n"
          ]
        }
      ]
    },
    {
      "cell_type": "code",
      "source": [
        "from itertools import combinations\n",
        "\n",
        "words = ['apple','banana','cat','dog']\n",
        "pairs = list(combinations(words,1))\n",
        "\n",
        "for index, pair in enumerate(pairs):\n",
        "  print(f\"{index}: {pair}\")\n"
      ],
      "metadata": {
        "colab": {
          "base_uri": "https://localhost:8080/"
        },
        "id": "pdrvgsfCkixg",
        "outputId": "ccd49256-7d12-49bd-957c-e293ab0217d4"
      },
      "execution_count": 20,
      "outputs": [
        {
          "output_type": "stream",
          "name": "stdout",
          "text": [
            "0: ('apple',)\n",
            "1: ('banana',)\n",
            "2: ('cat',)\n",
            "3: ('dog',)\n"
          ]
        }
      ]
    },
    {
      "cell_type": "code",
      "source": [
        "# access items of list using loop"
      ],
      "metadata": {
        "id": "WvwOgQu3jIN7"
      },
      "execution_count": null,
      "outputs": []
    },
    {
      "cell_type": "code",
      "source": [
        "city_name = ['Pune','Nagpur','Mumbai','Nashik']\n",
        "for city in city_name:\n",
        "  print(city)"
      ],
      "metadata": {
        "colab": {
          "base_uri": "https://localhost:8080/"
        },
        "id": "Y1xwpptgkqv-",
        "outputId": "17914dae-fee4-4a5e-c01d-1768efe1a393"
      },
      "execution_count": 21,
      "outputs": [
        {
          "output_type": "stream",
          "name": "stdout",
          "text": [
            "Pune\n",
            "Nagpur\n",
            "Mumbai\n",
            "Nashik\n"
          ]
        }
      ]
    },
    {
      "cell_type": "code",
      "source": [
        "city_name = ['Pune','Nagpur','Mumbai','Nashik']\n",
        "for city in city_name:\n",
        "  print(city)\n",
        "  if city == \"Mumbai\":\n",
        "    print(\"HIII\")\n",
        "    # pass"
      ],
      "metadata": {
        "colab": {
          "base_uri": "https://localhost:8080/"
        },
        "id": "ZX_Jb1mRkqzO",
        "outputId": "27f6ea6f-8246-4a30-ba48-bde9a47bb5e6"
      },
      "execution_count": 25,
      "outputs": [
        {
          "output_type": "stream",
          "name": "stdout",
          "text": [
            "Pune\n",
            "Nagpur\n",
            "Mumbai\n",
            "HIII\n",
            "Nashik\n"
          ]
        }
      ]
    },
    {
      "cell_type": "code",
      "source": [
        "count = 0\n",
        "for city in city_name:\n",
        "  print(f\"Item in index {count} is {city}\")\n"
      ],
      "metadata": {
        "colab": {
          "base_uri": "https://localhost:8080/"
        },
        "id": "kpVYlUWTkq3W",
        "outputId": "1ca700ba-9c3c-42dd-acb9-0a1bca065dcc"
      },
      "execution_count": 26,
      "outputs": [
        {
          "output_type": "stream",
          "name": "stdout",
          "text": [
            "Item in index 0 is Pune\n",
            "Item in index 0 is Nagpur\n",
            "Item in index 0 is Mumbai\n",
            "Item in index 0 is Nashik\n"
          ]
        }
      ]
    },
    {
      "cell_type": "code",
      "source": [
        "count = 0\n",
        "for city in city_name:\n",
        "  print(f\"Item in index {count} is {city}\")\n",
        "  count += 1"
      ],
      "metadata": {
        "colab": {
          "base_uri": "https://localhost:8080/"
        },
        "id": "U1uDSeBlkq7I",
        "outputId": "d0a251d2-a8e1-4715-ee89-57870da92540"
      },
      "execution_count": 27,
      "outputs": [
        {
          "output_type": "stream",
          "name": "stdout",
          "text": [
            "Item in index 0 is Pune\n",
            "Item in index 1 is Nagpur\n",
            "Item in index 2 is Mumbai\n",
            "Item in index 3 is Nashik\n"
          ]
        }
      ]
    },
    {
      "cell_type": "code",
      "source": [
        "for index, city in enumerate(city_name):\n",
        "  print(f\"Item in Index {index} is city\")"
      ],
      "metadata": {
        "colab": {
          "base_uri": "https://localhost:8080/"
        },
        "id": "5ti3EB8bl2tO",
        "outputId": "35413808-5742-46ce-bf40-8455eb3b7fac"
      },
      "execution_count": 28,
      "outputs": [
        {
          "output_type": "stream",
          "name": "stdout",
          "text": [
            "Item in Index 0 is city\n",
            "Item in Index 1 is city\n",
            "Item in Index 2 is city\n",
            "Item in Index 3 is city\n"
          ]
        }
      ]
    },
    {
      "cell_type": "code",
      "source": [
        "for index, city in enumerate(city_name):\n",
        "  print(f\"Item in Index {index} is {city}\")"
      ],
      "metadata": {
        "colab": {
          "base_uri": "https://localhost:8080/"
        },
        "id": "GucvxjqgmPkr",
        "outputId": "fb0801b3-8b1e-484f-b945-ef58bc6d48e8"
      },
      "execution_count": 29,
      "outputs": [
        {
          "output_type": "stream",
          "name": "stdout",
          "text": [
            "Item in Index 0 is Pune\n",
            "Item in Index 1 is Nagpur\n",
            "Item in Index 2 is Mumbai\n",
            "Item in Index 3 is Nashik\n"
          ]
        }
      ]
    },
    {
      "cell_type": "code",
      "source": [
        "# range() generates sequewnce of numbers\n",
        "# The range() function generates a sequence of numbers and is commonly used in loops.\n",
        "# Syntax:range(start, stop, step)\n",
        "range(5)"
      ],
      "metadata": {
        "colab": {
          "base_uri": "https://localhost:8080/"
        },
        "id": "H39Se7R_mTcb",
        "outputId": "a6871989-792b-443b-ffa6-94dc2085be00"
      },
      "execution_count": 30,
      "outputs": [
        {
          "output_type": "execute_result",
          "data": {
            "text/plain": [
              "range(0, 5)"
            ]
          },
          "metadata": {},
          "execution_count": 30
        }
      ]
    },
    {
      "cell_type": "code",
      "source": [
        "list(range(5))"
      ],
      "metadata": {
        "colab": {
          "base_uri": "https://localhost:8080/"
        },
        "id": "eMuo7lLRmbYm",
        "outputId": "e9c2e488-603d-4c5c-9b68-6d7b557f1368"
      },
      "execution_count": 31,
      "outputs": [
        {
          "output_type": "execute_result",
          "data": {
            "text/plain": [
              "[0, 1, 2, 3, 4]"
            ]
          },
          "metadata": {},
          "execution_count": 31
        }
      ]
    },
    {
      "cell_type": "code",
      "source": [
        "list(range(0,5))"
      ],
      "metadata": {
        "colab": {
          "base_uri": "https://localhost:8080/"
        },
        "id": "qPjtWqkomfxe",
        "outputId": "56912b98-e5bf-47ac-f64f-b9276bb5517b"
      },
      "execution_count": 32,
      "outputs": [
        {
          "output_type": "execute_result",
          "data": {
            "text/plain": [
              "[0, 1, 2, 3, 4]"
            ]
          },
          "metadata": {},
          "execution_count": 32
        }
      ]
    },
    {
      "cell_type": "code",
      "source": [
        "list(range(1,5))"
      ],
      "metadata": {
        "colab": {
          "base_uri": "https://localhost:8080/"
        },
        "id": "2r0LZ3-0mjnH",
        "outputId": "7ca82f39-eb6d-41cf-98ff-247e1ed39f1d"
      },
      "execution_count": 33,
      "outputs": [
        {
          "output_type": "execute_result",
          "data": {
            "text/plain": [
              "[1, 2, 3, 4]"
            ]
          },
          "metadata": {},
          "execution_count": 33
        }
      ]
    },
    {
      "cell_type": "code",
      "source": [
        "list(range(2,5))"
      ],
      "metadata": {
        "colab": {
          "base_uri": "https://localhost:8080/"
        },
        "id": "E7RsT_HfmlAP",
        "outputId": "76aca082-545c-4f79-b667-5135b2855600"
      },
      "execution_count": 35,
      "outputs": [
        {
          "output_type": "execute_result",
          "data": {
            "text/plain": [
              "[2, 3, 4]"
            ]
          },
          "metadata": {},
          "execution_count": 35
        }
      ]
    },
    {
      "cell_type": "code",
      "source": [
        "list(range(5,20))"
      ],
      "metadata": {
        "colab": {
          "base_uri": "https://localhost:8080/"
        },
        "id": "E8nCslpimmmq",
        "outputId": "d0372191-92ce-4e3d-fda9-b8d24bf3089a"
      },
      "execution_count": 37,
      "outputs": [
        {
          "output_type": "execute_result",
          "data": {
            "text/plain": [
              "[5, 6, 7, 8, 9, 10, 11, 12, 13, 14, 15, 16, 17, 18, 19]"
            ]
          },
          "metadata": {},
          "execution_count": 37
        }
      ]
    },
    {
      "cell_type": "code",
      "source": [
        "for i in range(5):\n",
        "  print(i)\n"
      ],
      "metadata": {
        "colab": {
          "base_uri": "https://localhost:8080/"
        },
        "id": "ciu9hgZ_mqU6",
        "outputId": "749524e4-9601-45ba-e2ba-83e56c40921a"
      },
      "execution_count": 38,
      "outputs": [
        {
          "output_type": "stream",
          "name": "stdout",
          "text": [
            "0\n",
            "1\n",
            "2\n",
            "3\n",
            "4\n"
          ]
        }
      ]
    },
    {
      "cell_type": "code",
      "source": [
        "for i in range(1,5):\n",
        "  print(i)"
      ],
      "metadata": {
        "colab": {
          "base_uri": "https://localhost:8080/"
        },
        "id": "9GDymxv9myqE",
        "outputId": "a508e520-abc1-4dfe-e01c-1791d148ec7a"
      },
      "execution_count": 39,
      "outputs": [
        {
          "output_type": "stream",
          "name": "stdout",
          "text": [
            "1\n",
            "2\n",
            "3\n",
            "4\n"
          ]
        }
      ]
    },
    {
      "cell_type": "code",
      "source": [
        "for i in range(1,11):\n",
        "  print(i)"
      ],
      "metadata": {
        "colab": {
          "base_uri": "https://localhost:8080/"
        },
        "id": "d6Vj4riHm1V0",
        "outputId": "3012e3ba-8822-440c-b681-f589e8f0589d"
      },
      "execution_count": 40,
      "outputs": [
        {
          "output_type": "stream",
          "name": "stdout",
          "text": [
            "1\n",
            "2\n",
            "3\n",
            "4\n",
            "5\n",
            "6\n",
            "7\n",
            "8\n",
            "9\n",
            "10\n"
          ]
        }
      ]
    },
    {
      "cell_type": "code",
      "source": [
        "for i in range(2,21):\n",
        "  print(i)"
      ],
      "metadata": {
        "colab": {
          "base_uri": "https://localhost:8080/"
        },
        "id": "B9jYVG00m3F8",
        "outputId": "e2cdfc1d-5e1b-41fc-cf7c-abbf23131421"
      },
      "execution_count": 41,
      "outputs": [
        {
          "output_type": "stream",
          "name": "stdout",
          "text": [
            "2\n",
            "3\n",
            "4\n",
            "5\n",
            "6\n",
            "7\n",
            "8\n",
            "9\n",
            "10\n",
            "11\n",
            "12\n",
            "13\n",
            "14\n",
            "15\n",
            "16\n",
            "17\n",
            "18\n",
            "19\n",
            "20\n"
          ]
        }
      ]
    },
    {
      "cell_type": "code",
      "source": [
        "for i in range(5):\n",
        "  print(i**2)"
      ],
      "metadata": {
        "colab": {
          "base_uri": "https://localhost:8080/"
        },
        "id": "3FdENoVQm5X2",
        "outputId": "1f5f97c5-3d37-458e-943f-fe128f9baee2"
      },
      "execution_count": 42,
      "outputs": [
        {
          "output_type": "stream",
          "name": "stdout",
          "text": [
            "0\n",
            "1\n",
            "4\n",
            "9\n",
            "16\n"
          ]
        }
      ]
    },
    {
      "cell_type": "code",
      "source": [
        "for i in range(1,11):\n",
        "  print(i**2)"
      ],
      "metadata": {
        "colab": {
          "base_uri": "https://localhost:8080/"
        },
        "id": "Jn9teU53m7zz",
        "outputId": "ad4b5826-dd87-4c88-bb32-d1d5df6df922"
      },
      "execution_count": 43,
      "outputs": [
        {
          "output_type": "stream",
          "name": "stdout",
          "text": [
            "1\n",
            "4\n",
            "9\n",
            "16\n",
            "25\n",
            "36\n",
            "49\n",
            "64\n",
            "81\n",
            "100\n"
          ]
        }
      ]
    },
    {
      "cell_type": "code",
      "source": [
        "for i in range(1,11):\n",
        "  if i% 2 == 0:\n",
        "    print(\"Even no are\",i)\n",
        ""
      ],
      "metadata": {
        "colab": {
          "base_uri": "https://localhost:8080/"
        },
        "id": "w57mGfXlm_G1",
        "outputId": "6a01ebeb-eb04-4fef-aa67-bb0a96bf22e2"
      },
      "execution_count": 44,
      "outputs": [
        {
          "output_type": "stream",
          "name": "stdout",
          "text": [
            "Even no are 2\n",
            "Even no are 4\n",
            "Even no are 6\n",
            "Even no are 8\n",
            "Even no are 10\n"
          ]
        }
      ]
    },
    {
      "cell_type": "code",
      "source": [
        "for i in range(1,11):\n",
        "  if i% 2 == 1:\n",
        "    print(\"Odd no are\",i)"
      ],
      "metadata": {
        "colab": {
          "base_uri": "https://localhost:8080/"
        },
        "id": "HAP3DD54nKD8",
        "outputId": "5a909b15-511c-427f-e873-b17cd12bfb69"
      },
      "execution_count": 46,
      "outputs": [
        {
          "output_type": "stream",
          "name": "stdout",
          "text": [
            "Odd no are 1\n",
            "Odd no are 3\n",
            "Odd no are 5\n",
            "Odd no are 7\n",
            "Odd no are 9\n"
          ]
        }
      ]
    },
    {
      "cell_type": "code",
      "source": [
        "for i in range(1,11):\n",
        "  if i% 2 == 1:\n",
        "    print(\"Odd no are\",i)\n",
        "  else:\n",
        "    print(\"Sqaure of ven no\",i**2)"
      ],
      "metadata": {
        "colab": {
          "base_uri": "https://localhost:8080/"
        },
        "id": "U7lLKwmanNyI",
        "outputId": "9967ecb4-2e03-42cd-c192-0f92477f943f"
      },
      "execution_count": 47,
      "outputs": [
        {
          "output_type": "stream",
          "name": "stdout",
          "text": [
            "Odd no are 1\n",
            "Sqaure of ven no 4\n",
            "Odd no are 3\n",
            "Sqaure of ven no 16\n",
            "Odd no are 5\n",
            "Sqaure of ven no 36\n",
            "Odd no are 7\n",
            "Sqaure of ven no 64\n",
            "Odd no are 9\n",
            "Sqaure of ven no 100\n"
          ]
        }
      ]
    },
    {
      "cell_type": "code",
      "source": [
        "for i in range(1,11):\n",
        "  if i% 2 == 0:\n",
        "    print(f\"Even no is {i}:\",i)\n",
        "  else:\n",
        "    print(f\"Sqaure of odd no is:{i}:\",i**2)"
      ],
      "metadata": {
        "colab": {
          "base_uri": "https://localhost:8080/"
        },
        "id": "SVvRK7EhnZjI",
        "outputId": "da0c38d6-1e23-45ea-a7be-b1485e3f0905"
      },
      "execution_count": 50,
      "outputs": [
        {
          "output_type": "stream",
          "name": "stdout",
          "text": [
            "Sqaure of odd no is:1: 1\n",
            "Even no is 2: 2\n",
            "Sqaure of odd no is:3: 9\n",
            "Even no is 4: 4\n",
            "Sqaure of odd no is:5: 25\n",
            "Even no is 6: 6\n",
            "Sqaure of odd no is:7: 49\n",
            "Even no is 8: 8\n",
            "Sqaure of odd no is:9: 81\n",
            "Even no is 10: 10\n"
          ]
        }
      ]
    },
    {
      "cell_type": "code",
      "source": [
        "city_name = ['Pune','Nagpur','Mumbai','Nashik']\n",
        "for i in range(len(city_name)):\n",
        "  print(f\"Item in index {i} is {city_name[i]} \")"
      ],
      "metadata": {
        "colab": {
          "base_uri": "https://localhost:8080/"
        },
        "id": "p8i2oXNFnfwA",
        "outputId": "5e4a5992-c744-4ac3-e5b0-d818ba0586a8"
      },
      "execution_count": 51,
      "outputs": [
        {
          "output_type": "stream",
          "name": "stdout",
          "text": [
            "Item in index 0 is Pune \n",
            "Item in index 1 is Nagpur \n",
            "Item in index 2 is Mumbai \n",
            "Item in index 3 is Nashik \n"
          ]
        }
      ]
    },
    {
      "cell_type": "code",
      "source": [
        "# copy function\n",
        "\n",
        "list1 = [2,3,4,5,6]\n",
        "list2 = list1\n",
        "\n",
        "print(list1)\n",
        "print(list2)"
      ],
      "metadata": {
        "colab": {
          "base_uri": "https://localhost:8080/"
        },
        "id": "iFUQuDyFnzW5",
        "outputId": "9eb8b44b-cd35-4046-ccaa-8ad69d14fa75"
      },
      "execution_count": 53,
      "outputs": [
        {
          "output_type": "stream",
          "name": "stdout",
          "text": [
            "[2, 3, 4, 5, 6]\n",
            "[2, 3, 4, 5, 6]\n"
          ]
        }
      ]
    },
    {
      "cell_type": "code",
      "source": [
        "list2.append(100)\n",
        "\n",
        "print(list1)\n",
        "print(list2)"
      ],
      "metadata": {
        "colab": {
          "base_uri": "https://localhost:8080/"
        },
        "id": "9aFZ70ZKnzap",
        "outputId": "a8053665-b69d-43d1-eec4-aa14a8861415"
      },
      "execution_count": 54,
      "outputs": [
        {
          "output_type": "stream",
          "name": "stdout",
          "text": [
            "[2, 3, 4, 5, 6, 100]\n",
            "[2, 3, 4, 5, 6, 100]\n"
          ]
        }
      ]
    },
    {
      "cell_type": "code",
      "source": [
        "list1 = [2,3,4,5,6]\n",
        "list2 = list1.copy()   # shallow copy\n",
        "print(list1)\n",
        "print(list2)"
      ],
      "metadata": {
        "colab": {
          "base_uri": "https://localhost:8080/"
        },
        "id": "0Kl9QH_3nzeL",
        "outputId": "e49d34c0-ebbc-4f8b-ec31-84c7b2a8775c"
      },
      "execution_count": 55,
      "outputs": [
        {
          "output_type": "stream",
          "name": "stdout",
          "text": [
            "[2, 3, 4, 5, 6]\n",
            "[2, 3, 4, 5, 6]\n"
          ]
        }
      ]
    },
    {
      "cell_type": "code",
      "source": [
        "list2 .append(100)\n",
        "\n",
        "print(list1)\n",
        "print(list2)"
      ],
      "metadata": {
        "colab": {
          "base_uri": "https://localhost:8080/"
        },
        "id": "GssGmwJYnzh_",
        "outputId": "bfe63f29-7a3a-416d-f093-233e05e353df"
      },
      "execution_count": 56,
      "outputs": [
        {
          "output_type": "stream",
          "name": "stdout",
          "text": [
            "[2, 3, 4, 5, 6]\n",
            "[2, 3, 4, 5, 6, 100]\n"
          ]
        }
      ]
    },
    {
      "cell_type": "code",
      "source": [
        "# deep copy\n",
        "# The deepcopy() function creates a new object and recursively copies all objects inside it, so changes to the copy won't affect the original.\n",
        "# Syntax:import copy\n",
        "# copy.deepcopy(object)\n",
        "\n",
        "import copy\n"
      ],
      "metadata": {
        "id": "LJllos-UnznD"
      },
      "execution_count": 57,
      "outputs": []
    },
    {
      "cell_type": "code",
      "source": [
        "list1 = [[2,3],[3,4],[4,5],[5,6]]\n",
        "list2 = copy.deepcopy(list1)   # deep copy\n",
        "print(list1)\n",
        "print(list2)"
      ],
      "metadata": {
        "colab": {
          "base_uri": "https://localhost:8080/"
        },
        "id": "rOJvHbOmpIK_",
        "outputId": "9d44ffc0-9729-471d-d5f5-2068be3efe26"
      },
      "execution_count": 58,
      "outputs": [
        {
          "output_type": "stream",
          "name": "stdout",
          "text": [
            "[[2, 3], [3, 4], [4, 5], [5, 6]]\n",
            "[[2, 3], [3, 4], [4, 5], [5, 6]]\n"
          ]
        }
      ]
    },
    {
      "cell_type": "code",
      "source": [
        "list1[1][1]"
      ],
      "metadata": {
        "colab": {
          "base_uri": "https://localhost:8080/"
        },
        "id": "hHz0ZHTvpJKp",
        "outputId": "cb88a106-334c-46ae-908e-9c3a8f7ad8cf"
      },
      "execution_count": 59,
      "outputs": [
        {
          "output_type": "execute_result",
          "data": {
            "text/plain": [
              "4"
            ]
          },
          "metadata": {},
          "execution_count": 59
        }
      ]
    },
    {
      "cell_type": "code",
      "source": [
        "list1[1][1] = 'Python'\n"
      ],
      "metadata": {
        "id": "ksSr8BnOpJQT"
      },
      "execution_count": 60,
      "outputs": []
    },
    {
      "cell_type": "code",
      "source": [
        "print(list1)\n",
        "print(list2)"
      ],
      "metadata": {
        "colab": {
          "base_uri": "https://localhost:8080/"
        },
        "id": "xKK-DNSCpJWT",
        "outputId": "553b5a37-e537-4209-f5c2-f063af53d4e7"
      },
      "execution_count": 61,
      "outputs": [
        {
          "output_type": "stream",
          "name": "stdout",
          "text": [
            "[[2, 3], [3, 'Python'], [4, 5], [5, 6]]\n",
            "[[2, 3], [3, 4], [4, 5], [5, 6]]\n"
          ]
        }
      ]
    },
    {
      "cell_type": "code",
      "source": [
        "list3 = list1.copy()\n",
        "print(list3)"
      ],
      "metadata": {
        "colab": {
          "base_uri": "https://localhost:8080/"
        },
        "id": "_--qKy9tps3a",
        "outputId": "90495fae-71fd-4867-8df0-cd00a33ceb72"
      },
      "execution_count": 62,
      "outputs": [
        {
          "output_type": "stream",
          "name": "stdout",
          "text": [
            "[[2, 3], [3, 'Python'], [4, 5], [5, 6]]\n"
          ]
        }
      ]
    },
    {
      "cell_type": "code",
      "source": [
        "list1[1][1]"
      ],
      "metadata": {
        "colab": {
          "base_uri": "https://localhost:8080/",
          "height": 35
        },
        "id": "ifM1-quYp5J2",
        "outputId": "cbe28537-b52c-413b-fafe-4cb22d4684d0"
      },
      "execution_count": 64,
      "outputs": [
        {
          "output_type": "execute_result",
          "data": {
            "text/plain": [
              "'Python'"
            ],
            "application/vnd.google.colaboratory.intrinsic+json": {
              "type": "string"
            }
          },
          "metadata": {},
          "execution_count": 64
        }
      ]
    },
    {
      "cell_type": "code",
      "source": [
        "list1[1][1] = 4"
      ],
      "metadata": {
        "id": "oStlx5Aop9Fk"
      },
      "execution_count": 65,
      "outputs": []
    },
    {
      "cell_type": "code",
      "source": [
        "print(list1)\n",
        "print(list3)"
      ],
      "metadata": {
        "colab": {
          "base_uri": "https://localhost:8080/"
        },
        "id": "tOh3pGJkqCGc",
        "outputId": "03e482a6-19f4-481c-87a0-d627651768e5"
      },
      "execution_count": 66,
      "outputs": [
        {
          "output_type": "stream",
          "name": "stdout",
          "text": [
            "[[2, 3], [3, 4], [4, 5], [5, 6]]\n",
            "[[2, 3], [3, 4], [4, 5], [5, 6]]\n"
          ]
        }
      ]
    },
    {
      "cell_type": "code",
      "source": [
        "# list compression\n",
        "# List comprehension provides a shorter syntax for creating new lists based on existing iterables (like lists, tuples, or ranges). It's more concise and efficient than using a traditional for loop.\n",
        "# Syntax:[expression for item in iterable if condition]"
      ],
      "metadata": {
        "id": "vLi-aHWlqE2G"
      },
      "execution_count": null,
      "outputs": []
    },
    {
      "cell_type": "code",
      "source": [
        "nums = [1,2,3,4,5,6,7,8,9]\n",
        "for num in nums:\n",
        "  print(num**2)"
      ],
      "metadata": {
        "colab": {
          "base_uri": "https://localhost:8080/"
        },
        "id": "-_OswVCZqPAx",
        "outputId": "48650db1-af2c-4ca0-90f6-7a087ed41c5f"
      },
      "execution_count": 67,
      "outputs": [
        {
          "output_type": "stream",
          "name": "stdout",
          "text": [
            "1\n",
            "4\n",
            "9\n",
            "16\n",
            "25\n",
            "36\n",
            "49\n",
            "64\n",
            "81\n"
          ]
        }
      ]
    },
    {
      "cell_type": "code",
      "source": [
        "[num**2 for num in nums]"
      ],
      "metadata": {
        "colab": {
          "base_uri": "https://localhost:8080/"
        },
        "id": "QmYrIg6jqPEy",
        "outputId": "4f23b5d7-0b89-41e4-f450-bdf3d5efef90"
      },
      "execution_count": 68,
      "outputs": [
        {
          "output_type": "execute_result",
          "data": {
            "text/plain": [
              "[1, 4, 9, 16, 25, 36, 49, 64, 81]"
            ]
          },
          "metadata": {},
          "execution_count": 68
        }
      ]
    },
    {
      "cell_type": "code",
      "source": [
        "square_list = [num**2 for num in nums]\n",
        "square_list"
      ],
      "metadata": {
        "colab": {
          "base_uri": "https://localhost:8080/"
        },
        "id": "Rf71fRI2q9Na",
        "outputId": "e1c7fa9b-dcb5-4a45-f097-ed14f02acae0"
      },
      "execution_count": 71,
      "outputs": [
        {
          "output_type": "execute_result",
          "data": {
            "text/plain": [
              "[1, 4, 9, 16, 25, 36, 49, 64, 81]"
            ]
          },
          "metadata": {},
          "execution_count": 71
        }
      ]
    },
    {
      "cell_type": "code",
      "source": [
        "[num**2 for num in nums if num%2==0]"
      ],
      "metadata": {
        "colab": {
          "base_uri": "https://localhost:8080/"
        },
        "id": "bb5uZJvHqPKI",
        "outputId": "3f1a7568-3a92-472e-c57b-1dc1149161cf"
      },
      "execution_count": 69,
      "outputs": [
        {
          "output_type": "execute_result",
          "data": {
            "text/plain": [
              "[4, 16, 36, 64]"
            ]
          },
          "metadata": {},
          "execution_count": 69
        }
      ]
    },
    {
      "cell_type": "code",
      "source": [
        "[num**2 for num in nums if num%2==1]"
      ],
      "metadata": {
        "colab": {
          "base_uri": "https://localhost:8080/"
        },
        "id": "qZYjWTzyq3yu",
        "outputId": "2a42243e-a627-4e48-9c5a-ced29f9c21d1"
      },
      "execution_count": 70,
      "outputs": [
        {
          "output_type": "execute_result",
          "data": {
            "text/plain": [
              "[1, 9, 25, 49, 81]"
            ]
          },
          "metadata": {},
          "execution_count": 70
        }
      ]
    },
    {
      "cell_type": "code",
      "source": [
        "[num**3 for num in nums if num%2==1]"
      ],
      "metadata": {
        "colab": {
          "base_uri": "https://localhost:8080/"
        },
        "id": "tH6TPTzYq55u",
        "outputId": "4786d887-35ce-437a-b6e1-8558d56dd86b"
      },
      "execution_count": 72,
      "outputs": [
        {
          "output_type": "execute_result",
          "data": {
            "text/plain": [
              "[1, 27, 125, 343, 729]"
            ]
          },
          "metadata": {},
          "execution_count": 72
        }
      ]
    },
    {
      "cell_type": "code",
      "source": [
        "# filter even no using range()\n",
        "# [expression for i iterables if condintoin]\n",
        "[ i for i in range(10) if i % 2 == 0]\n"
      ],
      "metadata": {
        "colab": {
          "base_uri": "https://localhost:8080/"
        },
        "id": "PuW7VGnZrG2y",
        "outputId": "0e4bc3f3-6b14-4e66-fad5-c728ee730da7"
      },
      "execution_count": 74,
      "outputs": [
        {
          "output_type": "execute_result",
          "data": {
            "text/plain": [
              "[0, 2, 4, 6, 8]"
            ]
          },
          "metadata": {},
          "execution_count": 74
        }
      ]
    },
    {
      "cell_type": "code",
      "source": [],
      "metadata": {
        "id": "rWK_VnQoru-9"
      },
      "execution_count": null,
      "outputs": []
    }
  ]
}