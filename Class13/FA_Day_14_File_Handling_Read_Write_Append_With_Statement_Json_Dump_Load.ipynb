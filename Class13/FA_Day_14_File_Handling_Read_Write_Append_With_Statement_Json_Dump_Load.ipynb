{
  "nbformat": 4,
  "nbformat_minor": 0,
  "metadata": {
    "colab": {
      "provenance": []
    },
    "kernelspec": {
      "name": "python3",
      "display_name": "Python 3"
    },
    "language_info": {
      "name": "python"
    }
  },
  "cells": [
    {
      "cell_type": "code",
      "execution_count": null,
      "metadata": {
        "id": "NJ7Zn-A6pZvh"
      },
      "outputs": [],
      "source": [
        "# File Handling"
      ]
    },
    {
      "cell_type": "code",
      "source": [
        "# Text\n",
        "# Access Modes\n",
        "\"\"\"\n",
        "1.Write >> 'w'\n",
        "2.Read >> 'r'\n",
        "3.Append >> 'a'"
      ],
      "metadata": {
        "id": "wVNxmhWppaL3"
      },
      "execution_count": null,
      "outputs": []
    },
    {
      "cell_type": "code",
      "source": [
        "# Opening a file\n",
        "\n",
        "f = open(file_name, mode)\n",
        "\n",
        "Default mode >> read\n",
        "\n",
        "open(file) >>>> read\n",
        "\n",
        "\n",
        "open(file,'r')  >> read\n",
        "\n",
        "\n",
        "open funtion will return a file object"
      ],
      "metadata": {
        "id": "y2stjXJ9paON"
      },
      "execution_count": null,
      "outputs": []
    },
    {
      "cell_type": "code",
      "source": [
        "# Close file\n",
        "file.close()     # f.close()"
      ],
      "metadata": {
        "id": "vGgw5qZ1paQG"
      },
      "execution_count": null,
      "outputs": []
    },
    {
      "cell_type": "code",
      "source": [
        "# Write\n",
        "\n",
        "write >> 'w'\n",
        "\n",
        "create a file if not exit\n",
        "overwrite file if file already exists"
      ],
      "metadata": {
        "id": "Qti2TEsSpaSI"
      },
      "execution_count": null,
      "outputs": []
    },
    {
      "cell_type": "code",
      "source": [
        "file_path = open('test.txt','w')\n",
        "file_path.write(\"Hello\")\n",
        "file_path.close()"
      ],
      "metadata": {
        "id": "StLv2uEzpaUv"
      },
      "execution_count": 7,
      "outputs": []
    },
    {
      "cell_type": "code",
      "source": [
        "file_path = open(\"myfile.txt\",'w')\n",
        "file_path.write(\"we are learning python and data science\")\n",
        "file_path.close()"
      ],
      "metadata": {
        "id": "wddlnGeDpaXD"
      },
      "execution_count": 3,
      "outputs": []
    },
    {
      "cell_type": "code",
      "source": [
        "myfile = open('myfile.txt')\n",
        "myfile.read()\n",
        "myfile.close()"
      ],
      "metadata": {
        "id": "y8IAerVzpaZr"
      },
      "execution_count": 6,
      "outputs": []
    },
    {
      "cell_type": "code",
      "source": [
        "myfile = open('myfile.txt')\n",
        "text = myfile.read()\n",
        "print(text)\n",
        "myfile.close()"
      ],
      "metadata": {
        "colab": {
          "base_uri": "https://localhost:8080/"
        },
        "id": "wggh9k9Upab1",
        "outputId": "e1923ccb-f664-4ada-8311-90e122b0d1d7"
      },
      "execution_count": 5,
      "outputs": [
        {
          "output_type": "stream",
          "name": "stdout",
          "text": [
            "we are learning python and data science\n"
          ]
        }
      ]
    },
    {
      "cell_type": "code",
      "source": [
        "# myfile = open(r\"C:\\Users\\Admin\\Downloads\\myfile.txt\")\n",
        "# text = myfile.read()\n",
        "# print(text)\n",
        "# myfile.close()"
      ],
      "metadata": {
        "id": "HUKptXg9pae1"
      },
      "execution_count": 10,
      "outputs": []
    },
    {
      "cell_type": "code",
      "source": [],
      "metadata": {
        "id": "UTrZ08jlpahz"
      },
      "execution_count": null,
      "outputs": []
    },
    {
      "cell_type": "code",
      "source": [
        "# Append\n",
        "\n",
        "append >> 'a'\n",
        "\n",
        "create a file if not exists and add the content into it\n",
        "add text if already exist"
      ],
      "metadata": {
        "id": "pxsy8XVrtjAC"
      },
      "execution_count": null,
      "outputs": []
    },
    {
      "cell_type": "code",
      "source": [
        "new_bank_data = \"\"\"\n",
        "Mumbai Customer Care No: -9876543212\n",
        "Mumbai Schemw: Current Account- Normal\n",
        "202501 Currenly: INR\"\"\"\n"
      ],
      "metadata": {
        "id": "ZhCiLJWOtjCF"
      },
      "execution_count": 11,
      "outputs": []
    },
    {
      "cell_type": "code",
      "source": [
        "new_bank_data"
      ],
      "metadata": {
        "colab": {
          "base_uri": "https://localhost:8080/",
          "height": 35
        },
        "id": "Lb61pwSXtjFU",
        "outputId": "3e9733b1-d64d-448c-a5df-74f4b772b3ac"
      },
      "execution_count": 12,
      "outputs": [
        {
          "output_type": "execute_result",
          "data": {
            "text/plain": [
              "'\\nMumbai Customer Care No: -9876543212\\nMumbai Schemw: Current Account- Normal\\n202501 Currenly: INR'"
            ],
            "application/vnd.google.colaboratory.intrinsic+json": {
              "type": "string"
            }
          },
          "metadata": {},
          "execution_count": 12
        }
      ]
    },
    {
      "cell_type": "code",
      "source": [
        "# Append\n",
        "f = open('bank.txt','a')\n",
        "f.write(new_bank_data)\n",
        "f.close()"
      ],
      "metadata": {
        "id": "606x6sk0uQU5"
      },
      "execution_count": 13,
      "outputs": []
    },
    {
      "cell_type": "code",
      "source": [
        "# Write\n",
        "f = open('test_file','w')\n",
        "f.write('Machine Learning')\n",
        "f.close()"
      ],
      "metadata": {
        "id": "LcAN-LnQukp6"
      },
      "execution_count": 14,
      "outputs": []
    },
    {
      "cell_type": "code",
      "source": [
        "# Read\n",
        "f = open('test_file','r')\n",
        "text = f.read()\n",
        "print(text)\n",
        "f.close()"
      ],
      "metadata": {
        "colab": {
          "base_uri": "https://localhost:8080/"
        },
        "id": "0H8u11Fdu0EQ",
        "outputId": "0518ba24-994e-426b-98a1-0cd39974b8ff"
      },
      "execution_count": 15,
      "outputs": [
        {
          "output_type": "stream",
          "name": "stdout",
          "text": [
            "Machine Learning\n"
          ]
        }
      ]
    },
    {
      "cell_type": "code",
      "source": [
        "f = open('test_file','a')\n",
        "f.write(\"\\n Data Science\")\n",
        "f.close()"
      ],
      "metadata": {
        "id": "PM-u_StPvC4D"
      },
      "execution_count": 18,
      "outputs": []
    },
    {
      "cell_type": "code",
      "source": [
        "# Read\n",
        "f = open('test_file','r')\n",
        "text = f.read()\n",
        "print(text)\n",
        "f.close()"
      ],
      "metadata": {
        "colab": {
          "base_uri": "https://localhost:8080/"
        },
        "id": "XeoTKzLnvWX3",
        "outputId": "33448fbd-a35d-4b78-d40d-bf4def05c4d7"
      },
      "execution_count": 19,
      "outputs": [
        {
          "output_type": "stream",
          "name": "stdout",
          "text": [
            "Machine LearningData Science\n",
            " Data Science\n"
          ]
        }
      ]
    },
    {
      "cell_type": "code",
      "source": [
        "# Readline()\n",
        "\n",
        "readline >> gives output line by line, it reads only one line"
      ],
      "metadata": {
        "id": "jRovCwXPvpYA"
      },
      "execution_count": null,
      "outputs": []
    },
    {
      "cell_type": "code",
      "source": [
        "print(new_bank_data)"
      ],
      "metadata": {
        "colab": {
          "base_uri": "https://localhost:8080/"
        },
        "id": "ApJTo_EVvpVE",
        "outputId": "045ef0ad-3940-4c09-89e6-b357a889da01"
      },
      "execution_count": 21,
      "outputs": [
        {
          "output_type": "stream",
          "name": "stdout",
          "text": [
            "\n",
            "Mumbai Customer Care No: -9876543212\n",
            "Mumbai Schemw: Current Account- Normal\n",
            "202501 Currenly: INR\n"
          ]
        }
      ]
    },
    {
      "cell_type": "code",
      "source": [
        "file = open(\"bank.txt\",'r')\n",
        "text = file.read()\n",
        "print(text)\n",
        "file.close()"
      ],
      "metadata": {
        "colab": {
          "base_uri": "https://localhost:8080/"
        },
        "id": "hcV69WwbvpSq",
        "outputId": "9ce429ce-8afd-4ccf-cc0c-671f70d3d8a6"
      },
      "execution_count": 24,
      "outputs": [
        {
          "output_type": "stream",
          "name": "stdout",
          "text": [
            "\n",
            "Mumbai Customer Care No: -9876543212\n",
            "Mumbai Schemw: Current Account- Normal\n",
            "202501 Currenly: INR\n"
          ]
        }
      ]
    },
    {
      "cell_type": "code",
      "source": [
        "file = open(\"bank.txt\",'r')\n",
        "text1 = file.readline()\n",
        "print(text1)\n",
        "text2 = file.readline()\n",
        "print(text2)\n",
        "text3 = file.readline()\n",
        "print(text3)\n",
        "text4 = file.readline()\n",
        "print(text4)\n",
        "file.close()"
      ],
      "metadata": {
        "colab": {
          "base_uri": "https://localhost:8080/"
        },
        "id": "eXOgsceXvpQY",
        "outputId": "1d3cdf3a-498a-4403-c7f4-c42a61e4f214"
      },
      "execution_count": 26,
      "outputs": [
        {
          "output_type": "stream",
          "name": "stdout",
          "text": [
            "\n",
            "\n",
            "Mumbai Customer Care No: -9876543212\n",
            "\n",
            "Mumbai Schemw: Current Account- Normal\n",
            "\n",
            "202501 Currenly: INR\n"
          ]
        }
      ]
    },
    {
      "cell_type": "code",
      "source": [
        "# Readlines()\n",
        "it will return list of all lines\n"
      ],
      "metadata": {
        "id": "422OANfbvpN3"
      },
      "execution_count": null,
      "outputs": []
    },
    {
      "cell_type": "code",
      "source": [
        "f = open('bank.txt')\n",
        "text = f.readlines()\n",
        "print(text)\n",
        "f.close()\n"
      ],
      "metadata": {
        "colab": {
          "base_uri": "https://localhost:8080/"
        },
        "id": "BRqzLrMEvpKr",
        "outputId": "fe2e5464-7c91-4c96-f15e-c15bb1fc414c"
      },
      "execution_count": 28,
      "outputs": [
        {
          "output_type": "stream",
          "name": "stdout",
          "text": [
            "['\\n', 'Mumbai Customer Care No: -9876543212\\n', 'Mumbai Schemw: Current Account- Normal\\n', '202501 Currenly: INR']\n"
          ]
        }
      ]
    },
    {
      "cell_type": "code",
      "source": [
        "# difference between readline vs readlines\n",
        "\n",
        "readline >> reading line by line,,, at a time only one lines\n",
        "\n",
        "readlines >> read all lines at a same time and return output in list of lines"
      ],
      "metadata": {
        "id": "gGR0215kvpH9"
      },
      "execution_count": null,
      "outputs": []
    },
    {
      "cell_type": "code",
      "source": [],
      "metadata": {
        "id": "vE6iTvIevpFT"
      },
      "execution_count": null,
      "outputs": []
    },
    {
      "cell_type": "code",
      "source": [
        "# with statement\n",
        "no need to use close() functions\n",
        "file will close automatically"
      ],
      "metadata": {
        "id": "icpFAZs5vpCr"
      },
      "execution_count": null,
      "outputs": []
    },
    {
      "cell_type": "code",
      "source": [
        "file =  open(\"myfile.txt\",'r')\n",
        "text = file.read()\n",
        "print(text)\n",
        "file.close()"
      ],
      "metadata": {
        "colab": {
          "base_uri": "https://localhost:8080/"
        },
        "id": "ulEWTpbovpAN",
        "outputId": "96aa319d-8d60-43dc-e909-6078bcbde2ad"
      },
      "execution_count": 29,
      "outputs": [
        {
          "output_type": "stream",
          "name": "stdout",
          "text": [
            "we are learning python and data science\n"
          ]
        }
      ]
    },
    {
      "cell_type": "code",
      "source": [
        "with open('myfile.txt','r') as file:\n",
        "  text = file.read()\n",
        "  print(text)"
      ],
      "metadata": {
        "colab": {
          "base_uri": "https://localhost:8080/"
        },
        "id": "gZJhlHj_vo89",
        "outputId": "28bd4916-949f-47b4-dff4-eee0150a34ce"
      },
      "execution_count": 31,
      "outputs": [
        {
          "output_type": "stream",
          "name": "stdout",
          "text": [
            "we are learning python and data science\n"
          ]
        }
      ]
    },
    {
      "cell_type": "code",
      "source": [
        "with open('xyz.txt','w') as f:\n",
        "  f.write(\"file is written with statement\")"
      ],
      "metadata": {
        "id": "4X8E7NDCvo6N"
      },
      "execution_count": 32,
      "outputs": []
    },
    {
      "cell_type": "code",
      "source": [
        "with open('xyz.txt') as f:\n",
        "  text = f.read()\n",
        "  print(text)"
      ],
      "metadata": {
        "colab": {
          "base_uri": "https://localhost:8080/"
        },
        "id": "QkKmWl1_vo3d",
        "outputId": "b964883a-231d-45a1-b174-3ddefd136866"
      },
      "execution_count": 33,
      "outputs": [
        {
          "output_type": "stream",
          "name": "stdout",
          "text": [
            "file is written with statement\n"
          ]
        }
      ]
    },
    {
      "cell_type": "code",
      "source": [
        "text = '''Mahesh Electricals\n",
        "Joint Holder : -\n",
        "  Shop No 01 BABA MARKET HAROLA\n",
        "sector 05\n",
        "\n",
        "  NOIDA Customer No:- 7451234567\n",
        "  UTTAR PRADESH SCHEME: CURRENT ACCOUNT-NORMAL\n",
        "201301 Currency: INR'''"
      ],
      "metadata": {
        "id": "wzA25kdDvo02"
      },
      "execution_count": 34,
      "outputs": []
    },
    {
      "cell_type": "code",
      "source": [
        "text"
      ],
      "metadata": {
        "colab": {
          "base_uri": "https://localhost:8080/",
          "height": 53
        },
        "id": "D53ppm6Rvoyf",
        "outputId": "d047a39c-6925-420b-e382-493409bf4f4e"
      },
      "execution_count": 35,
      "outputs": [
        {
          "output_type": "execute_result",
          "data": {
            "text/plain": [
              "'Mahesh Electricals\\nJoint Holder : - \\n  Shop No 01 BABA MARKET HAROLA\\nsector 05\\n\\n  NOIDA Customer No:- 7451234567\\n  UTTAR PRADESH SCHEME: CURRENT ACCOUNT-NORMAL\\n201301 Currency: INR'"
            ],
            "application/vnd.google.colaboratory.intrinsic+json": {
              "type": "string"
            }
          },
          "metadata": {},
          "execution_count": 35
        }
      ]
    },
    {
      "cell_type": "code",
      "source": [
        "print(text)"
      ],
      "metadata": {
        "colab": {
          "base_uri": "https://localhost:8080/"
        },
        "id": "otyCKMKRvovx",
        "outputId": "35e1fdcc-f2b7-4a43-fa6e-cc777a591c01"
      },
      "execution_count": 36,
      "outputs": [
        {
          "output_type": "stream",
          "name": "stdout",
          "text": [
            "Mahesh Electricals\n",
            "Joint Holder : - \n",
            "  Shop No 01 BABA MARKET HAROLA\n",
            "sector 05\n",
            "\n",
            "  NOIDA Customer No:- 7451234567\n",
            "  UTTAR PRADESH SCHEME: CURRENT ACCOUNT-NORMAL\n",
            "201301 Currency: INR\n"
          ]
        }
      ]
    },
    {
      "cell_type": "code",
      "source": [
        "with open('customer_data.txt','w') as f:\n",
        "  f.write(text)"
      ],
      "metadata": {
        "id": "j3JyCBFX0WID"
      },
      "execution_count": 38,
      "outputs": []
    },
    {
      "cell_type": "code",
      "source": [
        "with open ('customer_data.txt') as f:\n",
        "  text_list = f.readlines()\n",
        "  print(text_list)"
      ],
      "metadata": {
        "colab": {
          "base_uri": "https://localhost:8080/"
        },
        "id": "LwWIf6NSvosn",
        "outputId": "7961c151-9717-439c-cc8d-970e64af04d2"
      },
      "execution_count": 39,
      "outputs": [
        {
          "output_type": "stream",
          "name": "stdout",
          "text": [
            "['Mahesh Electricals\\n', 'Joint Holder : - \\n', '  Shop No 01 BABA MARKET HAROLA\\n', 'sector 05\\n', '\\n', '  NOIDA Customer No:- 7451234567\\n', '  UTTAR PRADESH SCHEME: CURRENT ACCOUNT-NORMAL\\n', '201301 Currency: INR']\n"
          ]
        }
      ]
    },
    {
      "cell_type": "code",
      "source": [
        "with open ('customer_data.txt') as f:\n",
        "  text_list = f.readlines()\n",
        "  for line in text_list:\n",
        "    print(line)"
      ],
      "metadata": {
        "colab": {
          "base_uri": "https://localhost:8080/"
        },
        "id": "Dki0YQ8QvopR",
        "outputId": "90a5b1f0-6cb4-4f88-9842-4250e59871ba"
      },
      "execution_count": 40,
      "outputs": [
        {
          "output_type": "stream",
          "name": "stdout",
          "text": [
            "Mahesh Electricals\n",
            "\n",
            "Joint Holder : - \n",
            "\n",
            "  Shop No 01 BABA MARKET HAROLA\n",
            "\n",
            "sector 05\n",
            "\n",
            "\n",
            "\n",
            "  NOIDA Customer No:- 7451234567\n",
            "\n",
            "  UTTAR PRADESH SCHEME: CURRENT ACCOUNT-NORMAL\n",
            "\n",
            "201301 Currency: INR\n"
          ]
        }
      ]
    },
    {
      "cell_type": "code",
      "source": [
        "with open ('customer_data.txt') as f:\n",
        "  text_list = f.readlines()\n",
        "  for line in text_list:\n",
        "    if line.isspace():\n",
        "      continue\n",
        "    line = line.strip()    # remove left and right space\n",
        "    print(line)"
      ],
      "metadata": {
        "colab": {
          "base_uri": "https://localhost:8080/"
        },
        "id": "qlQHOdg_0qVo",
        "outputId": "ec36404a-0d2a-4f20-ad53-5ac8cf1259b3"
      },
      "execution_count": 41,
      "outputs": [
        {
          "output_type": "stream",
          "name": "stdout",
          "text": [
            "Mahesh Electricals\n",
            "Joint Holder : -\n",
            "Shop No 01 BABA MARKET HAROLA\n",
            "sector 05\n",
            "NOIDA Customer No:- 7451234567\n",
            "UTTAR PRADESH SCHEME: CURRENT ACCOUNT-NORMAL\n",
            "201301 Currency: INR\n"
          ]
        }
      ]
    },
    {
      "cell_type": "code",
      "source": [
        "new_text_list = []\n",
        "\n",
        "with open ('customer_data.txt') as f:\n",
        "  text_list = f.readlines()\n",
        "  for line in text_list:\n",
        "    if line.isspace():\n",
        "      continue\n",
        "    line = line.strip()    # remove left and right space\n",
        "    new_text_list.append(line)\n",
        "\n",
        "\n",
        "new_text_list\n",
        ""
      ],
      "metadata": {
        "colab": {
          "base_uri": "https://localhost:8080/"
        },
        "id": "iqqOY6vO0qY5",
        "outputId": "eded8b31-6a1e-4d19-c155-44725d88686e"
      },
      "execution_count": 42,
      "outputs": [
        {
          "output_type": "execute_result",
          "data": {
            "text/plain": [
              "['Mahesh Electricals',\n",
              " 'Joint Holder : -',\n",
              " 'Shop No 01 BABA MARKET HAROLA',\n",
              " 'sector 05',\n",
              " 'NOIDA Customer No:- 7451234567',\n",
              " 'UTTAR PRADESH SCHEME: CURRENT ACCOUNT-NORMAL',\n",
              " '201301 Currency: INR']"
            ]
          },
          "metadata": {},
          "execution_count": 42
        }
      ]
    },
    {
      "cell_type": "code",
      "source": [
        "new_text_list = []\n",
        "\n",
        "with open ('customer_data.txt') as f:\n",
        "  text_list = f.readlines()\n",
        "  for line in text_list:\n",
        "    if line.isspace():\n",
        "      continue\n",
        "    line = line.strip()    # remove left and right space\n",
        "    new_text_list.append(line)\n",
        "\n",
        "# print(new_text_list)\n",
        "\n",
        "text = \"\\n\".join(new_text_list)\n",
        "print(text)"
      ],
      "metadata": {
        "colab": {
          "base_uri": "https://localhost:8080/"
        },
        "id": "Dt9wvi3rvomh",
        "outputId": "347c41ad-6ca7-4d13-84e1-bb3f549d18b0"
      },
      "execution_count": 45,
      "outputs": [
        {
          "output_type": "stream",
          "name": "stdout",
          "text": [
            "Mahesh Electricals\n",
            "Joint Holder : -\n",
            "Shop No 01 BABA MARKET HAROLA\n",
            "sector 05\n",
            "NOIDA Customer No:- 7451234567\n",
            "UTTAR PRADESH SCHEME: CURRENT ACCOUNT-NORMAL\n",
            "201301 Currency: INR\n"
          ]
        }
      ]
    },
    {
      "cell_type": "code",
      "source": [
        "with open('customer_data2.txt','w') as f:\n",
        "  f.write(text)"
      ],
      "metadata": {
        "id": "IQ3lf2hJvojT"
      },
      "execution_count": 46,
      "outputs": []
    },
    {
      "cell_type": "code",
      "source": [
        "with open('customer_data2.txt','r') as f:\n",
        "  text = f.read()\n",
        "  print(text)"
      ],
      "metadata": {
        "colab": {
          "base_uri": "https://localhost:8080/"
        },
        "id": "LfN9TBc7vofd",
        "outputId": "69a8b64f-c1ad-4ecb-a992-500a4e31fa68"
      },
      "execution_count": 47,
      "outputs": [
        {
          "output_type": "stream",
          "name": "stdout",
          "text": [
            "Mahesh Electricals\n",
            "Joint Holder : -\n",
            "Shop No 01 BABA MARKET HAROLA\n",
            "sector 05\n",
            "NOIDA Customer No:- 7451234567\n",
            "UTTAR PRADESH SCHEME: CURRENT ACCOUNT-NORMAL\n",
            "201301 Currency: INR\n"
          ]
        }
      ]
    },
    {
      "cell_type": "code",
      "source": [
        "# JSON FILE"
      ],
      "metadata": {
        "id": "5nZpWh9pvbHk"
      },
      "execution_count": null,
      "outputs": []
    },
    {
      "cell_type": "code",
      "source": [
        "dict1 = {'Name':'Dhoni','Age':41}\n",
        "dict1"
      ],
      "metadata": {
        "colab": {
          "base_uri": "https://localhost:8080/"
        },
        "id": "UYdQjj5v2lEu",
        "outputId": "d3d39e16-b85d-4614-b6a2-8eb651180309"
      },
      "execution_count": 48,
      "outputs": [
        {
          "output_type": "execute_result",
          "data": {
            "text/plain": [
              "{'Name': 'Dhoni', 'Age': 41}"
            ]
          },
          "metadata": {},
          "execution_count": 48
        }
      ]
    },
    {
      "cell_type": "code",
      "source": [
        "import json"
      ],
      "metadata": {
        "id": "GMf885xr2lJC"
      },
      "execution_count": 49,
      "outputs": []
    },
    {
      "cell_type": "code",
      "source": [
        "with open('player_details.json','w') as f:\n",
        "  json.dump(dict1,f)"
      ],
      "metadata": {
        "id": "0zTrrE7C2lNu"
      },
      "execution_count": 51,
      "outputs": []
    },
    {
      "cell_type": "code",
      "source": [
        "with open('player_details.json') as f:\n",
        "  data = json.load(f)\n",
        "  print(data)"
      ],
      "metadata": {
        "colab": {
          "base_uri": "https://localhost:8080/"
        },
        "id": "04ro4XPc2lRr",
        "outputId": "ad86f49f-79f8-4460-fe9e-0101704930ef"
      },
      "execution_count": 53,
      "outputs": [
        {
          "output_type": "stream",
          "name": "stdout",
          "text": [
            "{'Name': 'Dhoni', 'Age': 41}\n"
          ]
        }
      ]
    },
    {
      "cell_type": "code",
      "source": [],
      "metadata": {
        "id": "3ob_xkkG3TTv"
      },
      "execution_count": null,
      "outputs": []
    }
  ]
}