{
  "nbformat": 4,
  "nbformat_minor": 0,
  "metadata": {
    "colab": {
      "provenance": []
    },
    "kernelspec": {
      "name": "python3",
      "display_name": "Python 3"
    },
    "language_info": {
      "name": "python"
    }
  },
  "cells": [
    {
      "cell_type": "code",
      "execution_count": null,
      "metadata": {
        "id": "iS6aksrP1Rph"
      },
      "outputs": [],
      "source": [
        "# basic if statement\n",
        "# if Statement\n",
        "\n",
        "# The if statement allows conditional execution of code. If the condition evaluates to True, the block inside if runs."
      ]
    },
    {
      "cell_type": "code",
      "source": [
        "# if condition:\n",
        "    # Code to execute if condition is True"
      ],
      "metadata": {
        "id": "czVr9J1uZ6Iy"
      },
      "execution_count": null,
      "outputs": []
    },
    {
      "cell_type": "code",
      "source": [
        "x = 10\n",
        "if x > 5:\n",
        "  print(\"x is greater than 5\")"
      ],
      "metadata": {
        "colab": {
          "base_uri": "https://localhost:8080/"
        },
        "id": "kAoFJw0G2T7w",
        "outputId": "db63017f-8f0d-48a4-d34b-841800fa23dc"
      },
      "execution_count": 1,
      "outputs": [
        {
          "output_type": "stream",
          "name": "stdout",
          "text": [
            "x is greater than 5\n"
          ]
        }
      ]
    },
    {
      "cell_type": "code",
      "source": [
        "age = 18\n",
        "if age >= 18:\n",
        "    print(\"You are eligible to vote.\")"
      ],
      "metadata": {
        "colab": {
          "base_uri": "https://localhost:8080/"
        },
        "id": "vrw07eI0aCSx",
        "outputId": "72e589a6-6962-4be1-ea48-4aeaadce9bcc"
      },
      "execution_count": 6,
      "outputs": [
        {
          "output_type": "stream",
          "name": "stdout",
          "text": [
            "You are eligible to vote.\n"
          ]
        }
      ]
    },
    {
      "cell_type": "code",
      "source": [
        "score = 90\n",
        "if score >= 85:\n",
        "    print(\"Excellent performance!\")"
      ],
      "metadata": {
        "colab": {
          "base_uri": "https://localhost:8080/"
        },
        "id": "yfjd_g5NaIS-",
        "outputId": "7a3e0022-458c-4430-dac4-4474f4080503"
      },
      "execution_count": 5,
      "outputs": [
        {
          "output_type": "stream",
          "name": "stdout",
          "text": [
            "Excellent performance!\n"
          ]
        }
      ]
    },
    {
      "cell_type": "code",
      "source": [
        "num = -5\n",
        "if num < 0:\n",
        "    print(\"Negative number detected.\")"
      ],
      "metadata": {
        "colab": {
          "base_uri": "https://localhost:8080/"
        },
        "id": "oQbGKMmaaIWN",
        "outputId": "ad234d09-0bfc-49c3-f9d6-ce1411783de7"
      },
      "execution_count": 4,
      "outputs": [
        {
          "output_type": "stream",
          "name": "stdout",
          "text": [
            "Negative number detected.\n"
          ]
        }
      ]
    },
    {
      "cell_type": "code",
      "source": [
        "city = \"New York\"\n",
        "if city == \"New York\":\n",
        "    print(\"Welcome to NYC!\")"
      ],
      "metadata": {
        "colab": {
          "base_uri": "https://localhost:8080/"
        },
        "id": "3oIXRcaWaN5U",
        "outputId": "dbbb304d-335a-4296-baa4-4e8a608edf6a"
      },
      "execution_count": 3,
      "outputs": [
        {
          "output_type": "stream",
          "name": "stdout",
          "text": [
            "Welcome to NYC!\n"
          ]
        }
      ]
    },
    {
      "cell_type": "code",
      "source": [
        "\n",
        "speed = 80\n",
        "if speed > 60:\n",
        "    print(\"You are overspeeding!\")"
      ],
      "metadata": {
        "colab": {
          "base_uri": "https://localhost:8080/"
        },
        "id": "jfr4J3yTaN8j",
        "outputId": "e5ea462a-fc2e-421e-c077-3a69928a6b0b"
      },
      "execution_count": 2,
      "outputs": [
        {
          "output_type": "stream",
          "name": "stdout",
          "text": [
            "You are overspeeding!\n"
          ]
        }
      ]
    },
    {
      "cell_type": "code",
      "source": [
        "weather = \"Rainy\"\n",
        "if weather == \"Rainy\":\n",
        "    print(\"Take an umbrella!\")"
      ],
      "metadata": {
        "colab": {
          "base_uri": "https://localhost:8080/"
        },
        "id": "NjlExalDaSBT",
        "outputId": "6b5a9ae5-0c34-4844-e7be-6c6e42f1bbdf"
      },
      "execution_count": 1,
      "outputs": [
        {
          "output_type": "stream",
          "name": "stdout",
          "text": [
            "Take an umbrella!\n"
          ]
        }
      ]
    },
    {
      "cell_type": "code",
      "source": [
        "marks = 75\n",
        "if marks >= 40:\n",
        "    print(\"You passed the exam!\")"
      ],
      "metadata": {
        "colab": {
          "base_uri": "https://localhost:8080/"
        },
        "id": "gajsaYF0aSFG",
        "outputId": "590ac96d-ca05-4c21-f433-94e2a02af2e3"
      },
      "execution_count": 7,
      "outputs": [
        {
          "output_type": "stream",
          "name": "stdout",
          "text": [
            "You passed the exam!\n"
          ]
        }
      ]
    },
    {
      "cell_type": "code",
      "source": [
        "message = \"hello\"\n",
        "if \"h\" in message:\n",
        "    print(\"Message contains 'h'\")"
      ],
      "metadata": {
        "colab": {
          "base_uri": "https://localhost:8080/"
        },
        "id": "l2DCvb5zaaWF",
        "outputId": "fafc097a-2364-4299-8002-13fad8c0511f"
      },
      "execution_count": 8,
      "outputs": [
        {
          "output_type": "stream",
          "name": "stdout",
          "text": [
            "Message contains 'h'\n"
          ]
        }
      ]
    },
    {
      "cell_type": "code",
      "source": [
        "\n",
        "balance = 5000\n",
        "if balance >= 1000:\n",
        "    print(\"You have sufficient funds.\")"
      ],
      "metadata": {
        "colab": {
          "base_uri": "https://localhost:8080/"
        },
        "id": "Z0jKxjeoaaou",
        "outputId": "c1f76e0d-63fa-4388-d0bb-c485bd7263a6"
      },
      "execution_count": 9,
      "outputs": [
        {
          "output_type": "stream",
          "name": "stdout",
          "text": [
            "You have sufficient funds.\n"
          ]
        }
      ]
    },
    {
      "cell_type": "code",
      "source": [
        "# if-else Statement\n",
        "\n",
        "# The if-else statement provides an alternative execution when the condition is False."
      ],
      "metadata": {
        "id": "BG9C4PK4anPq"
      },
      "execution_count": null,
      "outputs": []
    },
    {
      "cell_type": "code",
      "source": [
        "# if condition:\n",
        "#     # Code executes if condition is True\n",
        "# else:\n",
        "#     # Code executes if condition is False"
      ],
      "metadata": {
        "id": "XMuMmOjwa161"
      },
      "execution_count": null,
      "outputs": []
    },
    {
      "cell_type": "code",
      "source": [
        "x = 4\n",
        "if x > 5:\n",
        "    print(\"x is greater than 5\")\n",
        "else:\n",
        "    print(\"x is not greater than 5\")"
      ],
      "metadata": {
        "colab": {
          "base_uri": "https://localhost:8080/"
        },
        "id": "NF_SB-v2bFYa",
        "outputId": "71fdd56c-9f71-4a8a-c4ae-a46b07f7698f"
      },
      "execution_count": 10,
      "outputs": [
        {
          "output_type": "stream",
          "name": "stdout",
          "text": [
            "x is not greater than 5\n"
          ]
        }
      ]
    },
    {
      "cell_type": "code",
      "source": [
        "\n",
        "marks = 45\n",
        "if marks >= 50:\n",
        "    print(\"Pass\")\n",
        "else:\n",
        "    print(\"Fail\")"
      ],
      "metadata": {
        "colab": {
          "base_uri": "https://localhost:8080/"
        },
        "id": "zVfK96BwbFbZ",
        "outputId": "98c81a28-46dd-4717-fd6f-547c7833e0b6"
      },
      "execution_count": 11,
      "outputs": [
        {
          "output_type": "stream",
          "name": "stdout",
          "text": [
            "Fail\n"
          ]
        }
      ]
    },
    {
      "cell_type": "code",
      "source": [
        "balance = 1000\n",
        "withdrawal = 1500\n",
        "if withdrawal <= balance:\n",
        "    print(\"Transaction successful\")\n",
        "else:\n",
        "    print(\"Insufficient funds\")"
      ],
      "metadata": {
        "colab": {
          "base_uri": "https://localhost:8080/"
        },
        "id": "xn4b-Fk_bFe9",
        "outputId": "743b4e3d-c439-4352-844c-0a5f687cfffa"
      },
      "execution_count": 12,
      "outputs": [
        {
          "output_type": "stream",
          "name": "stdout",
          "text": [
            "Insufficient funds\n"
          ]
        }
      ]
    },
    {
      "cell_type": "code",
      "source": [
        "age = 16\n",
        "if age >= 18:\n",
        "    print(\"Eligible for driving license\")\n",
        "else:\n",
        "    print(\"Not eligible for driving license\")"
      ],
      "metadata": {
        "colab": {
          "base_uri": "https://localhost:8080/"
        },
        "id": "KotbXlUmbMUP",
        "outputId": "b3340ef1-f669-4482-9368-027de866ff1e"
      },
      "execution_count": 13,
      "outputs": [
        {
          "output_type": "stream",
          "name": "stdout",
          "text": [
            "Not eligible for driving license\n"
          ]
        }
      ]
    },
    {
      "cell_type": "code",
      "source": [
        "num = -3\n",
        "if num >= 0:\n",
        "    print(\"Positive number\")\n",
        "else:\n",
        "    print(\"Negative number\")"
      ],
      "metadata": {
        "colab": {
          "base_uri": "https://localhost:8080/"
        },
        "id": "-RKQSbLWbMWv",
        "outputId": "a2624922-5b17-4de8-8d6f-e45aeb42a647"
      },
      "execution_count": 14,
      "outputs": [
        {
          "output_type": "stream",
          "name": "stdout",
          "text": [
            "Negative number\n"
          ]
        }
      ]
    },
    {
      "cell_type": "code",
      "source": [
        "password = \"admin123\"\n",
        "if password == \"admin\":\n",
        "    print(\"Access Granted\")\n",
        "else:\n",
        "    print(\"Access Denied\")"
      ],
      "metadata": {
        "colab": {
          "base_uri": "https://localhost:8080/"
        },
        "id": "2xGpgO2ZbMZ7",
        "outputId": "71e95237-70fb-48c9-d504-a8626f048785"
      },
      "execution_count": 15,
      "outputs": [
        {
          "output_type": "stream",
          "name": "stdout",
          "text": [
            "Access Denied\n"
          ]
        }
      ]
    },
    {
      "cell_type": "code",
      "source": [
        "traffic_light = \"red\"\n",
        "if traffic_light == \"green\":\n",
        "    print(\"You can go!\")\n",
        "else:\n",
        "    print(\"Stop!\")"
      ],
      "metadata": {
        "colab": {
          "base_uri": "https://localhost:8080/"
        },
        "id": "Y_4GFkYxbTxY",
        "outputId": "f6ac7a08-6aaf-4c7b-f284-1b750ff18807"
      },
      "execution_count": 16,
      "outputs": [
        {
          "output_type": "stream",
          "name": "stdout",
          "text": [
            "Stop!\n"
          ]
        }
      ]
    },
    {
      "cell_type": "code",
      "source": [
        "\n",
        "number = 20\n",
        "if number % 2 == 0:\n",
        "    print(\"Even Number\")\n",
        "else:\n",
        "    print(\"Odd Number\")"
      ],
      "metadata": {
        "colab": {
          "base_uri": "https://localhost:8080/"
        },
        "id": "imogTXmsbT0u",
        "outputId": "e92ad40d-5827-44cb-e9e2-603997c19077"
      },
      "execution_count": 17,
      "outputs": [
        {
          "output_type": "stream",
          "name": "stdout",
          "text": [
            "Even Number\n"
          ]
        }
      ]
    },
    {
      "cell_type": "code",
      "source": [
        "text = \"Python\"\n",
        "if \"P\" in text:\n",
        "    print(\"Contains P\")\n",
        "else:\n",
        "    print(\"Does not contain P\")"
      ],
      "metadata": {
        "colab": {
          "base_uri": "https://localhost:8080/"
        },
        "id": "MRz34C0UbYOo",
        "outputId": "683457dc-6a58-47bf-e555-edc139804f1a"
      },
      "execution_count": 18,
      "outputs": [
        {
          "output_type": "stream",
          "name": "stdout",
          "text": [
            "Contains P\n"
          ]
        }
      ]
    },
    {
      "cell_type": "code",
      "source": [
        "x = 10\n",
        "if x > 5:  # True\n",
        "  print(\"x is greater than 5\")\n",
        "else:\n",
        "  print('x is not greater than 5')"
      ],
      "metadata": {
        "colab": {
          "base_uri": "https://localhost:8080/"
        },
        "id": "shaVyaO_2Vbc",
        "outputId": "2465fe2b-49cb-4af1-f6f7-38b89042c703"
      },
      "execution_count": 2,
      "outputs": [
        {
          "output_type": "stream",
          "name": "stdout",
          "text": [
            "x is greater than 5\n"
          ]
        }
      ]
    },
    {
      "cell_type": "code",
      "source": [
        "x = 4\n",
        "if x > 5:  # False\n",
        "  print(\"x is greater than 5\")\n",
        "else:      # True\n",
        "  print('x is not greater than 5')"
      ],
      "metadata": {
        "id": "uTFE5Nr02VgF"
      },
      "execution_count": null,
      "outputs": []
    },
    {
      "cell_type": "code",
      "source": [
        "\n",
        "#  if-elif-else Statement\n",
        "\n",
        "# The if-elif-else statement allows multiple conditions to be checked sequentially."
      ],
      "metadata": {
        "id": "ldC41duZ3Ifc"
      },
      "execution_count": null,
      "outputs": []
    },
    {
      "cell_type": "code",
      "source": [
        "x = 7\n",
        "if x > 10:  # False\n",
        "  print(\"x is greater than 10\")\n",
        "\n",
        "elif x > 5: # True\n",
        "  print(\"x is greater than 5 but less than or equal to 10\")\n",
        "\n",
        "else:     # will not execute\n",
        "  print('x is less than or equal to 5')"
      ],
      "metadata": {
        "colab": {
          "base_uri": "https://localhost:8080/"
        },
        "id": "SPauo4ZA2_Ip",
        "outputId": "02894fb7-b88e-4cc7-c7cb-b4a11fbf9633"
      },
      "execution_count": 3,
      "outputs": [
        {
          "output_type": "stream",
          "name": "stdout",
          "text": [
            "x is greater than 5 but less than or equal to 10\n"
          ]
        }
      ]
    },
    {
      "cell_type": "code",
      "source": [
        "score = 85\n",
        "if score >= 90:\n",
        "    print(\"Grade: A\")\n",
        "elif score >= 75:\n",
        "    print(\"Grade: B\")\n",
        "elif score >= 50:\n",
        "    print(\"Grade: C\")\n",
        "else:\n",
        "    print(\"Grade: F\")"
      ],
      "metadata": {
        "colab": {
          "base_uri": "https://localhost:8080/"
        },
        "id": "9_LV74KAboQL",
        "outputId": "f39a1beb-86c6-4d20-c5fe-7071f6d8b58d"
      },
      "execution_count": 20,
      "outputs": [
        {
          "output_type": "stream",
          "name": "stdout",
          "text": [
            "Grade: B\n"
          ]
        }
      ]
    },
    {
      "cell_type": "code",
      "source": [
        "\n",
        "score = 85\n",
        "if score >= 90:\n",
        "    print(\"Grade: A\")\n",
        "elif score >= 75:\n",
        "    print(\"Grade: B\")\n",
        "elif score >= 50:\n",
        "    print(\"Grade: C\")\n",
        "else:\n",
        "    print(\"Grade: F\")"
      ],
      "metadata": {
        "colab": {
          "base_uri": "https://localhost:8080/"
        },
        "id": "61jD4JxlcHFt",
        "outputId": "873f6596-2aa2-416a-acc7-5434e0f0f487"
      },
      "execution_count": 21,
      "outputs": [
        {
          "output_type": "stream",
          "name": "stdout",
          "text": [
            "Grade: B\n"
          ]
        }
      ]
    },
    {
      "cell_type": "code",
      "source": [],
      "metadata": {
        "id": "4jwRP0VacHJH"
      },
      "execution_count": null,
      "outputs": []
    },
    {
      "cell_type": "code",
      "source": [
        "\n",
        "# Nested if-else Statements\n",
        "\n",
        "# An if-else statement inside another if-else is called nested if-else."
      ],
      "metadata": {
        "id": "grBWCs_F2_LR"
      },
      "execution_count": null,
      "outputs": []
    },
    {
      "cell_type": "code",
      "source": [
        "x  = 12\n",
        "\n",
        "if x > 10:   # True (12 > 10)\n",
        "  if x % 2 == 0:   # 12 % 2 = 0 # True\n",
        "    print('x is greater than 10 and it\\'s even no')\n",
        "  else:\n",
        "    print('x is greater than 10 and it\\s odd no')\n",
        "else:\n",
        "  print('x is less than or equal to 10')"
      ],
      "metadata": {
        "colab": {
          "base_uri": "https://localhost:8080/"
        },
        "id": "q9qwF-DZ3zZF",
        "outputId": "ff9b2ced-13ee-4a41-f9bc-f7a75a4b19dc"
      },
      "execution_count": 7,
      "outputs": [
        {
          "output_type": "stream",
          "name": "stdout",
          "text": [
            "x is greater than 10 and it's even no\n"
          ]
        }
      ]
    },
    {
      "cell_type": "code",
      "source": [
        "x  = 13\n",
        "\n",
        "if x > 10:   # True (13 > 10)\n",
        "  if x % 2 == 0:   # 13 % 2 = 1 # False\n",
        "    print('x is greater than 10 and it\\'s even no')\n",
        "  else:\n",
        "    print('x is greater than 10 and it\\'s odd no')\n",
        "else:\n",
        "  print('x is less than or equal to 10')"
      ],
      "metadata": {
        "colab": {
          "base_uri": "https://localhost:8080/"
        },
        "id": "wzhbnbvo5GOL",
        "outputId": "d7d1bdf3-6e07-48b4-92e3-e9b78d4c9aae"
      },
      "execution_count": 9,
      "outputs": [
        {
          "output_type": "stream",
          "name": "stdout",
          "text": [
            "x is greater than 10 and it's odd no\n"
          ]
        }
      ]
    },
    {
      "cell_type": "code",
      "source": [
        "x  = 9\n",
        "\n",
        "if x > 10:   # False  (9 > 10)\n",
        "  if x % 2 == 0:   # 12 % 2 = 0 # True\n",
        "    print('x is greater than 10 and it\\'s even no')\n",
        "  else:\n",
        "    print('x is greater than 10 and it\\s no')\n",
        "else:\n",
        "  print('x is less than or equal to 10')"
      ],
      "metadata": {
        "colab": {
          "base_uri": "https://localhost:8080/"
        },
        "id": "hBNoN9EQ3zbO",
        "outputId": "521db783-4ea2-4df8-8cd8-4152faf44d18"
      },
      "execution_count": 6,
      "outputs": [
        {
          "output_type": "stream",
          "name": "stdout",
          "text": [
            "x is less than or equal to 10\n"
          ]
        }
      ]
    },
    {
      "cell_type": "code",
      "source": [
        "age = 20\n",
        "gender = \"Male\"\n",
        "if age >= 18:\n",
        "    if gender == \"Male\":\n",
        "        print(\"Eligible for military service.\")\n",
        "    else:\n",
        "        print(\"Not required for military service.\")\n",
        "else:\n",
        "    print(\"Not eligible for military service.\")"
      ],
      "metadata": {
        "colab": {
          "base_uri": "https://localhost:8080/"
        },
        "id": "MT5C_HkjcYKA",
        "outputId": "8a5c5b32-4509-4ac5-de12-902c32f81621"
      },
      "execution_count": 22,
      "outputs": [
        {
          "output_type": "stream",
          "name": "stdout",
          "text": [
            "Eligible for military service.\n"
          ]
        }
      ]
    },
    {
      "cell_type": "code",
      "source": [
        "lst = [1,2,3,4,5]\n",
        "def square_num(lst):\n",
        "  even_list = []\n",
        "  odd_list = []\n",
        "  for num in lst:\n",
        "    if num % 2 == 0:\n",
        "      even_list.append(num)\n",
        "    else:\n",
        "      odd_list.append(num)\n",
        "\n",
        "    return even_list, odd_list  # break the loop\n",
        "\n",
        "\n",
        "square_num(lst)\n",
        "\n"
      ],
      "metadata": {
        "colab": {
          "base_uri": "https://localhost:8080/"
        },
        "id": "sAiJY0Ir5fwu",
        "outputId": "37446f2c-a32b-47cd-f740-25c61be29df7"
      },
      "execution_count": 12,
      "outputs": [
        {
          "output_type": "execute_result",
          "data": {
            "text/plain": [
              "([], [1])"
            ]
          },
          "metadata": {},
          "execution_count": 12
        }
      ]
    },
    {
      "cell_type": "code",
      "source": [
        "lst = [1,2,3,4,5]\n",
        "def square_num(lst):\n",
        "  even_list = []\n",
        "  odd_list = []\n",
        "  for num in lst:\n",
        "    if num % 2 == 0:\n",
        "      even_list.append(num)\n",
        "    else:\n",
        "      odd_list.append(num)\n",
        "\n",
        "  return even_list, odd_list  # break the loop\n",
        "\n",
        "\n",
        "square_num(lst)\n",
        ""
      ],
      "metadata": {
        "colab": {
          "base_uri": "https://localhost:8080/"
        },
        "id": "md5jdfU-7vpe",
        "outputId": "ff685340-1b55-489b-f9e4-7eb2fc41951a"
      },
      "execution_count": 13,
      "outputs": [
        {
          "output_type": "execute_result",
          "data": {
            "text/plain": [
              "([2, 4], [1, 3, 5])"
            ]
          },
          "metadata": {},
          "execution_count": 13
        }
      ]
    },
    {
      "cell_type": "code",
      "source": [
        "# ternary operator(short hand if and else statement)\n",
        "# The ternary operator is a one-line if-else statement.\n",
        "\n",
        "x = 8\n",
        "\n",
        "'x is greater than 5'  if x > 5  else \"x is less than  or equal to 5\""
      ],
      "metadata": {
        "colab": {
          "base_uri": "https://localhost:8080/",
          "height": 35
        },
        "id": "FY85rLSy5fy0",
        "outputId": "ff422ca7-4cdc-4401-b7f5-8016fd966041"
      },
      "execution_count": 14,
      "outputs": [
        {
          "output_type": "execute_result",
          "data": {
            "text/plain": [
              "'x is greater than 5'"
            ],
            "application/vnd.google.colaboratory.intrinsic+json": {
              "type": "string"
            }
          },
          "metadata": {},
          "execution_count": 14
        }
      ]
    },
    {
      "cell_type": "code",
      "source": [
        "num = 15\n",
        "result = \"Even\" if num % 2 == 0 else \"Odd\"\n",
        "print(result)"
      ],
      "metadata": {
        "colab": {
          "base_uri": "https://localhost:8080/"
        },
        "id": "fh8z0uCKckSf",
        "outputId": "49134826-7bf9-4497-9eb7-535e5c70c343"
      },
      "execution_count": 23,
      "outputs": [
        {
          "output_type": "stream",
          "name": "stdout",
          "text": [
            "Odd\n"
          ]
        }
      ]
    },
    {
      "cell_type": "code",
      "source": [
        "x = 4\n",
        "\n",
        "result = 'x is greater than 5'  if x > 5  else \"x is less than  or equal to 5\"\n",
        "print(result)"
      ],
      "metadata": {
        "colab": {
          "base_uri": "https://localhost:8080/"
        },
        "id": "9a5IcXb45f2g",
        "outputId": "5aa6e962-af3a-435d-8ef0-e97cffb49c83"
      },
      "execution_count": 16,
      "outputs": [
        {
          "output_type": "stream",
          "name": "stdout",
          "text": [
            "x is less than  or equal to 5\n"
          ]
        }
      ]
    },
    {
      "cell_type": "code",
      "source": [
        "# basic for lopp  # the for loop is used to iterate over a sequence (like a list, tuple, string)\n"
      ],
      "metadata": {
        "id": "9KmK1zBo3zd8"
      },
      "execution_count": null,
      "outputs": []
    },
    {
      "cell_type": "code",
      "source": [
        "name_list = ['Rohit','Shubham','Virat']\n",
        "\n",
        "for name in name_list:\n",
        "  print(name)"
      ],
      "metadata": {
        "colab": {
          "base_uri": "https://localhost:8080/"
        },
        "id": "VB3scQgZ8lN4",
        "outputId": "f90713bc-ada3-4fee-f5b2-3a9299db972c"
      },
      "execution_count": 17,
      "outputs": [
        {
          "output_type": "stream",
          "name": "stdout",
          "text": [
            "Rohit\n",
            "Shubham\n",
            "Virat\n"
          ]
        }
      ]
    },
    {
      "cell_type": "code",
      "source": [
        "name_list = ['Rohit','Shubham','Virat']\n",
        "\n",
        "for i,name in enumerate(name_list):\n",
        "  print(i,name)"
      ],
      "metadata": {
        "colab": {
          "base_uri": "https://localhost:8080/"
        },
        "id": "TWZE2ry_8lQF",
        "outputId": "3f811a95-2e7c-4b49-9a22-08ae057d86c6"
      },
      "execution_count": 18,
      "outputs": [
        {
          "output_type": "stream",
          "name": "stdout",
          "text": [
            "0 Rohit\n",
            "1 Shubham\n",
            "2 Virat\n"
          ]
        }
      ]
    },
    {
      "cell_type": "code",
      "source": [
        "name_list = ['Rohit','Shubham','Virat']\n",
        "cnt  = 0\n",
        "for name in (name_list):\n",
        "  print(cnt,name)\n",
        "  cnt +=1"
      ],
      "metadata": {
        "colab": {
          "base_uri": "https://localhost:8080/"
        },
        "id": "kxCjTwYK8lTb",
        "outputId": "4c277624-05b0-4b04-9b2f-64eb1301800a"
      },
      "execution_count": 19,
      "outputs": [
        {
          "output_type": "stream",
          "name": "stdout",
          "text": [
            "0 Rohit\n",
            "1 Shubham\n",
            "2 Virat\n"
          ]
        }
      ]
    },
    {
      "cell_type": "code",
      "source": [
        "for letter in \"Python\":\n",
        "    print(letter)"
      ],
      "metadata": {
        "colab": {
          "base_uri": "https://localhost:8080/"
        },
        "id": "g4cyvyN2cuRd",
        "outputId": "1177385e-2f53-41ae-8cf7-e16f6a581c57"
      },
      "execution_count": 24,
      "outputs": [
        {
          "output_type": "stream",
          "name": "stdout",
          "text": [
            "P\n",
            "y\n",
            "t\n",
            "h\n",
            "o\n",
            "n\n"
          ]
        }
      ]
    },
    {
      "cell_type": "code",
      "source": [
        "squares = []\n",
        "for i in range(1, 11):\n",
        "    squares.append(i**2)\n",
        "print(squares)"
      ],
      "metadata": {
        "colab": {
          "base_uri": "https://localhost:8080/"
        },
        "id": "xDcvNu3ncszO",
        "outputId": "3d34f8be-48c8-429d-dcac-c304619ab61f"
      },
      "execution_count": 25,
      "outputs": [
        {
          "output_type": "stream",
          "name": "stdout",
          "text": [
            "[1, 4, 9, 16, 25, 36, 49, 64, 81, 100]\n"
          ]
        }
      ]
    },
    {
      "cell_type": "code",
      "source": [
        "name_list = ['Rohit','Shubham','Virat']\n",
        "\n",
        "# name_list[::-1]\n",
        "\n",
        "for name in name_list[::-1]:\n",
        "  print(name)\n",
        ""
      ],
      "metadata": {
        "colab": {
          "base_uri": "https://localhost:8080/"
        },
        "id": "DFHK-0Kn8lW1",
        "outputId": "2b1d2a3e-5b09-485f-c88a-241e97473fe6"
      },
      "execution_count": 20,
      "outputs": [
        {
          "output_type": "stream",
          "name": "stdout",
          "text": [
            "Virat\n",
            "Shubham\n",
            "Rohit\n"
          ]
        }
      ]
    },
    {
      "cell_type": "code",
      "source": [
        "# without using slicing and indexing reverse list\n",
        "# homework\n",
        "\n",
        "empyt_string = ''\n",
        "empyt_list = []\n",
        "\n",
        "name_list = ['Rohit','Shubham','Virat']\n",
        "\n",
        "for word in name_list:\n",
        "  print(word)\n",
        ""
      ],
      "metadata": {
        "colab": {
          "base_uri": "https://localhost:8080/"
        },
        "id": "7aNGRdoP-JWc",
        "outputId": "749f33cd-c94b-4905-8e3d-e5439d4eecb8"
      },
      "execution_count": 36,
      "outputs": [
        {
          "output_type": "stream",
          "name": "stdout",
          "text": [
            "Rohit\n",
            "Shubham\n",
            "Virat\n"
          ]
        }
      ]
    },
    {
      "cell_type": "code",
      "source": [
        "# without using slicing and indexing reverse string\n",
        "# homework\n",
        "empyt_string = ''\n",
        "name_list = \"Rohit Shubham Virat\""
      ],
      "metadata": {
        "id": "2-yE1sqG-Jcs"
      },
      "execution_count": null,
      "outputs": []
    },
    {
      "cell_type": "code",
      "source": [
        "# range()\n",
        "range(11)"
      ],
      "metadata": {
        "colab": {
          "base_uri": "https://localhost:8080/"
        },
        "id": "uCx0kNu1-tFp",
        "outputId": "276e6a5b-6d4c-40d6-e2c5-f218fb7930a6"
      },
      "execution_count": 21,
      "outputs": [
        {
          "output_type": "execute_result",
          "data": {
            "text/plain": [
              "range(0, 11)"
            ]
          },
          "metadata": {},
          "execution_count": 21
        }
      ]
    },
    {
      "cell_type": "code",
      "source": [
        "for i in range(11):\n",
        "  print(i)"
      ],
      "metadata": {
        "colab": {
          "base_uri": "https://localhost:8080/"
        },
        "id": "Q-p9NUsd_Fzz",
        "outputId": "0f816877-1c0c-424f-b7fa-2f24b1d7c609"
      },
      "execution_count": 24,
      "outputs": [
        {
          "output_type": "stream",
          "name": "stdout",
          "text": [
            "0\n",
            "1\n",
            "2\n",
            "3\n",
            "4\n",
            "5\n",
            "6\n",
            "7\n",
            "8\n",
            "9\n",
            "10\n"
          ]
        }
      ]
    },
    {
      "cell_type": "code",
      "source": [
        "list(range(11))"
      ],
      "metadata": {
        "colab": {
          "base_uri": "https://localhost:8080/"
        },
        "id": "5yBx4G9w--cK",
        "outputId": "18aa587f-f716-42f1-8494-04582af76e02"
      },
      "execution_count": 23,
      "outputs": [
        {
          "output_type": "execute_result",
          "data": {
            "text/plain": [
              "[0, 1, 2, 3, 4, 5, 6, 7, 8, 9, 10]"
            ]
          },
          "metadata": {},
          "execution_count": 23
        }
      ]
    },
    {
      "cell_type": "code",
      "source": [
        "for i in list(range(11)):\n",
        "  print(i)"
      ],
      "metadata": {
        "colab": {
          "base_uri": "https://localhost:8080/"
        },
        "id": "v3iKYeKI-tPS",
        "outputId": "5b41500d-55d9-4003-fb13-ead9dc1a6012"
      },
      "execution_count": 25,
      "outputs": [
        {
          "output_type": "stream",
          "name": "stdout",
          "text": [
            "0\n",
            "1\n",
            "2\n",
            "3\n",
            "4\n",
            "5\n",
            "6\n",
            "7\n",
            "8\n",
            "9\n",
            "10\n"
          ]
        }
      ]
    },
    {
      "cell_type": "code",
      "source": [
        "for i in range(2, 10, 2):\n",
        "    print(i)  # Prints even numbers between 2 and 10"
      ],
      "metadata": {
        "colab": {
          "base_uri": "https://localhost:8080/"
        },
        "id": "lrmymwElc84c",
        "outputId": "2c2d273b-c8ba-48be-fd17-8598922b38fd"
      },
      "execution_count": 26,
      "outputs": [
        {
          "output_type": "stream",
          "name": "stdout",
          "text": [
            "2\n",
            "4\n",
            "6\n",
            "8\n"
          ]
        }
      ]
    },
    {
      "cell_type": "code",
      "source": [
        "\n",
        "for i in range(10, 0, -1):\n",
        "    print(i)  # Countdown from 10 to 1"
      ],
      "metadata": {
        "colab": {
          "base_uri": "https://localhost:8080/"
        },
        "id": "RB3ek8iac88E",
        "outputId": "37041dc5-ee6e-4c92-bd1a-119a1dbf681a"
      },
      "execution_count": 27,
      "outputs": [
        {
          "output_type": "stream",
          "name": "stdout",
          "text": [
            "10\n",
            "9\n",
            "8\n",
            "7\n",
            "6\n",
            "5\n",
            "4\n",
            "3\n",
            "2\n",
            "1\n"
          ]
        }
      ]
    },
    {
      "cell_type": "code",
      "source": [
        "# nested for loop"
      ],
      "metadata": {
        "id": "KFYHLDM8-tS8"
      },
      "execution_count": null,
      "outputs": []
    },
    {
      "cell_type": "code",
      "source": [
        "for i in range(3):  # 0,1,2\n",
        "  for j in range(2): # 0,1\n",
        "    print(f\" i = {i}, j = {j}\")  # i = 0, 0,   # 0 1  # 1,0 # 1,1  # 2,0 2,1"
      ],
      "metadata": {
        "colab": {
          "base_uri": "https://localhost:8080/"
        },
        "id": "_4K7iEyU3zgr",
        "outputId": "7c31c68d-f583-41eb-aefc-f6b9978f8dd2"
      },
      "execution_count": 26,
      "outputs": [
        {
          "output_type": "stream",
          "name": "stdout",
          "text": [
            " i = 0, j = 0\n",
            " i = 0, j = 1\n",
            " i = 1, j = 0\n",
            " i = 1, j = 1\n",
            " i = 2, j = 0\n",
            " i = 2, j = 1\n"
          ]
        }
      ]
    },
    {
      "cell_type": "code",
      "source": [
        "for i in range(3):  # 0,1,2\n",
        "  for j in range(2): # 0,1\n",
        "    print(f\" i = {i}, j = {j} and  multiplication of {i} and {j} is {i*j}\")"
      ],
      "metadata": {
        "colab": {
          "base_uri": "https://localhost:8080/"
        },
        "id": "bAAPPS8lAMOH",
        "outputId": "a9c87441-6247-4d10-a588-d5838f423925"
      },
      "execution_count": 27,
      "outputs": [
        {
          "output_type": "stream",
          "name": "stdout",
          "text": [
            " i = 0, j = 0 and  multiplication of 0 and 0 is 0\n",
            " i = 0, j = 1 and  multiplication of 0 and 1 is 0\n",
            " i = 1, j = 0 and  multiplication of 1 and 0 is 0\n",
            " i = 1, j = 1 and  multiplication of 1 and 1 is 1\n",
            " i = 2, j = 0 and  multiplication of 2 and 0 is 0\n",
            " i = 2, j = 1 and  multiplication of 2 and 1 is 2\n"
          ]
        }
      ]
    },
    {
      "cell_type": "code",
      "source": [
        "for i in range(1, 4):\n",
        "    for j in range(1, 4):\n",
        "        print(f\"{i} * {j} = {i * j}\")"
      ],
      "metadata": {
        "colab": {
          "base_uri": "https://localhost:8080/"
        },
        "id": "QsUWmDCZdH7y",
        "outputId": "b21198f1-4e2c-44ea-f216-39531f205f97"
      },
      "execution_count": 28,
      "outputs": [
        {
          "output_type": "stream",
          "name": "stdout",
          "text": [
            "1 * 1 = 1\n",
            "1 * 2 = 2\n",
            "1 * 3 = 3\n",
            "2 * 1 = 2\n",
            "2 * 2 = 4\n",
            "2 * 3 = 6\n",
            "3 * 1 = 3\n",
            "3 * 2 = 6\n",
            "3 * 3 = 9\n"
          ]
        }
      ]
    },
    {
      "cell_type": "code",
      "source": [
        "for i in range(1, 11):\n",
        "    for j in range(1,11):\n",
        "        print(f\"{i} * {j} = {i * j}\")"
      ],
      "metadata": {
        "colab": {
          "base_uri": "https://localhost:8080/"
        },
        "id": "adDSuI_GdMBB",
        "outputId": "9b3faac6-f0f2-4e4a-941f-8f4167a0f567"
      },
      "execution_count": 29,
      "outputs": [
        {
          "output_type": "stream",
          "name": "stdout",
          "text": [
            "1 * 1 = 1\n",
            "1 * 2 = 2\n",
            "1 * 3 = 3\n",
            "1 * 4 = 4\n",
            "1 * 5 = 5\n",
            "1 * 6 = 6\n",
            "1 * 7 = 7\n",
            "1 * 8 = 8\n",
            "1 * 9 = 9\n",
            "1 * 10 = 10\n",
            "2 * 1 = 2\n",
            "2 * 2 = 4\n",
            "2 * 3 = 6\n",
            "2 * 4 = 8\n",
            "2 * 5 = 10\n",
            "2 * 6 = 12\n",
            "2 * 7 = 14\n",
            "2 * 8 = 16\n",
            "2 * 9 = 18\n",
            "2 * 10 = 20\n",
            "3 * 1 = 3\n",
            "3 * 2 = 6\n",
            "3 * 3 = 9\n",
            "3 * 4 = 12\n",
            "3 * 5 = 15\n",
            "3 * 6 = 18\n",
            "3 * 7 = 21\n",
            "3 * 8 = 24\n",
            "3 * 9 = 27\n",
            "3 * 10 = 30\n",
            "4 * 1 = 4\n",
            "4 * 2 = 8\n",
            "4 * 3 = 12\n",
            "4 * 4 = 16\n",
            "4 * 5 = 20\n",
            "4 * 6 = 24\n",
            "4 * 7 = 28\n",
            "4 * 8 = 32\n",
            "4 * 9 = 36\n",
            "4 * 10 = 40\n",
            "5 * 1 = 5\n",
            "5 * 2 = 10\n",
            "5 * 3 = 15\n",
            "5 * 4 = 20\n",
            "5 * 5 = 25\n",
            "5 * 6 = 30\n",
            "5 * 7 = 35\n",
            "5 * 8 = 40\n",
            "5 * 9 = 45\n",
            "5 * 10 = 50\n",
            "6 * 1 = 6\n",
            "6 * 2 = 12\n",
            "6 * 3 = 18\n",
            "6 * 4 = 24\n",
            "6 * 5 = 30\n",
            "6 * 6 = 36\n",
            "6 * 7 = 42\n",
            "6 * 8 = 48\n",
            "6 * 9 = 54\n",
            "6 * 10 = 60\n",
            "7 * 1 = 7\n",
            "7 * 2 = 14\n",
            "7 * 3 = 21\n",
            "7 * 4 = 28\n",
            "7 * 5 = 35\n",
            "7 * 6 = 42\n",
            "7 * 7 = 49\n",
            "7 * 8 = 56\n",
            "7 * 9 = 63\n",
            "7 * 10 = 70\n",
            "8 * 1 = 8\n",
            "8 * 2 = 16\n",
            "8 * 3 = 24\n",
            "8 * 4 = 32\n",
            "8 * 5 = 40\n",
            "8 * 6 = 48\n",
            "8 * 7 = 56\n",
            "8 * 8 = 64\n",
            "8 * 9 = 72\n",
            "8 * 10 = 80\n",
            "9 * 1 = 9\n",
            "9 * 2 = 18\n",
            "9 * 3 = 27\n",
            "9 * 4 = 36\n",
            "9 * 5 = 45\n",
            "9 * 6 = 54\n",
            "9 * 7 = 63\n",
            "9 * 8 = 72\n",
            "9 * 9 = 81\n",
            "9 * 10 = 90\n",
            "10 * 1 = 10\n",
            "10 * 2 = 20\n",
            "10 * 3 = 30\n",
            "10 * 4 = 40\n",
            "10 * 5 = 50\n",
            "10 * 6 = 60\n",
            "10 * 7 = 70\n",
            "10 * 8 = 80\n",
            "10 * 9 = 90\n",
            "10 * 10 = 100\n"
          ]
        }
      ]
    },
    {
      "cell_type": "code",
      "source": [],
      "metadata": {
        "id": "cozKMnACdH-z"
      },
      "execution_count": null,
      "outputs": []
    },
    {
      "cell_type": "code",
      "source": [
        "# break statement\n",
        "# The break statement stops the loop when a condition is met."
      ],
      "metadata": {
        "id": "JuXD5K_82_OD"
      },
      "execution_count": null,
      "outputs": []
    },
    {
      "cell_type": "code",
      "source": [
        "for i in range(10): # 0,1,2,3,4,5,6,7,8,9\n",
        "  if i == 5:  # 0 ==5, ...........# 5 == 5\n",
        "    break    # break the loop and will not executes it further and stop the iteration exist the loop\n",
        "  print(i)"
      ],
      "metadata": {
        "colab": {
          "base_uri": "https://localhost:8080/"
        },
        "id": "acQvD1HQAmKX",
        "outputId": "f3c977c4-7483-4bf7-87a8-258289d98d28"
      },
      "execution_count": 28,
      "outputs": [
        {
          "output_type": "stream",
          "name": "stdout",
          "text": [
            "0\n",
            "1\n",
            "2\n",
            "3\n",
            "4\n"
          ]
        }
      ]
    },
    {
      "cell_type": "code",
      "source": [
        "# continue statement\n",
        "# The continue statement skips the current iteration and moves to the next one."
      ],
      "metadata": {
        "id": "79jg3AsjAmN5"
      },
      "execution_count": null,
      "outputs": []
    },
    {
      "cell_type": "code",
      "source": [
        "for i in range(10):\n",
        "    if i == 4:\n",
        "        continue  # Skips when i == 4\n",
        "    print(i)"
      ],
      "metadata": {
        "colab": {
          "base_uri": "https://localhost:8080/"
        },
        "id": "A4ICJMvbdhaG",
        "outputId": "a7274eff-e13a-4150-eab2-c6df2e885668"
      },
      "execution_count": 30,
      "outputs": [
        {
          "output_type": "stream",
          "name": "stdout",
          "text": [
            "0\n",
            "1\n",
            "2\n",
            "3\n",
            "5\n",
            "6\n",
            "7\n",
            "8\n",
            "9\n"
          ]
        }
      ]
    },
    {
      "cell_type": "code",
      "source": [
        "for i in range(10): # 0,1,2,3,4,5,6,7,8,9\n",
        "  if i == 5:  # 0 ==5, ...........# 5 == 5\n",
        "    continue   # skip the current itetration and continue for rest of the values of iteration\n",
        "  print(i)"
      ],
      "metadata": {
        "colab": {
          "base_uri": "https://localhost:8080/"
        },
        "id": "4oShGzgyBVRu",
        "outputId": "56123add-1588-498d-9401-ec1fa5646b98"
      },
      "execution_count": 29,
      "outputs": [
        {
          "output_type": "stream",
          "name": "stdout",
          "text": [
            "0\n",
            "1\n",
            "2\n",
            "3\n",
            "4\n",
            "6\n",
            "7\n",
            "8\n",
            "9\n"
          ]
        }
      ]
    },
    {
      "cell_type": "code",
      "source": [
        "# for loop with if and else statement"
      ],
      "metadata": {
        "id": "BYdK2bJ_BVUQ"
      },
      "execution_count": null,
      "outputs": []
    },
    {
      "cell_type": "code",
      "source": [
        "for i in range(1,11):  # 0,1,2\n",
        "  if i % 2 == 0:\n",
        "    print(\"number is even no\")\n",
        "  else:\n",
        "    print(\"number is odd no\")"
      ],
      "metadata": {
        "colab": {
          "base_uri": "https://localhost:8080/"
        },
        "id": "xhpWaog6CCAl",
        "outputId": "5e220132-9e2f-4978-b601-f5d3a7293cf7"
      },
      "execution_count": 32,
      "outputs": [
        {
          "output_type": "stream",
          "name": "stdout",
          "text": [
            "number is odd no\n",
            "number is even no\n",
            "number is odd no\n",
            "number is even no\n",
            "number is odd no\n",
            "number is even no\n",
            "number is odd no\n",
            "number is even no\n",
            "number is odd no\n",
            "number is even no\n"
          ]
        }
      ]
    },
    {
      "cell_type": "code",
      "source": [
        "for i in range(3):  # 0,1,2\n",
        "  print(i)\n",
        "else:\n",
        "  print(\"loop is finised\")"
      ],
      "metadata": {
        "colab": {
          "base_uri": "https://localhost:8080/"
        },
        "id": "RNNYXobNBVXs",
        "outputId": "17c9172d-cf3b-45c5-a966-7f69f5c3312e"
      },
      "execution_count": 30,
      "outputs": [
        {
          "output_type": "stream",
          "name": "stdout",
          "text": [
            "0\n",
            "1\n",
            "2\n",
            "loop is finised\n"
          ]
        }
      ]
    },
    {
      "cell_type": "code",
      "source": [
        "# list compression with for loop"
      ],
      "metadata": {
        "id": "SdZ3R2y4B-DI"
      },
      "execution_count": null,
      "outputs": []
    },
    {
      "cell_type": "code",
      "source": [
        "# list[expression for loop if condition]"
      ],
      "metadata": {
        "id": "xlEM9USmCfYC"
      },
      "execution_count": null,
      "outputs": []
    },
    {
      "cell_type": "code",
      "source": [
        "[x**2 for x in range(1,11)]"
      ],
      "metadata": {
        "colab": {
          "base_uri": "https://localhost:8080/"
        },
        "id": "g14UwogLCfar",
        "outputId": "887a7abb-03d3-4f6e-c3f3-bfd5dd53be47"
      },
      "execution_count": 33,
      "outputs": [
        {
          "output_type": "execute_result",
          "data": {
            "text/plain": [
              "[1, 4, 9, 16, 25, 36, 49, 64, 81, 100]"
            ]
          },
          "metadata": {},
          "execution_count": 33
        }
      ]
    },
    {
      "cell_type": "code",
      "source": [
        "[x**2 for x in range(1,11) if x % 2 == 0]"
      ],
      "metadata": {
        "colab": {
          "base_uri": "https://localhost:8080/"
        },
        "id": "dGrGgdj8CxBe",
        "outputId": "e1401443-4f43-4b3b-db28-88c071095f3c"
      },
      "execution_count": 34,
      "outputs": [
        {
          "output_type": "execute_result",
          "data": {
            "text/plain": [
              "[4, 16, 36, 64, 100]"
            ]
          },
          "metadata": {},
          "execution_count": 34
        }
      ]
    },
    {
      "cell_type": "code",
      "source": [
        "[x**2 for x in range(1,11) if x % 2 == 1]"
      ],
      "metadata": {
        "colab": {
          "base_uri": "https://localhost:8080/"
        },
        "id": "s7au13gzCxFa",
        "outputId": "73e0a05a-e903-4676-b962-275438a71d45"
      },
      "execution_count": 37,
      "outputs": [
        {
          "output_type": "execute_result",
          "data": {
            "text/plain": [
              "[1, 9, 25, 49, 81]"
            ]
          },
          "metadata": {},
          "execution_count": 37
        }
      ]
    },
    {
      "cell_type": "code",
      "source": [],
      "metadata": {
        "id": "8VIZ7cInCfeF"
      },
      "execution_count": null,
      "outputs": []
    }
  ]
}