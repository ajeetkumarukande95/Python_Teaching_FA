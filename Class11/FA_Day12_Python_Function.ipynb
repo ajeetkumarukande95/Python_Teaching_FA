{
  "nbformat": 4,
  "nbformat_minor": 0,
  "metadata": {
    "colab": {
      "provenance": []
    },
    "kernelspec": {
      "name": "python3",
      "display_name": "Python 3"
    },
    "language_info": {
      "name": "python"
    }
  },
  "cells": [
    {
      "cell_type": "code",
      "execution_count": null,
      "metadata": {
        "id": "__uXR-73HVNu"
      },
      "outputs": [],
      "source": [
        "\"\"\"\n",
        "What is a Function?\n",
        "A function in Python is a block of reusable code designed to perform a specific task. Functions help in modularity, reusability, and better code organization.\n",
        "\n",
        "Benefits of Using Functions\n",
        "Code Reusability – Avoid repetition by defining once and using multiple times.\n",
        "Code Readability – Makes code cleaner and easier to understand.\n",
        "Modular Programming – Breaks code into smaller, manageable parts.\n",
        "Scalability – Functions make it easier to modify and expand programs.\n",
        "\"\"\""
      ]
    },
    {
      "cell_type": "code",
      "source": [
        "\"\"\"\n",
        "Types of Functions in Python\n",
        "\n",
        "Built-in Functions – Predefined functions provided by Python.\n",
        "User-defined Functions – Functions created by the user.\n",
        "\"\"\""
      ],
      "metadata": {
        "id": "MU3Rp5WBImQn"
      },
      "execution_count": null,
      "outputs": []
    },
    {
      "cell_type": "code",
      "source": [
        "# Built in fucntions\n",
        "\n",
        "# Python provides many built-in functions, such as:\n",
        "\n",
        "# type(object): Returns the type of an object.\n",
        "# max(iterable): Returns the largest element from an iterable.\n",
        "# min(iterable): Returns the smallest element from an iterable.\n",
        "# id(object): Returns the unique ID of an object.\n"
      ],
      "metadata": {
        "id": "04PuNaYgImTl"
      },
      "execution_count": 75,
      "outputs": []
    },
    {
      "cell_type": "code",
      "source": [
        "\"\"\"\n",
        "Built-in Functions (Examples)\n",
        "Python has several built-in functions that perform common tasks.\n",
        "\"\"\""
      ],
      "metadata": {
        "id": "HS5TcKslo3WZ"
      },
      "execution_count": null,
      "outputs": []
    },
    {
      "cell_type": "code",
      "source": [
        "# Check data type\n",
        "print(type(10))  # <class 'int'>"
      ],
      "metadata": {
        "id": "hSjZTBdBpImT"
      },
      "execution_count": null,
      "outputs": []
    },
    {
      "cell_type": "code",
      "source": [
        "# Find maximum and minimum values in a list\n",
        "numbers = [2, 3, 5, 1, 7, 8]\n",
        "print(max(numbers))  # 8\n",
        "print(min(numbers))  # 1"
      ],
      "metadata": {
        "id": "qHVBIUD-o3g-"
      },
      "execution_count": null,
      "outputs": []
    },
    {
      "cell_type": "code",
      "source": [
        "# Get memory address of a variable\n",
        "x = 100\n",
        "print(id(x))  # Unique memory ID"
      ],
      "metadata": {
        "id": "L046U7EBo3k5"
      },
      "execution_count": null,
      "outputs": []
    },
    {
      "cell_type": "code",
      "source": [
        "\"\"\"\n",
        "Key Built-in Functions:\n",
        "print() – Prints output\n",
        "len() – Returns length of an object\n",
        "sum() – Returns the sum of elements\n",
        "sorted() – Sorts elements\n",
        "round() – Rounds a number\n",
        "\n",
        "\"\"\""
      ],
      "metadata": {
        "id": "0lDkM8wEpZSq"
      },
      "execution_count": null,
      "outputs": []
    },
    {
      "cell_type": "code",
      "source": [],
      "metadata": {
        "id": "WbxFzNbHpZWX"
      },
      "execution_count": null,
      "outputs": []
    },
    {
      "cell_type": "code",
      "source": [
        "# user defined functions"
      ],
      "metadata": {
        "id": "HiwSprqMImV3"
      },
      "execution_count": null,
      "outputs": []
    },
    {
      "cell_type": "code",
      "source": [],
      "metadata": {
        "id": "0dbkpyDEptpq"
      },
      "execution_count": null,
      "outputs": []
    },
    {
      "cell_type": "code",
      "source": [
        "# functions are organized block of reusable code\n",
        "def >> definitions"
      ],
      "metadata": {
        "id": "VhswkhtcImZN"
      },
      "execution_count": null,
      "outputs": []
    },
    {
      "cell_type": "code",
      "source": [
        "def my_functions_name(parameter1,parameter2):\n",
        "  state1\n",
        "  state2\n",
        "  return # optional\n"
      ],
      "metadata": {
        "id": "gI2hjwKUImcc"
      },
      "execution_count": 3,
      "outputs": []
    },
    {
      "cell_type": "code",
      "source": [
        "\"\"\"\n",
        "def – Defines a function\n",
        "function_name – Name of the function\n",
        "parameters – Inputs to the function (optional)\n",
        "return – Returns a value (optional)\n",
        "\"\"\""
      ],
      "metadata": {
        "id": "ezy2yKo4p3lj"
      },
      "execution_count": null,
      "outputs": []
    },
    {
      "cell_type": "code",
      "source": [
        "my_functions_name()"
      ],
      "metadata": {
        "id": "aBbQZb6nImgj"
      },
      "execution_count": 4,
      "outputs": []
    },
    {
      "cell_type": "code",
      "source": [
        "def my_fun():\n",
        "  print(\"Hello\")"
      ],
      "metadata": {
        "id": "a-mg7iJTImjT"
      },
      "execution_count": 5,
      "outputs": []
    },
    {
      "cell_type": "code",
      "source": [
        "my_fun()"
      ],
      "metadata": {
        "colab": {
          "base_uri": "https://localhost:8080/"
        },
        "id": "bc2lS1RQImlp",
        "outputId": "3ac13cb6-19cd-41ae-d636-497ab57eeac8"
      },
      "execution_count": 6,
      "outputs": [
        {
          "output_type": "stream",
          "name": "stdout",
          "text": [
            "Hello\n"
          ]
        }
      ]
    },
    {
      "cell_type": "code",
      "source": [
        "value = my_fun()\n",
        "print(value)"
      ],
      "metadata": {
        "colab": {
          "base_uri": "https://localhost:8080/"
        },
        "id": "hVX2aS5FImn3",
        "outputId": "f42fac4a-7105-454d-9fe7-00c7f22d04d8"
      },
      "execution_count": 7,
      "outputs": [
        {
          "output_type": "stream",
          "name": "stdout",
          "text": [
            "Hello\n",
            "None\n"
          ]
        }
      ]
    },
    {
      "cell_type": "code",
      "source": [
        "my_fun()"
      ],
      "metadata": {
        "colab": {
          "base_uri": "https://localhost:8080/"
        },
        "id": "3lDIDFHpJu22",
        "outputId": "dc04bcb6-5fa9-40fc-a691-ae9324babdf7"
      },
      "execution_count": 8,
      "outputs": [
        {
          "output_type": "stream",
          "name": "stdout",
          "text": [
            "Hello\n"
          ]
        }
      ]
    },
    {
      "cell_type": "code",
      "source": [
        "def add(a, b):\n",
        "    return a + b  # Returns sum\n",
        "\n",
        "result = add(10, 20)  # Calling function\n",
        "print(\"Sum:\", result)"
      ],
      "metadata": {
        "colab": {
          "base_uri": "https://localhost:8080/"
        },
        "id": "cKYA6fs4qB-x",
        "outputId": "c6dde791-7c46-41f1-8303-b9a1b4920cd6"
      },
      "execution_count": 1,
      "outputs": [
        {
          "output_type": "stream",
          "name": "stdout",
          "text": [
            "Sum: 30\n"
          ]
        }
      ]
    },
    {
      "cell_type": "code",
      "source": [
        "def function_name():\n",
        "  print(\"We are testing functions\")\n",
        "  print(\"Hello Python\")"
      ],
      "metadata": {
        "id": "mPZXhat1Jzvk"
      },
      "execution_count": 9,
      "outputs": []
    },
    {
      "cell_type": "code",
      "source": [
        "# call the functions\n",
        "function_name()"
      ],
      "metadata": {
        "colab": {
          "base_uri": "https://localhost:8080/"
        },
        "id": "3arzpuhpJ0Vl",
        "outputId": "faab7199-2131-42cf-9448-f040d2f65b60"
      },
      "execution_count": 10,
      "outputs": [
        {
          "output_type": "stream",
          "name": "stdout",
          "text": [
            "We are testing functions\n",
            "Hello Python\n"
          ]
        }
      ]
    },
    {
      "cell_type": "code",
      "source": [
        "def function_name():\n",
        "  print(\"We are testing functions\")\n",
        "  print(\"hello\")\n",
        "\n",
        "  for i in range(5):\n",
        "    print('Python is programming language')"
      ],
      "metadata": {
        "id": "GpfvKcjHJ0Zt"
      },
      "execution_count": 11,
      "outputs": []
    },
    {
      "cell_type": "code",
      "source": [
        "function_name()"
      ],
      "metadata": {
        "colab": {
          "base_uri": "https://localhost:8080/"
        },
        "id": "1qwr-PmhKNzd",
        "outputId": "b3512f47-b7c9-4058-8cf9-4b6edc8dbf1f"
      },
      "execution_count": 12,
      "outputs": [
        {
          "output_type": "stream",
          "name": "stdout",
          "text": [
            "We are testing functions\n",
            "hello\n",
            "Python is programming language\n",
            "Python is programming language\n",
            "Python is programming language\n",
            "Python is programming language\n",
            "Python is programming language\n"
          ]
        }
      ]
    },
    {
      "cell_type": "code",
      "source": [
        "function_name()\n",
        "print()\n",
        "function_name()"
      ],
      "metadata": {
        "colab": {
          "base_uri": "https://localhost:8080/"
        },
        "id": "unliaOfZKN2x",
        "outputId": "064dc954-53f2-46a9-89af-246e7b53e0fe"
      },
      "execution_count": 13,
      "outputs": [
        {
          "output_type": "stream",
          "name": "stdout",
          "text": [
            "We are testing functions\n",
            "hello\n",
            "Python is programming language\n",
            "Python is programming language\n",
            "Python is programming language\n",
            "Python is programming language\n",
            "Python is programming language\n",
            "\n",
            "We are testing functions\n",
            "hello\n",
            "Python is programming language\n",
            "Python is programming language\n",
            "Python is programming language\n",
            "Python is programming language\n",
            "Python is programming language\n"
          ]
        }
      ]
    },
    {
      "cell_type": "code",
      "source": [
        "# inbuilt functions"
      ],
      "metadata": {
        "id": "ml6AJ3g_KN6a"
      },
      "execution_count": null,
      "outputs": []
    },
    {
      "cell_type": "code",
      "source": [
        "list1 = [2,3,4,1,3,5,6,9]\n",
        "max(list1)"
      ],
      "metadata": {
        "colab": {
          "base_uri": "https://localhost:8080/"
        },
        "id": "6tUsz5cYK2xx",
        "outputId": "fd705163-52de-4e28-ee1c-1910b8807b7a"
      },
      "execution_count": 14,
      "outputs": [
        {
          "output_type": "execute_result",
          "data": {
            "text/plain": [
              "9"
            ]
          },
          "metadata": {},
          "execution_count": 14
        }
      ]
    },
    {
      "cell_type": "code",
      "source": [
        "list1 = [2,3,4,1,3,5,6,9]\n",
        "min(list1)"
      ],
      "metadata": {
        "colab": {
          "base_uri": "https://localhost:8080/"
        },
        "id": "H5BFrkGkK20O",
        "outputId": "fca70b0c-7d8d-4821-8103-2e7655eb9f5f"
      },
      "execution_count": 15,
      "outputs": [
        {
          "output_type": "execute_result",
          "data": {
            "text/plain": [
              "1"
            ]
          },
          "metadata": {},
          "execution_count": 15
        }
      ]
    },
    {
      "cell_type": "code",
      "source": [
        "list1 = [2,3,4,1,3,5,6,9]\n",
        "avg = sum(list1)/len(list1)\n",
        "avg"
      ],
      "metadata": {
        "colab": {
          "base_uri": "https://localhost:8080/"
        },
        "id": "bJ9xVrJRK23o",
        "outputId": "4b541884-578b-481f-a598-671a32799677"
      },
      "execution_count": 17,
      "outputs": [
        {
          "output_type": "execute_result",
          "data": {
            "text/plain": [
              "4.125"
            ]
          },
          "metadata": {},
          "execution_count": 17
        }
      ]
    },
    {
      "cell_type": "code",
      "source": [
        "# avg of 3 values"
      ],
      "metadata": {
        "id": "OTPKmVo7K26e"
      },
      "execution_count": null,
      "outputs": []
    },
    {
      "cell_type": "code",
      "source": [
        "a = 10\n",
        "b = 20\n",
        "c = 30\n",
        "avg = (a+b+c)/3\n",
        "avg"
      ],
      "metadata": {
        "colab": {
          "base_uri": "https://localhost:8080/"
        },
        "id": "hxCPrEysK29z",
        "outputId": "48f59d32-6373-411b-b52c-bf30f8ae70f6"
      },
      "execution_count": 18,
      "outputs": [
        {
          "output_type": "execute_result",
          "data": {
            "text/plain": [
              "20.0"
            ]
          },
          "metadata": {},
          "execution_count": 18
        }
      ]
    },
    {
      "cell_type": "code",
      "source": [
        "def average(a,b,c):\n",
        "  addition = a+b+c\n",
        "  print('Addition of numbers is: ',addition)\n",
        "\n",
        "  avg = addition/3\n",
        "  print('Average of numbers is: ',avg)\n",
        "\n",
        "average(10,20,30)"
      ],
      "metadata": {
        "colab": {
          "base_uri": "https://localhost:8080/"
        },
        "id": "z_DCQTfUK3Aq",
        "outputId": "7cc41582-31ec-4f48-860b-dc5929675385"
      },
      "execution_count": 21,
      "outputs": [
        {
          "output_type": "stream",
          "name": "stdout",
          "text": [
            "Addition of numbers is:  60\n",
            "Average of numbers is:  20.0\n"
          ]
        }
      ]
    },
    {
      "cell_type": "code",
      "source": [
        "def multip(a,b,c):\n",
        "  addition = a*b*c\n",
        "  print('Multiplication of numbers is: ',addition)\n",
        "\n",
        "multip(10,20,30)"
      ],
      "metadata": {
        "colab": {
          "base_uri": "https://localhost:8080/"
        },
        "id": "1oY6O2dbK3D1",
        "outputId": "106a0ce9-1257-436a-ce4b-4645b926258f"
      },
      "execution_count": 23,
      "outputs": [
        {
          "output_type": "stream",
          "name": "stdout",
          "text": [
            "Multiplication of numbers is:  6000\n"
          ]
        }
      ]
    },
    {
      "cell_type": "code",
      "source": [
        "def multip(a,b,c):   # a,b,c -arguments\n",
        "  addition = a*b*c\n",
        "  print('Multiplication of numbers is: ',addition)\n",
        "\n",
        "multip(20,20,20)   # argument must match while calling the functions"
      ],
      "metadata": {
        "colab": {
          "base_uri": "https://localhost:8080/"
        },
        "id": "9WR5VrCVK3Gx",
        "outputId": "731dba8c-9cbe-4c39-e9c1-917fb4916a63"
      },
      "execution_count": 24,
      "outputs": [
        {
          "output_type": "stream",
          "name": "stdout",
          "text": [
            "Multiplication of numbers is:  8000\n"
          ]
        }
      ]
    },
    {
      "cell_type": "code",
      "source": [
        "def multip(a,b,c):   # a,b,c -arguments\n",
        "  addition = a*b*c\n",
        "  print('Multiplication of numbers is: ',addition)\n",
        "\n",
        "multip(20,20)   # argument must match while calling the functions"
      ],
      "metadata": {
        "colab": {
          "base_uri": "https://localhost:8080/",
          "height": 176
        },
        "id": "yXaSGz-FK3Jw",
        "outputId": "68fecd64-49d5-4ca9-ebb6-d6405e95bc35"
      },
      "execution_count": 25,
      "outputs": [
        {
          "output_type": "error",
          "ename": "TypeError",
          "evalue": "multip() missing 1 required positional argument: 'c'",
          "traceback": [
            "\u001b[0;31m---------------------------------------------------------------------------\u001b[0m",
            "\u001b[0;31mTypeError\u001b[0m                                 Traceback (most recent call last)",
            "\u001b[0;32m<ipython-input-25-bfcfb75c10c2>\u001b[0m in \u001b[0;36m<cell line: 0>\u001b[0;34m()\u001b[0m\n\u001b[1;32m      3\u001b[0m   \u001b[0mprint\u001b[0m\u001b[0;34m(\u001b[0m\u001b[0;34m'Multiplication of numbers is: '\u001b[0m\u001b[0;34m,\u001b[0m\u001b[0maddition\u001b[0m\u001b[0;34m)\u001b[0m\u001b[0;34m\u001b[0m\u001b[0;34m\u001b[0m\u001b[0m\n\u001b[1;32m      4\u001b[0m \u001b[0;34m\u001b[0m\u001b[0m\n\u001b[0;32m----> 5\u001b[0;31m \u001b[0mmultip\u001b[0m\u001b[0;34m(\u001b[0m\u001b[0;36m20\u001b[0m\u001b[0;34m,\u001b[0m\u001b[0;36m20\u001b[0m\u001b[0;34m)\u001b[0m   \u001b[0;31m# argument must match while calling the functions\u001b[0m\u001b[0;34m\u001b[0m\u001b[0;34m\u001b[0m\u001b[0m\n\u001b[0m",
            "\u001b[0;31mTypeError\u001b[0m: multip() missing 1 required positional argument: 'c'"
          ]
        }
      ]
    },
    {
      "cell_type": "code",
      "source": [
        "# user input values and calculate avg"
      ],
      "metadata": {
        "id": "2G4sYeaOK3MI"
      },
      "execution_count": null,
      "outputs": []
    },
    {
      "cell_type": "code",
      "source": [
        "a = int(input())   # int >>> is used convert string into int, input >> user input values\n",
        "b = int(input())\n",
        "c = int(input())\n",
        "\n"
      ],
      "metadata": {
        "colab": {
          "base_uri": "https://localhost:8080/"
        },
        "id": "MKcofqVFK3OV",
        "outputId": "89a5cc3f-b039-46aa-f315-fd46ac4ba3c2"
      },
      "execution_count": 26,
      "outputs": [
        {
          "name": "stdout",
          "output_type": "stream",
          "text": [
            "10\n",
            "20\n",
            "30\n"
          ]
        }
      ]
    },
    {
      "cell_type": "code",
      "source": [
        "a = int(input())   # int >>> is used convert string into int, input >> user input values\n",
        "b = int(input())\n",
        "c = int(input())\n",
        "average(a,b,c)"
      ],
      "metadata": {
        "colab": {
          "base_uri": "https://localhost:8080/"
        },
        "id": "RjexaJBuK3Qi",
        "outputId": "d1b01bc3-145d-4642-e8c5-e6cce1d191f8"
      },
      "execution_count": 27,
      "outputs": [
        {
          "output_type": "stream",
          "name": "stdout",
          "text": [
            "10\n",
            "20\n",
            "30\n",
            "Addition of numbers is:  60\n",
            "Average of numbers is:  20.0\n"
          ]
        }
      ]
    },
    {
      "cell_type": "code",
      "source": [
        "# write a program to find even and odd numbers from list\n"
      ],
      "metadata": {
        "id": "_3lHfaIbKN86"
      },
      "execution_count": null,
      "outputs": []
    },
    {
      "cell_type": "code",
      "source": [
        "def get_even_odd_numbers(list1):\n",
        "  for num in list1:\n",
        "    if num % 2 == 0:\n",
        "      print(\"Numbers is Even!\")\n",
        "    else:\n",
        "      print(\"Number is Odd!\")\n",
        "\n",
        "get_even_odd_numbers([10,20,30,40,50,60])\n"
      ],
      "metadata": {
        "colab": {
          "base_uri": "https://localhost:8080/"
        },
        "id": "l7G9F38RNjoZ",
        "outputId": "38eecae2-fa2a-4336-a3b3-bb0bd65e5da4"
      },
      "execution_count": 31,
      "outputs": [
        {
          "output_type": "stream",
          "name": "stdout",
          "text": [
            "Numbers is Even!\n",
            "Numbers is Even!\n",
            "Numbers is Even!\n",
            "Numbers is Even!\n",
            "Numbers is Even!\n",
            "Numbers is Even!\n"
          ]
        }
      ]
    },
    {
      "cell_type": "code",
      "source": [
        "def get_even_odd_numbers(list1):\n",
        "  for num in list1:\n",
        "    if num % 2 == 0:\n",
        "      print(\"Numbers is Even :\",num)\n",
        "    else:\n",
        "      print(\"Number is Odd :\",num)\n",
        "\n",
        "get_even_odd_numbers([1,2,3,4,5,6])"
      ],
      "metadata": {
        "colab": {
          "base_uri": "https://localhost:8080/"
        },
        "id": "oGHG1sZZNjsf",
        "outputId": "425735f8-bbf3-4bb5-8ff6-000901253939"
      },
      "execution_count": 36,
      "outputs": [
        {
          "output_type": "stream",
          "name": "stdout",
          "text": [
            "Number is Odd : 1\n",
            "Numbers is Even : 2\n",
            "Number is Odd : 3\n",
            "Numbers is Even : 4\n",
            "Number is Odd : 5\n",
            "Numbers is Even : 6\n"
          ]
        }
      ]
    },
    {
      "cell_type": "code",
      "source": [
        "def get_even_odd_numbers(tuple1):\n",
        "  for num in list1:\n",
        "    if num % 2 == 0:\n",
        "      print(\"Numbers is Even :\",num)\n",
        "    else:\n",
        "      print(\"Number is Odd :\",num)\n",
        "\n",
        "get_even_odd_numbers((1,2,3,4,5,6))"
      ],
      "metadata": {
        "colab": {
          "base_uri": "https://localhost:8080/"
        },
        "id": "Gu8a01L9NjwN",
        "outputId": "0d96e3c3-118b-4bcc-cb5c-390a97d2d421"
      },
      "execution_count": 38,
      "outputs": [
        {
          "output_type": "stream",
          "name": "stdout",
          "text": [
            "Numbers is Even : 2\n",
            "Number is Odd : 3\n",
            "Numbers is Even : 4\n",
            "Number is Odd : 1\n",
            "Number is Odd : 3\n",
            "Number is Odd : 5\n",
            "Numbers is Even : 6\n",
            "Number is Odd : 9\n"
          ]
        }
      ]
    },
    {
      "cell_type": "code",
      "source": [
        "def get_even_odd_numbers(list1):\n",
        "  # for num in list1:\n",
        "  #   if num % 2 == 0:\n",
        "  #     print(\"Numbers is Even :\",num)\n",
        "\n",
        "  even_numbers = [num for num in list1 if num % 2 == 0 ]\n",
        "  odd_numbers = [num for num in list1 if num % 2  == 1]\n",
        "\n",
        "  print('Even Numbers in the list are:',even_numbers)\n",
        "  print('Odd Numbers in the list are:',odd_numbers)\n",
        "\n",
        "\n",
        "get_even_odd_numbers([1,2,3,4,5,6])"
      ],
      "metadata": {
        "colab": {
          "base_uri": "https://localhost:8080/"
        },
        "id": "3SyWZaVFNjzK",
        "outputId": "1872dfa9-7de7-4326-f641-3dad86f746b7"
      },
      "execution_count": 39,
      "outputs": [
        {
          "output_type": "stream",
          "name": "stdout",
          "text": [
            "Even Numbers in the list are: [2, 4, 6]\n",
            "Odd Numbers in the list are: [1, 3, 5]\n"
          ]
        }
      ]
    },
    {
      "cell_type": "code",
      "source": [
        "a,b,c = 10,20,30\n",
        "print(a)\n",
        "print(b)\n",
        "print(c)"
      ],
      "metadata": {
        "colab": {
          "base_uri": "https://localhost:8080/"
        },
        "id": "kkKAexW2Nj17",
        "outputId": "adc381e0-2101-44d8-c2ab-ff72a496a6e2"
      },
      "execution_count": 41,
      "outputs": [
        {
          "output_type": "stream",
          "name": "stdout",
          "text": [
            "10\n",
            "20\n",
            "30\n"
          ]
        }
      ]
    },
    {
      "cell_type": "code",
      "source": [
        "a,b,c = 10,20,30\n",
        "average(a,b,c)"
      ],
      "metadata": {
        "colab": {
          "base_uri": "https://localhost:8080/"
        },
        "id": "M4DC1Cy9Nj-M",
        "outputId": "03ebcf74-6eb7-4e5b-860c-e188d9ded49e"
      },
      "execution_count": 42,
      "outputs": [
        {
          "output_type": "stream",
          "name": "stdout",
          "text": [
            "Addition of numbers is:  60\n",
            "Average of numbers is:  20.0\n"
          ]
        }
      ]
    },
    {
      "cell_type": "code",
      "source": [
        "# Find square of first 5 numbers and last 5 numbers in given range"
      ],
      "metadata": {
        "id": "QU8T73imNkCE"
      },
      "execution_count": null,
      "outputs": []
    },
    {
      "cell_type": "code",
      "source": [
        "def square(start,end):\n",
        "  print(f\"start = {start}, end = {end}\")\n",
        "\n",
        "  sqr = [i**2 for i in range(start,start + 5)]\n",
        "\n",
        "  for i in range(end-4,end+1): # range of 5 numbers\n",
        "    sqr.append(i**2)\n",
        "\n",
        "  print(sqr)\n",
        "\n",
        "square(11,30)   # starte no >> 11,12,13,14,15, end no >> 26,27,28,29,30\n"
      ],
      "metadata": {
        "colab": {
          "base_uri": "https://localhost:8080/"
        },
        "id": "TYpa0wa0QElk",
        "outputId": "ebfaae18-f9ce-45c4-eccd-e72cc32c107b"
      },
      "execution_count": 43,
      "outputs": [
        {
          "output_type": "stream",
          "name": "stdout",
          "text": [
            "start = 11, end = 30\n",
            "[121, 144, 169, 196, 225, 676, 729, 784, 841, 900]\n"
          ]
        }
      ]
    },
    {
      "cell_type": "code",
      "source": [
        "square(1,20)"
      ],
      "metadata": {
        "colab": {
          "base_uri": "https://localhost:8080/"
        },
        "id": "BPshq2d-QEox",
        "outputId": "cbda502e-efc5-479c-c62e-ebdc465e3daa"
      },
      "execution_count": 45,
      "outputs": [
        {
          "output_type": "stream",
          "name": "stdout",
          "text": [
            "start = 1, end = 20\n",
            "[1, 4, 9, 16, 25, 256, 289, 324, 361, 400]\n"
          ]
        }
      ]
    },
    {
      "cell_type": "code",
      "source": [
        "# arbitory keyword aruments"
      ],
      "metadata": {
        "id": "OjENdVK3QEsm"
      },
      "execution_count": null,
      "outputs": []
    },
    {
      "cell_type": "code",
      "source": [
        "# Variable-Length Arguments\n",
        "# Arbitrary Positional Arguments (*args)\n",
        "# Used when the number of arguments is unknown."
      ],
      "metadata": {
        "id": "Tqjl4HEnnvM3"
      },
      "execution_count": null,
      "outputs": []
    },
    {
      "cell_type": "code",
      "source": [
        "\n",
        "# **kwargs   >> keyword arguments\n",
        "# datatypes of kwargs will be dict\n",
        "# whenver we dont know numbers of keywords arguments"
      ],
      "metadata": {
        "id": "jUCw4f9PRo7u"
      },
      "execution_count": null,
      "outputs": []
    },
    {
      "cell_type": "code",
      "source": [
        "\"\"\"\n",
        "Function with Default Parameters\n",
        "If a function parameter is not provided, default values are used.\n",
        "\"\"\""
      ],
      "metadata": {
        "id": "KXepYq5lqMBP"
      },
      "execution_count": null,
      "outputs": []
    },
    {
      "cell_type": "code",
      "source": [
        "def power(base, exponent=2):  # Default exponent is 2\n",
        "    return base ** exponent\n",
        "\n",
        "print(power(5))     # 5^2 = 25 (default exponent)\n",
        "print(power(5, 3))  # 5^3 = 125"
      ],
      "metadata": {
        "colab": {
          "base_uri": "https://localhost:8080/"
        },
        "id": "sVycBWFCqS13",
        "outputId": "750d3a3f-ca23-41ea-d4f1-411eec034bbe"
      },
      "execution_count": 2,
      "outputs": [
        {
          "output_type": "stream",
          "name": "stdout",
          "text": [
            "25\n",
            "125\n"
          ]
        }
      ]
    },
    {
      "cell_type": "code",
      "source": [
        "def marks(*args,phy = 90,che = 95, math = 99):\n",
        "  print(f'Phy=={phy}, Che=={che}, Math=={math}')\n",
        "  print(args)"
      ],
      "metadata": {
        "id": "tcMmNSaDRo_B"
      },
      "execution_count": 46,
      "outputs": []
    },
    {
      "cell_type": "code",
      "source": [
        "marks()"
      ],
      "metadata": {
        "colab": {
          "base_uri": "https://localhost:8080/"
        },
        "id": "GGSPseDDRpC1",
        "outputId": "fdacc215-0bdd-476f-ebf9-101298feb35c"
      },
      "execution_count": 47,
      "outputs": [
        {
          "output_type": "stream",
          "name": "stdout",
          "text": [
            "Phy==90, Che==95, Math==99\n",
            "()\n"
          ]
        }
      ]
    },
    {
      "cell_type": "code",
      "source": [
        "marks(80)"
      ],
      "metadata": {
        "colab": {
          "base_uri": "https://localhost:8080/"
        },
        "id": "bDOvPgQdRpGm",
        "outputId": "2cf1df39-ea94-466d-ecf8-90a94ae34110"
      },
      "execution_count": 48,
      "outputs": [
        {
          "output_type": "stream",
          "name": "stdout",
          "text": [
            "Phy==90, Che==95, Math==99\n",
            "(80,)\n"
          ]
        }
      ]
    },
    {
      "cell_type": "code",
      "source": [
        "marks(80,90)"
      ],
      "metadata": {
        "colab": {
          "base_uri": "https://localhost:8080/"
        },
        "id": "1VsT42fDRpJ7",
        "outputId": "ebf6ece5-1c3e-4cbb-e001-3002556746f4"
      },
      "execution_count": 49,
      "outputs": [
        {
          "output_type": "stream",
          "name": "stdout",
          "text": [
            "Phy==90, Che==95, Math==99\n",
            "(80, 90)\n"
          ]
        }
      ]
    },
    {
      "cell_type": "code",
      "source": [
        "marks(80,90,10)"
      ],
      "metadata": {
        "colab": {
          "base_uri": "https://localhost:8080/"
        },
        "id": "fxmMHdFaRpMd",
        "outputId": "a131729a-7e8d-419f-a65c-b4f4e6c867f3"
      },
      "execution_count": 50,
      "outputs": [
        {
          "output_type": "stream",
          "name": "stdout",
          "text": [
            "Phy==90, Che==95, Math==99\n",
            "(80, 90, 10)\n"
          ]
        }
      ]
    },
    {
      "cell_type": "code",
      "source": [
        "marks(1,2,3,4,math = 70, che = 80)"
      ],
      "metadata": {
        "colab": {
          "base_uri": "https://localhost:8080/"
        },
        "id": "M7ubaGy3RpOk",
        "outputId": "fbe4b3d2-f2de-4cc4-c924-3a87d3760b0f"
      },
      "execution_count": 51,
      "outputs": [
        {
          "output_type": "stream",
          "name": "stdout",
          "text": [
            "Phy==90, Che==80, Math==70\n",
            "(1, 2, 3, 4)\n"
          ]
        }
      ]
    },
    {
      "cell_type": "code",
      "source": [
        "marks(phy = 77, 1,2,3,4,math = 70, che = 80)  # positional argument follows keyword argument"
      ],
      "metadata": {
        "colab": {
          "base_uri": "https://localhost:8080/",
          "height": 106
        },
        "id": "BLP6-hl9TX4H",
        "outputId": "f449752a-8f79-4b9f-a388-4e8e597aa561"
      },
      "execution_count": 52,
      "outputs": [
        {
          "output_type": "error",
          "ename": "SyntaxError",
          "evalue": "positional argument follows keyword argument (<ipython-input-52-b46f9e05a934>, line 1)",
          "traceback": [
            "\u001b[0;36m  File \u001b[0;32m\"<ipython-input-52-b46f9e05a934>\"\u001b[0;36m, line \u001b[0;32m1\u001b[0m\n\u001b[0;31m    marks(phy = 77, 1,2,3,4,math = 70, che = 80)\u001b[0m\n\u001b[0m                                               ^\u001b[0m\n\u001b[0;31mSyntaxError\u001b[0m\u001b[0;31m:\u001b[0m positional argument follows keyword argument\n"
          ]
        }
      ]
    },
    {
      "cell_type": "code",
      "source": [
        "marks(1,2,3,4,phy = 77, math = 70, che = 80)"
      ],
      "metadata": {
        "colab": {
          "base_uri": "https://localhost:8080/"
        },
        "id": "cvrVs18kTX8x",
        "outputId": "df07b359-f71a-4366-83e1-fd36f5ff08d1"
      },
      "execution_count": 53,
      "outputs": [
        {
          "output_type": "stream",
          "name": "stdout",
          "text": [
            "Phy==77, Che==80, Math==70\n",
            "(1, 2, 3, 4)\n"
          ]
        }
      ]
    },
    {
      "cell_type": "code",
      "source": [
        "marks(1,2,3,4)"
      ],
      "metadata": {
        "colab": {
          "base_uri": "https://localhost:8080/"
        },
        "id": "vYFsVjH9Ts1J",
        "outputId": "c8413440-a778-47ff-ef05-80edc0f6a9b3"
      },
      "execution_count": 54,
      "outputs": [
        {
          "output_type": "stream",
          "name": "stdout",
          "text": [
            "Phy==90, Che==95, Math==99\n",
            "(1, 2, 3, 4)\n"
          ]
        }
      ]
    },
    {
      "cell_type": "code",
      "source": [
        "marks(1,2,3,4,phy = 98)"
      ],
      "metadata": {
        "colab": {
          "base_uri": "https://localhost:8080/"
        },
        "id": "qbRVbcvBUGZV",
        "outputId": "d4489f47-f345-4c2c-c605-2bae86915497"
      },
      "execution_count": 55,
      "outputs": [
        {
          "output_type": "stream",
          "name": "stdout",
          "text": [
            "Phy==98, Che==95, Math==99\n",
            "(1, 2, 3, 4)\n"
          ]
        }
      ]
    },
    {
      "cell_type": "code",
      "source": [
        "def marks(phy = 90,che = 95, math = 99):\n",
        "  print(f'Phy=={phy}, Che=={che}, Math=={math}')\n",
        ""
      ],
      "metadata": {
        "id": "bB_59WGxUNbZ"
      },
      "execution_count": 56,
      "outputs": []
    },
    {
      "cell_type": "code",
      "source": [
        "marks()"
      ],
      "metadata": {
        "colab": {
          "base_uri": "https://localhost:8080/"
        },
        "id": "cgqzuwImUUUK",
        "outputId": "6b84af8d-39ba-4b37-f56a-e182f32d4f51"
      },
      "execution_count": 57,
      "outputs": [
        {
          "output_type": "stream",
          "name": "stdout",
          "text": [
            "Phy==90, Che==95, Math==99\n"
          ]
        }
      ]
    },
    {
      "cell_type": "code",
      "source": [
        "marks(phy=98)"
      ],
      "metadata": {
        "colab": {
          "base_uri": "https://localhost:8080/"
        },
        "id": "qRJ4i_TSUUYD",
        "outputId": "68a60b44-a9b4-4d23-d316-af3949c28de0"
      },
      "execution_count": 58,
      "outputs": [
        {
          "output_type": "stream",
          "name": "stdout",
          "text": [
            "Phy==98, Che==95, Math==99\n"
          ]
        }
      ]
    },
    {
      "cell_type": "code",
      "source": [
        "marks(che=91)"
      ],
      "metadata": {
        "colab": {
          "base_uri": "https://localhost:8080/"
        },
        "id": "NoTb1ABNUUdB",
        "outputId": "3a4a5963-faa3-4354-c947-cd41f6c01d6b"
      },
      "execution_count": 59,
      "outputs": [
        {
          "output_type": "stream",
          "name": "stdout",
          "text": [
            "Phy==90, Che==91, Math==99\n"
          ]
        }
      ]
    },
    {
      "cell_type": "code",
      "source": [
        "def marks(*args):\n",
        "  print(args)\n",
        "\n",
        "marks(1,)\n",
        ""
      ],
      "metadata": {
        "colab": {
          "base_uri": "https://localhost:8080/"
        },
        "id": "sdmuMF_EUnxN",
        "outputId": "e2612fa5-4b46-4445-bd3f-6bdededb812c"
      },
      "execution_count": 62,
      "outputs": [
        {
          "output_type": "stream",
          "name": "stdout",
          "text": [
            "(1,)\n"
          ]
        }
      ]
    },
    {
      "cell_type": "code",
      "source": [
        "def marks(*args):\n",
        "  print(args)\n",
        "\n",
        "marks(1,2)"
      ],
      "metadata": {
        "colab": {
          "base_uri": "https://localhost:8080/"
        },
        "id": "zeiGEDG0U8hm",
        "outputId": "db44e7be-a861-4b77-9b44-cdf61b60a003"
      },
      "execution_count": 63,
      "outputs": [
        {
          "output_type": "stream",
          "name": "stdout",
          "text": [
            "(1, 2)\n"
          ]
        }
      ]
    },
    {
      "cell_type": "code",
      "source": [
        "def marks(*args):\n",
        "  print(args)\n",
        "\n",
        "marks(1,2,3)"
      ],
      "metadata": {
        "colab": {
          "base_uri": "https://localhost:8080/"
        },
        "id": "SgYAgY6JVF0v",
        "outputId": "ae90bbeb-b86d-4b99-ebea-d72f81faccd5"
      },
      "execution_count": 64,
      "outputs": [
        {
          "output_type": "stream",
          "name": "stdout",
          "text": [
            "(1, 2, 3)\n"
          ]
        }
      ]
    },
    {
      "cell_type": "code",
      "source": [
        "def marks(*args):   # * return in tuple\n",
        "  print(args)\n",
        "\n",
        "marks(1,2,3,4)"
      ],
      "metadata": {
        "colab": {
          "base_uri": "https://localhost:8080/"
        },
        "id": "dI5A_OAgVHvJ",
        "outputId": "08dcace9-a972-4b15-b954-141729b1b927"
      },
      "execution_count": 65,
      "outputs": [
        {
          "output_type": "stream",
          "name": "stdout",
          "text": [
            "(1, 2, 3, 4)\n"
          ]
        }
      ]
    },
    {
      "cell_type": "code",
      "source": [
        "def marks(*args):   # * return in tuple\n",
        "  print(args)\n",
        "  sum(args)\n",
        "  print(avg)\n",
        "\n",
        "marks(1,2,3,4)"
      ],
      "metadata": {
        "colab": {
          "base_uri": "https://localhost:8080/"
        },
        "id": "ovolXrbYWilM",
        "outputId": "31874710-4aa4-489b-8faf-475873ae9d57"
      },
      "execution_count": 72,
      "outputs": [
        {
          "output_type": "stream",
          "name": "stdout",
          "text": [
            "(1, 2, 3, 4)\n",
            "20.0\n"
          ]
        }
      ]
    },
    {
      "cell_type": "code",
      "source": [
        "def marks(*args):   # * return in tuple\n",
        "  print(args)\n",
        "  sum(args)\n",
        "  print(avg)\n",
        "\n",
        "marks(1,2,3,4,10,20,40)"
      ],
      "metadata": {
        "colab": {
          "base_uri": "https://localhost:8080/"
        },
        "id": "F-4KLvXwWwuw",
        "outputId": "7767da6f-6983-4470-e32b-838c7c9c4413"
      },
      "execution_count": 73,
      "outputs": [
        {
          "output_type": "stream",
          "name": "stdout",
          "text": [
            "(1, 2, 3, 4, 10, 20, 40)\n",
            "20.0\n"
          ]
        }
      ]
    },
    {
      "cell_type": "code",
      "source": [
        "\"\"\"\n",
        "Function with Keyword Arguments\n",
        "Keyword arguments allow us to pass parameters out of order.\n",
        "\n",
        "Example: Using Keyword Arguments\n",
        "\"\"\"\n",
        "def student(name, age):\n",
        "    print(f\"Student Name: {name}, Age: {age}\")\n",
        "\n",
        "student(age=20, name=\"Alice\")  # Order doesn't matter"
      ],
      "metadata": {
        "colab": {
          "base_uri": "https://localhost:8080/"
        },
        "id": "Evem9e8BqjNN",
        "outputId": "9ef73f1b-11f7-458e-c255-094bc434607f"
      },
      "execution_count": 3,
      "outputs": [
        {
          "output_type": "stream",
          "name": "stdout",
          "text": [
            "Student Name: Alice, Age: 20\n"
          ]
        }
      ]
    },
    {
      "cell_type": "code",
      "source": [
        "\"\"\"\n",
        "Function with *args (Multiple Arguments)\n",
        "*args allows a function to accept multiple arguments as a tuple.\n",
        "\n",
        "Example: Function with *args\n",
        "\"\"\""
      ],
      "metadata": {
        "colab": {
          "base_uri": "https://localhost:8080/",
          "height": 35
        },
        "id": "EYPyuZLoq0pd",
        "outputId": "31bc6a14-c2fb-4212-98cc-e6839a4a98cf"
      },
      "execution_count": 4,
      "outputs": [
        {
          "output_type": "execute_result",
          "data": {
            "text/plain": [
              "'\\nFunction with *args (Multiple Arguments)\\n*args allows a function to accept multiple arguments as a tuple.\\n\\nExample: Function with *args\\n'"
            ],
            "application/vnd.google.colaboratory.intrinsic+json": {
              "type": "string"
            }
          },
          "metadata": {},
          "execution_count": 4
        }
      ]
    },
    {
      "cell_type": "code",
      "source": [
        "\"\"\"\n",
        "Arbitrary Keyword Arguments (**kwargs)\n",
        "Used when the number of keyword arguments is unknown.\n",
        "\"\"\""
      ],
      "metadata": {
        "id": "DidY7-MQWio8"
      },
      "execution_count": null,
      "outputs": []
    },
    {
      "cell_type": "code",
      "source": [
        "\"\"\"\n",
        "Function with **kwargs (Keyword Arguments)\n",
        "**kwargs allows a function to accept multiple keyword arguments as a dictionary.\n",
        "\n",
        "\"\"\""
      ],
      "metadata": {
        "id": "Ysr66HCvrEjI"
      },
      "execution_count": null,
      "outputs": []
    },
    {
      "cell_type": "code",
      "source": [
        "def marks(**kwargs): # keywords arguments  (** return in  dictionary)\n",
        "  print('Kwargs  >> ', kwargs)\n",
        "  percentage = sum(kwargs.values())/ len(kwargs)\n",
        "\n",
        "  print(f'Percentage == {round(percentage,2)}%')\n",
        "\n"
      ],
      "metadata": {
        "id": "aiZQVcO8VKpu"
      },
      "execution_count": 66,
      "outputs": []
    },
    {
      "cell_type": "code",
      "source": [
        "marks(phy=80)"
      ],
      "metadata": {
        "colab": {
          "base_uri": "https://localhost:8080/"
        },
        "id": "R6DcWieAVN90",
        "outputId": "bdbc9906-24eb-4b7e-efec-2e5bc010b8e5"
      },
      "execution_count": 67,
      "outputs": [
        {
          "output_type": "stream",
          "name": "stdout",
          "text": [
            "Kwargs  >>  {'phy': 80}\n",
            "Percentage == 80.0%\n"
          ]
        }
      ]
    },
    {
      "cell_type": "code",
      "source": [
        "marks(phy=80,che = 80)"
      ],
      "metadata": {
        "colab": {
          "base_uri": "https://localhost:8080/"
        },
        "id": "Kdf4_pKtVOBa",
        "outputId": "43dd2bfd-a8d5-4e70-ded2-84a993bd77f2"
      },
      "execution_count": 68,
      "outputs": [
        {
          "output_type": "stream",
          "name": "stdout",
          "text": [
            "Kwargs  >>  {'phy': 80, 'che': 80}\n",
            "Percentage == 80.0%\n"
          ]
        }
      ]
    },
    {
      "cell_type": "code",
      "source": [
        "marks(phy = 80,che = 80, math = 99)"
      ],
      "metadata": {
        "colab": {
          "base_uri": "https://localhost:8080/"
        },
        "id": "shc41U0ZVOHT",
        "outputId": "b5cff545-23d6-496c-a452-0bef098a7ce9"
      },
      "execution_count": 69,
      "outputs": [
        {
          "output_type": "stream",
          "name": "stdout",
          "text": [
            "Kwargs  >>  {'phy': 80, 'che': 80, 'math': 99}\n",
            "Percentage == 86.33%\n"
          ]
        }
      ]
    },
    {
      "cell_type": "code",
      "source": [
        "marks(phy = 80,che = 80, math = 99,bio = 97)"
      ],
      "metadata": {
        "colab": {
          "base_uri": "https://localhost:8080/"
        },
        "id": "X7Hte1HKVOMa",
        "outputId": "dce59ea1-3f11-4254-b4dc-9a8ddac3adf4"
      },
      "execution_count": 70,
      "outputs": [
        {
          "output_type": "stream",
          "name": "stdout",
          "text": [
            "Kwargs  >>  {'phy': 80, 'che': 80, 'math': 99, 'bio': 97}\n",
            "Percentage == 89.0%\n"
          ]
        }
      ]
    },
    {
      "cell_type": "code",
      "source": [
        "\"\"\"\n",
        "Simple Function\tdef greet(): print(\"Hello\")\n",
        "Function with Parameters\tdef add(a, b): return a + b\n",
        "Default Parameters\tdef power(x, y=2): return x ** y\n",
        "Keyword Arguments\tdef student(name, age): print(name, age)\n",
        "*args (Multiple Arguments)\tdef sum_numbers(*args): return sum(args)\n",
        "**kwargs (Keyword Arguments)\tdef student_marks(**kwargs): print(kwargs)\n",
        "\"\"\""
      ],
      "metadata": {
        "id": "qv43qIh4Wfp3"
      },
      "execution_count": null,
      "outputs": []
    },
    {
      "cell_type": "code",
      "source": [
        "# Practice Questions"
      ],
      "metadata": {
        "id": "NwNL16TKsSOV"
      },
      "execution_count": null,
      "outputs": []
    },
    {
      "cell_type": "code",
      "source": [
        "# 1. Find the maximum of three numbers\n",
        "def find_max(a, b, c):\n",
        "    return max(a, b, c)\n",
        "\n",
        "# 2. Check if a number is prime\n",
        "def is_prime(n):\n",
        "    if n < 2:\n",
        "        return False\n",
        "    for i in range(2, int(n ** 0.5) + 1):\n",
        "        if n % i == 0:\n",
        "            return False\n",
        "    return True\n",
        "\n",
        "# 3. Factorial using recursion\n",
        "def factorial(n):\n",
        "    return 1 if n == 0 else n * factorial(n - 1)\n",
        "\n",
        "# 4. Sum of all even numbers in a list\n",
        "def sum_even(numbers):\n",
        "    return sum(num for num in numbers if num % 2 == 0)\n",
        "\n",
        "# 5. Reverse a string\n",
        "def reverse_string(s):\n",
        "    return s[::-1]\n",
        "\n",
        "# 6. Count word occurrences in a sentence\n",
        "def word_count(sentence):\n",
        "    words = sentence.split()\n",
        "    return {word: words.count(word) for word in set(words)}\n",
        "\n",
        "# 7. Check if a string is a palindrome\n",
        "def is_palindrome(s):\n",
        "    return s == s[::-1]\n",
        "\n",
        "# 8. Generate Fibonacci sequence up to n terms\n",
        "def fibonacci(n):\n",
        "    seq = [0, 1]\n",
        "    for _ in range(n - 2):\n",
        "        seq.append(seq[-1] + seq[-2])\n",
        "    return seq[:n]\n",
        "\n",
        "# 9. Find the second largest number in a list\n",
        "def second_largest(numbers):\n",
        "    unique_numbers = list(set(numbers))\n",
        "    unique_numbers.sort()\n",
        "    return unique_numbers[-2] if len(unique_numbers) > 1 else None\n",
        "\n",
        "# 10. Check if two strings are anagrams\n",
        "def is_anagram(s1, s2):\n",
        "    return sorted(s1) == sorted(s2)\n",
        "\n",
        "# Testing the functions\n",
        "print(find_max(10, 25, 15))  # 25\n",
        "print(is_prime(11))  # True\n",
        "print(factorial(5))  # 120\n",
        "print(sum_even([1, 2, 3, 4, 5, 6]))  # 12\n",
        "print(reverse_string(\"hello\"))  # \"olleh\"\n",
        "print(word_count(\"hello world hello\"))  # {'hello': 2, 'world': 1}\n",
        "print(is_palindrome(\"madam\"))  # True\n",
        "print(fibonacci(5))  # [0, 1, 1, 2, 3]\n",
        "print(second_largest([10, 20, 4, 45, 99]))  # 45\n",
        "print(is_anagram(\"listen\", \"silent\"))  # True"
      ],
      "metadata": {
        "id": "gGrQfHdrsSSb"
      },
      "execution_count": null,
      "outputs": []
    },
    {
      "cell_type": "code",
      "source": [
        "# 1. Find the GCD (Greatest Common Divisor) of two numbers\n",
        "import math\n",
        "def find_gcd(a, b):\n",
        "    return math.gcd(a, b)\n",
        "\n",
        "# 2. Find the LCM (Least Common Multiple) of two numbers\n",
        "def find_lcm(a, b):\n",
        "    return abs(a * b) // find_gcd(a, b)\n",
        "\n",
        "# 3. Check if a number is Armstrong\n",
        "def is_armstrong(n):\n",
        "    return n == sum(int(digit) ** len(str(n)) for digit in str(n))\n",
        "\n",
        "# 4. Find all prime numbers in a range\n",
        "def primes_in_range(start, end):\n",
        "    return [num for num in range(start, end + 1) if is_prime(num)]\n",
        "\n",
        "# 5. Find the sum of digits of a number\n",
        "def sum_of_digits(n):\n",
        "    return sum(int(digit) for digit in str(n))\n",
        "\n",
        "# 6. Generate a list of even and odd numbers separately from a list\n",
        "def even_odd_lists(numbers):\n",
        "    return ([num for num in numbers if num % 2 == 0],\n",
        "            [num for num in numbers if num % 2 != 0])\n",
        "\n",
        "# 7. Find the first `n` prime numbers\n",
        "def first_n_primes(n):\n",
        "    primes, num = [], 2\n",
        "    while len(primes) < n:\n",
        "        if is_prime(num):\n",
        "            primes.append(num)\n",
        "        num += 1\n",
        "    return primes\n",
        "\n",
        "# 8. Check if a number is a perfect number (sum of divisors = number)\n",
        "def is_perfect(n):\n",
        "    return sum(i for i in range(1, n) if n % i == 0) == n\n",
        "\n",
        "# 9. Generate Pascal's Triangle up to `n` rows\n",
        "def pascal_triangle(n):\n",
        "    triangle = [[1] * (i + 1) for i in range(n)]\n",
        "    for i in range(2, n):\n",
        "        for j in range(1, i):\n",
        "            triangle[i][j] = triangle[i - 1][j - 1] + triangle[i - 1][j]\n",
        "    return triangle\n",
        "\n",
        "# 10. Find the median of a list\n",
        "def find_median(numbers):\n",
        "    numbers.sort()\n",
        "    n = len(numbers)\n",
        "    mid = n // 2\n",
        "    return (numbers[mid] if n % 2 != 0 else (numbers[mid - 1] + numbers[mid]) / 2)\n",
        "\n",
        "# 11. Find the nth Fibonacci number using recursion\n",
        "def fibonacci_recursive(n):\n",
        "    return n if n <= 1 else fibonacci_recursive(n - 1) + fibonacci_recursive(n - 2)\n",
        "\n",
        "# 12. Check if a string is a Pangram (contains all alphabets)\n",
        "import string\n",
        "def is_pangram(s):\n",
        "    return set(string.ascii_lowercase).issubset(s.lower())\n",
        "\n",
        "# 13. Count vowels and consonants in a string\n",
        "def count_vowels_consonants(s):\n",
        "    vowels = \"aeiouAEIOU\"\n",
        "    v_count = sum(1 for ch in s if ch in vowels)\n",
        "    return v_count, len(s) - v_count\n",
        "\n",
        "# 14. Find the longest word in a sentence\n",
        "def longest_word(sentence):\n",
        "    words = sentence.split()\n",
        "    return max(words, key=len)\n",
        "\n",
        "# 15. Find the most frequent element in a list\n",
        "from collections import Counter\n",
        "def most_frequent(numbers):\n",
        "    return Counter(numbers).most_common(1)[0][0]\n",
        "\n",
        "# 16. Rotate a list by `k` positions\n",
        "def rotate_list(numbers, k):\n",
        "    k %= len(numbers)\n",
        "    return numbers[-k:] + numbers[:-k]\n",
        "\n",
        "# 17. Find common elements between two lists\n",
        "def common_elements(list1, list2):\n",
        "    return list(set(list1) & set(list2))\n",
        "\n",
        "# 18. Convert a decimal number to binary\n",
        "def decimal_to_binary(n):\n",
        "    return bin(n)[2:]\n",
        "\n",
        "# 19. Convert a binary number to decimal\n",
        "def binary_to_decimal(b):\n",
        "    return int(b, 2)\n",
        "\n",
        "# 20. Implement a function to check if a given string is a valid email\n",
        "import re\n",
        "def is_valid_email(email):\n",
        "    pattern = r'^[a-zA-Z0-9_.+-]+@[a-zA-Z0-9-]+\\.[a-zA-Z0-9-.]+$'\n",
        "    return bool(re.match(pattern, email))\n",
        "\n",
        "# Testing all functions\n",
        "print(find_gcd(48, 18))  # 6\n",
        "print(find_lcm(4, 6))  # 12\n",
        "print(is_armstrong(153))  # True\n",
        "print(primes_in_range(10, 50))  # [11, 13, 17, 19, ...]\n",
        "print(sum_of_digits(1234))  # 10\n",
        "print(even_odd_lists([1, 2, 3, 4, 5, 6]))  # ([2, 4, 6], [1, 3, 5])\n",
        "print(first_n_primes(5))  # [2, 3, 5, 7, 11]\n",
        "print(is_perfect(28))  # True\n",
        "print(pascal_triangle(5))  # Pascal's triangle rows\n",
        "print(find_median([3, 1, 4, 2, 5]))  # 3\n",
        "print(fibonacci_recursive(6))  # 8\n",
        "print(is_pangram(\"The quick brown fox jumps over the lazy dog\"))  # True\n",
        "print(count_vowels_consonants(\"Hello\"))  # (2, 3)\n",
        "print(longest_word(\"Python is amazing\"))  # \"amazing\"\n",
        "print(most_frequent([1, 2, 3, 2, 2, 4, 5]))  # 2\n",
        "print(rotate_list([1, 2, 3, 4, 5], 2))  # [4, 5, 1, 2, 3]\n",
        "print(common_elements([1, 2, 3], [2, 3, 4]))  # [2, 3]\n",
        "print(decimal_to_binary(10))  # \"1010\"\n",
        "print(binary_to_decimal(\"1010\"))  # 10\n",
        "print(is_valid_email(\"test@example.com\"))  # True\n"
      ],
      "metadata": {
        "id": "MxnXL4vcshDv"
      },
      "execution_count": null,
      "outputs": []
    }
  ]
}